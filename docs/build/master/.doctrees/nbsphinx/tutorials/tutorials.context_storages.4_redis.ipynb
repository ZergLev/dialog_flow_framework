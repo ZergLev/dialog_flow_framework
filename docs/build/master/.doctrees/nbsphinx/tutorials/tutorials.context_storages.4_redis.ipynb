{
 "cells": [
  {
   "cell_type": "markdown",
   "id": "4a515796",
   "metadata": {
    "cell_marker": "\"\"\""
   },
   "source": [
    "# 4. Redis\n",
    "\n",
    "This is a tutorial on using Redis.\n",
    "\n",
    "See [RedisContextStorage](../apiref/dff.context_storages.redis.rst#dff.context_storages.redis.RedisContextStorage) class\n",
    "for storing you users' contexts in Redis database.\n",
    "\n",
    "DFF uses [redis.asyncio](https://redis.readthedocs.io/en/latest/)\n",
    "library for asynchronous access to Redis DB."
   ]
  },
  {
   "cell_type": "code",
   "execution_count": 1,
   "id": "6817a08e",
   "metadata": {
    "execution": {
     "iopub.execute_input": "2024-04-21T05:19:53.800845Z",
     "iopub.status.busy": "2024-04-21T05:19:53.800438Z",
     "iopub.status.idle": "2024-04-21T05:19:55.994829Z",
     "shell.execute_reply": "2024-04-21T05:19:55.993998Z"
    }
   },
   "outputs": [
    {
     "name": "stdout",
     "output_type": "stream",
     "text": [
      "Note: you may need to restart the kernel to use updated packages.\n"
     ]
    }
   ],
   "source": [
    "# installing dependencies\n",
    "%pip install -q dff[redis]"
   ]
  },
  {
   "cell_type": "code",
   "execution_count": 2,
   "id": "438ba19c",
   "metadata": {
    "execution": {
     "iopub.execute_input": "2024-04-21T05:19:55.997984Z",
     "iopub.status.busy": "2024-04-21T05:19:55.997505Z",
     "iopub.status.idle": "2024-04-21T05:19:56.637990Z",
     "shell.execute_reply": "2024-04-21T05:19:56.637235Z"
    },
    "lines_to_next_cell": 2
   },
   "outputs": [],
   "source": [
    "import os\n",
    "\n",
    "from dff.context_storages import context_storage_factory\n",
    "\n",
    "from dff.pipeline import Pipeline\n",
    "from dff.utils.testing.common import (\n",
    "    check_happy_path,\n",
    "    is_interactive_mode,\n",
    "    run_interactive_mode,\n",
    ")\n",
    "from dff.utils.testing.toy_script import TOY_SCRIPT_ARGS, HAPPY_PATH"
   ]
  },
  {
   "cell_type": "code",
   "execution_count": 3,
   "id": "8314351e",
   "metadata": {
    "execution": {
     "iopub.execute_input": "2024-04-21T05:19:56.641466Z",
     "iopub.status.busy": "2024-04-21T05:19:56.640838Z",
     "iopub.status.idle": "2024-04-21T05:19:56.645145Z",
     "shell.execute_reply": "2024-04-21T05:19:56.644578Z"
    },
    "lines_to_next_cell": 2
   },
   "outputs": [],
   "source": [
    "db_uri = \"redis://{}:{}@localhost:6379/{}\".format(\n",
    "    \"\", os.environ[\"REDIS_PASSWORD\"], \"0\"\n",
    ")\n",
    "db = context_storage_factory(db_uri)\n",
    "\n",
    "\n",
    "pipeline = Pipeline.from_script(*TOY_SCRIPT_ARGS, context_storage=db)"
   ]
  },
  {
   "cell_type": "code",
   "execution_count": 4,
   "id": "be90e437",
   "metadata": {
    "execution": {
     "iopub.execute_input": "2024-04-21T05:19:56.647737Z",
     "iopub.status.busy": "2024-04-21T05:19:56.647404Z",
     "iopub.status.idle": "2024-04-21T05:19:56.665708Z",
     "shell.execute_reply": "2024-04-21T05:19:56.665070Z"
    }
   },
   "outputs": [
    {
     "name": "stdout",
     "output_type": "stream",
     "text": [
      "(user) >>> text='Hi'\n",
      " (bot) <<< text='Hi, how are you?'\n",
      "(user) >>> text='i'm fine, how are you?'\n",
      " (bot) <<< text='Good. What do you want to talk about?'\n",
      "(user) >>> text='Let's talk about music.'\n",
      " (bot) <<< text='Sorry, I can not talk about music now.'\n",
      "(user) >>> text='Ok, goodbye.'\n",
      " (bot) <<< text='bye'\n",
      "(user) >>> text='Hi'\n",
      " (bot) <<< text='Hi, how are you?'\n"
     ]
    }
   ],
   "source": [
    "if __name__ == \"__main__\":\n",
    "    check_happy_path(pipeline, HAPPY_PATH)\n",
    "    if is_interactive_mode():\n",
    "        run_interactive_mode(pipeline)"
   ]
  }
 ],
 "metadata": {
  "jupytext": {
   "cell_metadata_filter": "-all",
   "main_language": "python",
   "notebook_metadata_filter": "-all",
   "text_representation": {
    "extension": ".py",
    "format_name": "percent"
   }
  },
  "language_info": {
   "codemirror_mode": {
    "name": "ipython",
    "version": 3
   },
   "file_extension": ".py",
   "mimetype": "text/x-python",
   "name": "python",
   "nbconvert_exporter": "python",
   "pygments_lexer": "ipython3",
   "version": "3.9.19"
  }
 },
 "nbformat": 4,
 "nbformat_minor": 5
}
