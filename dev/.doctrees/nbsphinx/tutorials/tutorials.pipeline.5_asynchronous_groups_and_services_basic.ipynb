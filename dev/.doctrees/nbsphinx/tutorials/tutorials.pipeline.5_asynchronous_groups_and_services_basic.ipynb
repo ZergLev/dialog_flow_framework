{
 "cells": [
  {
   "cell_type": "markdown",
   "id": "3d7ebbc9",
   "metadata": {
    "cell_marker": "\"\"\""
   },
   "source": [
    "# 5. Asynchronous groups and services (basic)\n",
    "\n",
    "The following tutorial shows `pipeline` asynchronous\n",
    "service and service group usage.\n",
    "\n",
    "Here, [ServiceGroup](../apiref/dff.pipeline.service.group.rst#dff.pipeline.service.group.ServiceGroup)s\n",
    "are shown for advanced and asynchronous data pre- and postprocessing."
   ]
  },
  {
   "cell_type": "code",
   "execution_count": 1,
   "id": "619495ae",
   "metadata": {
    "execution": {
     "iopub.execute_input": "2024-04-18T12:51:36.668198Z",
     "iopub.status.busy": "2024-04-18T12:51:36.667502Z",
     "iopub.status.idle": "2024-04-18T12:51:39.067679Z",
     "shell.execute_reply": "2024-04-18T12:51:39.066784Z"
    }
   },
   "outputs": [
    {
     "name": "stdout",
     "output_type": "stream",
     "text": [
      "Note: you may need to restart the kernel to use updated packages.\n"
     ]
    }
   ],
   "source": [
    "# installing dependencies\n",
    "%pip install -q dff"
   ]
  },
  {
   "cell_type": "code",
   "execution_count": 2,
   "id": "4b891f73",
   "metadata": {
    "execution": {
     "iopub.execute_input": "2024-04-18T12:51:39.071406Z",
     "iopub.status.busy": "2024-04-18T12:51:39.071159Z",
     "iopub.status.idle": "2024-04-18T12:51:39.873065Z",
     "shell.execute_reply": "2024-04-18T12:51:39.872079Z"
    }
   },
   "outputs": [],
   "source": [
    "import asyncio\n",
    "\n",
    "from dff.pipeline import Pipeline, ACTOR\n",
    "\n",
    "from dff.utils.testing.common import (\n",
    "    is_interactive_mode,\n",
    "    check_happy_path,\n",
    "    run_interactive_mode,\n",
    ")\n",
    "from dff.utils.testing.toy_script import HAPPY_PATH, TOY_SCRIPT"
   ]
  },
  {
   "cell_type": "markdown",
   "id": "4b3b3d8d",
   "metadata": {
    "cell_marker": "\"\"\"",
    "lines_to_next_cell": 2
   },
   "source": [
    "Services and service groups can be synchronous and asynchronous.\n",
    "In synchronous service groups services are executed consequently.\n",
    "In asynchronous service groups all services are executed simultaneously.\n",
    "\n",
    "Service can be asynchronous if its handler is an async function.\n",
    "Service group can be asynchronous if all services\n",
    "and service groups inside it are asynchronous.\n",
    "\n",
    "Here there is an asynchronous service group, that contains 10 services,\n",
    "each of them should sleep for 0.01 of a second.\n",
    "However, as the group is asynchronous,\n",
    "it is being executed for 0.01 of a second in total.\n",
    "Service group can be synchronous or asynchronous."
   ]
  },
  {
   "cell_type": "code",
   "execution_count": 3,
   "id": "ec4f01d6",
   "metadata": {
    "execution": {
     "iopub.execute_input": "2024-04-18T12:51:39.881335Z",
     "iopub.status.busy": "2024-04-18T12:51:39.879002Z",
     "iopub.status.idle": "2024-04-18T12:51:39.889515Z",
     "shell.execute_reply": "2024-04-18T12:51:39.887456Z"
    }
   },
   "outputs": [],
   "source": [
    "async def time_consuming_service(_):\n",
    "    await asyncio.sleep(0.01)\n",
    "\n",
    "\n",
    "pipeline_dict = {\n",
    "    \"script\": TOY_SCRIPT,\n",
    "    \"start_label\": (\"greeting_flow\", \"start_node\"),\n",
    "    \"fallback_label\": (\"greeting_flow\", \"fallback_node\"),\n",
    "    \"components\": [\n",
    "        [time_consuming_service for _ in range(0, 10)],\n",
    "        ACTOR,\n",
    "    ],\n",
    "}"
   ]
  },
  {
   "cell_type": "code",
   "execution_count": 4,
   "id": "55b9cddd",
   "metadata": {
    "execution": {
     "iopub.execute_input": "2024-04-18T12:51:39.897853Z",
     "iopub.status.busy": "2024-04-18T12:51:39.896082Z",
     "iopub.status.idle": "2024-04-18T12:51:40.005778Z",
     "shell.execute_reply": "2024-04-18T12:51:40.004885Z"
    }
   },
   "outputs": [
    {
     "name": "stdout",
     "output_type": "stream",
     "text": [
      "(user) >>> text='Hi'\n",
      " (bot) <<< text='Hi, how are you?'\n",
      "(user) >>> text='i'm fine, how are you?'\n",
      " (bot) <<< text='Good. What do you want to talk about?'\n",
      "(user) >>> text='Let's talk about music.'\n",
      " (bot) <<< text='Sorry, I can not talk about music now.'\n",
      "(user) >>> text='Ok, goodbye.'\n",
      " (bot) <<< text='bye'\n",
      "(user) >>> text='Hi'\n",
      " (bot) <<< text='Hi, how are you?'\n"
     ]
    }
   ],
   "source": [
    "pipeline = Pipeline.from_dict(pipeline_dict)\n",
    "\n",
    "if __name__ == \"__main__\":\n",
    "    check_happy_path(pipeline, HAPPY_PATH)\n",
    "    if is_interactive_mode():\n",
    "        run_interactive_mode(pipeline)"
   ]
  }
 ],
 "metadata": {
  "jupytext": {
   "cell_metadata_filter": "-all",
   "main_language": "python",
   "notebook_metadata_filter": "-all",
   "text_representation": {
    "extension": ".py",
    "format_name": "percent"
   }
  },
  "language_info": {
   "codemirror_mode": {
    "name": "ipython",
    "version": 3
   },
   "file_extension": ".py",
   "mimetype": "text/x-python",
   "name": "python",
   "nbconvert_exporter": "python",
   "pygments_lexer": "ipython3",
   "version": "3.9.19"
  }
 },
 "nbformat": 4,
 "nbformat_minor": 5
}
