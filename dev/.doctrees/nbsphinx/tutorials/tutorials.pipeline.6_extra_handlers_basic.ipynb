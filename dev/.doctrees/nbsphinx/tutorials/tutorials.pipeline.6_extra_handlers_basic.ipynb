{
 "cells": [
  {
   "cell_type": "markdown",
   "id": "885de6b0",
   "metadata": {
    "cell_marker": "\"\"\""
   },
   "source": [
    "# 6. Extra Handlers (basic)\n",
    "\n",
    "The following tutorial shows extra handlers possibilities and use cases.\n",
    "\n",
    "Here, extra handlers [BeforeHandler](../apiref/dff.pipeline.service.extra.rst#dff.pipeline.service.extra.BeforeHandler)\n",
    "and [AfterHandler](../apiref/dff.pipeline.service.extra.rst#dff.pipeline.service.extra.AfterHandler)\n",
    "are shown as additional means of data processing, attached to services."
   ]
  },
  {
   "cell_type": "code",
   "execution_count": 1,
   "id": "9328b477",
   "metadata": {
    "execution": {
     "iopub.execute_input": "2024-04-18T11:42:48.037435Z",
     "iopub.status.busy": "2024-04-18T11:42:48.036801Z",
     "iopub.status.idle": "2024-04-18T11:42:50.309966Z",
     "shell.execute_reply": "2024-04-18T11:42:50.309168Z"
    }
   },
   "outputs": [
    {
     "name": "stdout",
     "output_type": "stream",
     "text": [
      "Note: you may need to restart the kernel to use updated packages.\n"
     ]
    }
   ],
   "source": [
    "# installing dependencies\n",
    "%pip install -q dff"
   ]
  },
  {
   "cell_type": "code",
   "execution_count": 2,
   "id": "2c9c7241",
   "metadata": {
    "execution": {
     "iopub.execute_input": "2024-04-18T11:42:50.313054Z",
     "iopub.status.busy": "2024-04-18T11:42:50.312605Z",
     "iopub.status.idle": "2024-04-18T11:42:51.069407Z",
     "shell.execute_reply": "2024-04-18T11:42:51.068595Z"
    }
   },
   "outputs": [],
   "source": [
    "import asyncio\n",
    "import json\n",
    "import logging\n",
    "import random\n",
    "from datetime import datetime\n",
    "\n",
    "from dff.script import Context\n",
    "\n",
    "from dff.pipeline import Pipeline, ServiceGroup, ExtraHandlerRuntimeInfo, ACTOR\n",
    "\n",
    "from dff.utils.testing.common import (\n",
    "    check_happy_path,\n",
    "    is_interactive_mode,\n",
    "    run_interactive_mode,\n",
    ")\n",
    "from dff.utils.testing.toy_script import HAPPY_PATH, TOY_SCRIPT\n",
    "\n",
    "logger = logging.getLogger(__name__)"
   ]
  },
  {
   "cell_type": "markdown",
   "id": "80ec060b",
   "metadata": {
    "cell_marker": "\"\"\""
   },
   "source": [
    "Extra handlers are additional function\n",
    "    lists (before-functions and/or after-functions)\n",
    "    that can be added to any `pipeline` components (service and service groups).\n",
    "Extra handlers main purpose should be service\n",
    "and service groups statistics collection.\n",
    "Extra handlers can be attached to pipeline component using\n",
    "`before_handler` and `after_handler` constructor parameter.\n",
    "\n",
    "Here 5 `heavy_service`s are run in single asynchronous service group.\n",
    "Each of them sleeps for random amount of seconds (between 0 and 0.05).\n",
    "To each of them (as well as to group)\n",
    "    time measurement extra handler is attached,\n",
    "    that writes execution time to `ctx.misc`.\n",
    "In the end `ctx.misc` is logged to info channel."
   ]
  },
  {
   "cell_type": "code",
   "execution_count": 3,
   "id": "45602434",
   "metadata": {
    "execution": {
     "iopub.execute_input": "2024-04-18T11:42:51.073435Z",
     "iopub.status.busy": "2024-04-18T11:42:51.072773Z",
     "iopub.status.idle": "2024-04-18T11:42:51.080257Z",
     "shell.execute_reply": "2024-04-18T11:42:51.079553Z"
    }
   },
   "outputs": [],
   "source": [
    "def collect_timestamp_before(ctx: Context, _, info: ExtraHandlerRuntimeInfo):\n",
    "    ctx.misc.update({f\"{info.component.name}\": datetime.now()})\n",
    "\n",
    "\n",
    "def collect_timestamp_after(ctx: Context, _, info: ExtraHandlerRuntimeInfo):\n",
    "    ctx.misc.update(\n",
    "        {\n",
    "            f\"{info.component.name}\": datetime.now()\n",
    "            - ctx.misc[f\"{info.component.name}\"]\n",
    "        }\n",
    "    )\n",
    "\n",
    "\n",
    "async def heavy_service(_):\n",
    "    await asyncio.sleep(random.randint(0, 5) / 100)\n",
    "\n",
    "\n",
    "def logging_service(ctx: Context):\n",
    "    logger.info(f\"Context misc: {json.dumps(ctx.misc, indent=4, default=str)}\")"
   ]
  },
  {
   "cell_type": "code",
   "execution_count": 4,
   "id": "16a17274",
   "metadata": {
    "execution": {
     "iopub.execute_input": "2024-04-18T11:42:51.083706Z",
     "iopub.status.busy": "2024-04-18T11:42:51.083223Z",
     "iopub.status.idle": "2024-04-18T11:42:51.090993Z",
     "shell.execute_reply": "2024-04-18T11:42:51.090290Z"
    }
   },
   "outputs": [],
   "source": [
    "pipeline_dict = {\n",
    "    \"script\": TOY_SCRIPT,\n",
    "    \"start_label\": (\"greeting_flow\", \"start_node\"),\n",
    "    \"fallback_label\": (\"greeting_flow\", \"fallback_node\"),\n",
    "    \"components\": [\n",
    "        ServiceGroup(\n",
    "            before_handler=[collect_timestamp_before],\n",
    "            after_handler=[collect_timestamp_after],\n",
    "            components=[\n",
    "                {\n",
    "                    \"handler\": heavy_service,\n",
    "                    \"before_handler\": [collect_timestamp_before],\n",
    "                    \"after_handler\": [collect_timestamp_after],\n",
    "                },\n",
    "                {\n",
    "                    \"handler\": heavy_service,\n",
    "                    \"before_handler\": [collect_timestamp_before],\n",
    "                    \"after_handler\": [collect_timestamp_after],\n",
    "                },\n",
    "                {\n",
    "                    \"handler\": heavy_service,\n",
    "                    \"before_handler\": [collect_timestamp_before],\n",
    "                    \"after_handler\": [collect_timestamp_after],\n",
    "                },\n",
    "                {\n",
    "                    \"handler\": heavy_service,\n",
    "                    \"before_handler\": [collect_timestamp_before],\n",
    "                    \"after_handler\": [collect_timestamp_after],\n",
    "                },\n",
    "                {\n",
    "                    \"handler\": heavy_service,\n",
    "                    \"before_handler\": [collect_timestamp_before],\n",
    "                    \"after_handler\": [collect_timestamp_after],\n",
    "                },\n",
    "            ],\n",
    "        ),\n",
    "        ACTOR,\n",
    "        logging_service,\n",
    "    ],\n",
    "}"
   ]
  },
  {
   "cell_type": "code",
   "execution_count": 5,
   "id": "efc7d92a",
   "metadata": {
    "execution": {
     "iopub.execute_input": "2024-04-18T11:42:51.094276Z",
     "iopub.status.busy": "2024-04-18T11:42:51.093764Z",
     "iopub.status.idle": "2024-04-18T11:42:51.323692Z",
     "shell.execute_reply": "2024-04-18T11:42:51.322876Z"
    }
   },
   "outputs": [
    {
     "name": "stdout",
     "output_type": "stream",
     "text": [
      "(user) >>> text='Hi'\n",
      " (bot) <<< text='Hi, how are you?'\n",
      "(user) >>> text='i'm fine, how are you?'\n",
      " (bot) <<< text='Good. What do you want to talk about?'\n",
      "(user) >>> text='Let's talk about music.'\n",
      " (bot) <<< text='Sorry, I can not talk about music now.'\n",
      "(user) >>> text='Ok, goodbye.'\n",
      " (bot) <<< text='bye'\n",
      "(user) >>> text='Hi'\n",
      " (bot) <<< text='Hi, how are you?'\n"
     ]
    }
   ],
   "source": [
    "pipeline = Pipeline(**pipeline_dict)\n",
    "\n",
    "if __name__ == \"__main__\":\n",
    "    check_happy_path(pipeline, HAPPY_PATH)\n",
    "    if is_interactive_mode():\n",
    "        run_interactive_mode(pipeline)"
   ]
  }
 ],
 "metadata": {
  "jupytext": {
   "cell_metadata_filter": "-all",
   "main_language": "python",
   "notebook_metadata_filter": "-all",
   "text_representation": {
    "extension": ".py",
    "format_name": "percent"
   }
  },
  "language_info": {
   "codemirror_mode": {
    "name": "ipython",
    "version": 3
   },
   "file_extension": ".py",
   "mimetype": "text/x-python",
   "name": "python",
   "nbconvert_exporter": "python",
   "pygments_lexer": "ipython3",
   "version": "3.9.19"
  }
 },
 "nbformat": 4,
 "nbformat_minor": 5
}
