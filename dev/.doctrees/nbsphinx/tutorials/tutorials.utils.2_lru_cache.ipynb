{
 "cells": [
  {
   "cell_type": "markdown",
   "id": "10701223",
   "metadata": {
    "cell_marker": "\"\"\""
   },
   "source": [
    "# 2. LRU Cache\n",
    "\n",
    "In this tutorial use of\n",
    "[lru_cache](../apiref/dff.utils.turn_caching.singleton_turn_caching.rst#dff.utils.turn_caching.singleton_turn_caching.lru_cache)\n",
    "function is demonstrated.\n",
    "\n",
    "This function is used a lot like `functools.lru_cache` function and\n",
    "helps by saving results of heavy function execution and avoiding recalculation.\n",
    "\n",
    "Caches are kept in a library-wide singleton\n",
    "and are cleared at the end of each turn.\n",
    "\n",
    "Maximum size parameter limits the amount of function execution results cached."
   ]
  },
  {
   "cell_type": "code",
   "execution_count": 1,
   "id": "3204720a",
   "metadata": {
    "execution": {
     "iopub.execute_input": "2024-04-27T06:55:51.694866Z",
     "iopub.status.busy": "2024-04-27T06:55:51.694645Z",
     "iopub.status.idle": "2024-04-27T06:55:53.809009Z",
     "shell.execute_reply": "2024-04-27T06:55:53.808214Z"
    }
   },
   "outputs": [
    {
     "name": "stdout",
     "output_type": "stream",
     "text": [
      "Note: you may need to restart the kernel to use updated packages.\n"
     ]
    }
   ],
   "source": [
    "# installing dependencies\n",
    "%pip install -q dff"
   ]
  },
  {
   "cell_type": "code",
   "execution_count": 2,
   "id": "d049fb55",
   "metadata": {
    "execution": {
     "iopub.execute_input": "2024-04-27T06:55:53.812216Z",
     "iopub.status.busy": "2024-04-27T06:55:53.811789Z",
     "iopub.status.idle": "2024-04-27T06:55:54.464949Z",
     "shell.execute_reply": "2024-04-27T06:55:54.464324Z"
    }
   },
   "outputs": [],
   "source": [
    "from dff.script.conditions import true\n",
    "from dff.script import Context, TRANSITIONS, RESPONSE, Message\n",
    "from dff.script.labels import repeat\n",
    "from dff.pipeline import Pipeline\n",
    "from dff.utils.turn_caching import lru_cache\n",
    "from dff.utils.testing.common import (\n",
    "    check_happy_path,\n",
    "    is_interactive_mode,\n",
    "    run_interactive_mode,\n",
    ")\n",
    "\n",
    "external_data = {\"counter\": 0}"
   ]
  },
  {
   "cell_type": "code",
   "execution_count": 3,
   "id": "df23f591",
   "metadata": {
    "execution": {
     "iopub.execute_input": "2024-04-27T06:55:54.468329Z",
     "iopub.status.busy": "2024-04-27T06:55:54.467729Z",
     "iopub.status.idle": "2024-04-27T06:55:54.472419Z",
     "shell.execute_reply": "2024-04-27T06:55:54.471788Z"
    }
   },
   "outputs": [],
   "source": [
    "@lru_cache(maxsize=2)\n",
    "def cached_response(_):\n",
    "    \"\"\"\n",
    "    This function will work exactly the same as the one from previous\n",
    "    tutorial with only one exception.\n",
    "    Only 2 results will be stored;\n",
    "    when the function will be executed with third arguments set,\n",
    "    the least recent result will be deleted.\n",
    "    \"\"\"\n",
    "    external_data[\"counter\"] += 1\n",
    "    return external_data[\"counter\"]\n",
    "\n",
    "\n",
    "def response(ctx: Context, _, *__, **___) -> Message:\n",
    "    if ctx.validation:\n",
    "        return Message()\n",
    "    return Message(\n",
    "        text=f\"{cached_response(1)}-{cached_response(2)}-{cached_response(3)}-\"\n",
    "        f\"{cached_response(2)}-{cached_response(1)}\"\n",
    "    )"
   ]
  },
  {
   "cell_type": "code",
   "execution_count": 4,
   "id": "9908e96e",
   "metadata": {
    "execution": {
     "iopub.execute_input": "2024-04-27T06:55:54.475110Z",
     "iopub.status.busy": "2024-04-27T06:55:54.474678Z",
     "iopub.status.idle": "2024-04-27T06:55:54.479159Z",
     "shell.execute_reply": "2024-04-27T06:55:54.478595Z"
    }
   },
   "outputs": [],
   "source": [
    "toy_script = {\n",
    "    \"flow\": {\"node1\": {TRANSITIONS: {repeat(): true()}, RESPONSE: response}}\n",
    "}\n",
    "\n",
    "happy_path = (\n",
    "    (Message(), Message(\"1-2-3-2-4\")),\n",
    "    (Message(), Message(\"5-6-7-6-8\")),\n",
    "    (Message(), Message(\"9-10-11-10-12\")),\n",
    ")\n",
    "\n",
    "pipeline = Pipeline.from_script(toy_script, start_label=(\"flow\", \"node1\"))"
   ]
  },
  {
   "cell_type": "code",
   "execution_count": 5,
   "id": "a56a11bf",
   "metadata": {
    "execution": {
     "iopub.execute_input": "2024-04-27T06:55:54.481437Z",
     "iopub.status.busy": "2024-04-27T06:55:54.481234Z",
     "iopub.status.idle": "2024-04-27T06:55:54.492782Z",
     "shell.execute_reply": "2024-04-27T06:55:54.492038Z"
    }
   },
   "outputs": [
    {
     "name": "stdout",
     "output_type": "stream",
     "text": [
      "(user) >>> \n",
      " (bot) <<< text='1-2-3-2-4'\n",
      "(user) >>> \n",
      " (bot) <<< text='5-6-7-6-8'\n",
      "(user) >>> \n",
      " (bot) <<< text='9-10-11-10-12'\n"
     ]
    }
   ],
   "source": [
    "if __name__ == \"__main__\":\n",
    "    check_happy_path(pipeline, happy_path)\n",
    "    if is_interactive_mode():\n",
    "        run_interactive_mode(pipeline)"
   ]
  }
 ],
 "metadata": {
  "jupytext": {
   "cell_metadata_filter": "-all",
   "main_language": "python",
   "notebook_metadata_filter": "-all",
   "text_representation": {
    "extension": ".py",
    "format_name": "percent"
   }
  },
  "language_info": {
   "codemirror_mode": {
    "name": "ipython",
    "version": 3
   },
   "file_extension": ".py",
   "mimetype": "text/x-python",
   "name": "python",
   "nbconvert_exporter": "python",
   "pygments_lexer": "ipython3",
   "version": "3.9.19"
  }
 },
 "nbformat": 4,
 "nbformat_minor": 5
}
