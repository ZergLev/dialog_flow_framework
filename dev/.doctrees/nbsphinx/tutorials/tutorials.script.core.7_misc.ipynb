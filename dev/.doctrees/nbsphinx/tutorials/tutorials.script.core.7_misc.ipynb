{
 "cells": [
  {
   "cell_type": "markdown",
   "id": "c2788b16",
   "metadata": {
    "cell_marker": "\"\"\""
   },
   "source": [
    "# Core: 8. Misc\n",
    "\n",
    "This tutorial shows `MISC` (miscellaneous) keyword usage.\n",
    "\n",
    "See [MISC](../apiref/dff.script.core.keywords.rst#dff.script.core.keywords.Keywords.MISC)\n",
    "for more information.\n",
    "\n",
    "First of all, let's do all the necessary imports from DFF."
   ]
  },
  {
   "cell_type": "code",
   "execution_count": 1,
   "id": "a527df71",
   "metadata": {
    "execution": {
     "iopub.execute_input": "2024-04-27T06:55:15.099660Z",
     "iopub.status.busy": "2024-04-27T06:55:15.099408Z",
     "iopub.status.idle": "2024-04-27T06:55:17.190958Z",
     "shell.execute_reply": "2024-04-27T06:55:17.190175Z"
    }
   },
   "outputs": [
    {
     "name": "stdout",
     "output_type": "stream",
     "text": [
      "Note: you may need to restart the kernel to use updated packages.\n"
     ]
    }
   ],
   "source": [
    "# installing dependencies\n",
    "%pip install -q dff"
   ]
  },
  {
   "cell_type": "code",
   "execution_count": 2,
   "id": "4bae470e",
   "metadata": {
    "execution": {
     "iopub.execute_input": "2024-04-27T06:55:17.194046Z",
     "iopub.status.busy": "2024-04-27T06:55:17.193634Z",
     "iopub.status.idle": "2024-04-27T06:55:17.839153Z",
     "shell.execute_reply": "2024-04-27T06:55:17.838466Z"
    }
   },
   "outputs": [],
   "source": [
    "from dff.script import (\n",
    "    GLOBAL,\n",
    "    LOCAL,\n",
    "    RESPONSE,\n",
    "    TRANSITIONS,\n",
    "    MISC,\n",
    "    Context,\n",
    "    Message,\n",
    ")\n",
    "import dff.script.labels as lbl\n",
    "import dff.script.conditions as cnd\n",
    "from dff.pipeline import Pipeline\n",
    "from dff.utils.testing.common import (\n",
    "    check_happy_path,\n",
    "    is_interactive_mode,\n",
    "    run_interactive_mode,\n",
    ")"
   ]
  },
  {
   "cell_type": "code",
   "execution_count": 3,
   "id": "607bd6a0",
   "metadata": {
    "execution": {
     "iopub.execute_input": "2024-04-27T06:55:17.842498Z",
     "iopub.status.busy": "2024-04-27T06:55:17.842035Z",
     "iopub.status.idle": "2024-04-27T06:55:17.845809Z",
     "shell.execute_reply": "2024-04-27T06:55:17.845193Z"
    }
   },
   "outputs": [],
   "source": [
    "def custom_response(ctx: Context, _: Pipeline) -> Message:\n",
    "    if ctx.validation:\n",
    "        return Message()\n",
    "    current_node = ctx.current_node\n",
    "    return Message(\n",
    "        text=f\"ctx.last_label={ctx.last_label}: \"\n",
    "        f\"current_node.misc={current_node.misc}\"\n",
    "    )"
   ]
  },
  {
   "cell_type": "code",
   "execution_count": 4,
   "id": "01fd5853",
   "metadata": {
    "execution": {
     "iopub.execute_input": "2024-04-27T06:55:17.848443Z",
     "iopub.status.busy": "2024-04-27T06:55:17.848027Z",
     "iopub.status.idle": "2024-04-27T06:55:17.856576Z",
     "shell.execute_reply": "2024-04-27T06:55:17.856013Z"
    },
    "lines_to_next_cell": 2
   },
   "outputs": [],
   "source": [
    "toy_script = {\n",
    "    \"root\": {\n",
    "        \"start\": {\n",
    "            RESPONSE: Message(),\n",
    "            TRANSITIONS: {(\"flow\", \"step_0\"): cnd.true()},\n",
    "        },\n",
    "        \"fallback\": {RESPONSE: Message(\"the end\")},\n",
    "    },\n",
    "    GLOBAL: {\n",
    "        MISC: {\n",
    "            \"var1\": \"global_data\",\n",
    "            \"var2\": \"global_data\",\n",
    "            \"var3\": \"global_data\",\n",
    "        }\n",
    "    },\n",
    "    \"flow\": {\n",
    "        LOCAL: {\n",
    "            MISC: {\n",
    "                \"var2\": \"rewrite_by_local\",\n",
    "                \"var3\": \"rewrite_by_local\",\n",
    "            }\n",
    "        },\n",
    "        \"step_0\": {\n",
    "            MISC: {\"var3\": \"info_of_step_0\"},\n",
    "            RESPONSE: custom_response,\n",
    "            TRANSITIONS: {lbl.forward(): cnd.true()},\n",
    "        },\n",
    "        \"step_1\": {\n",
    "            MISC: {\"var3\": \"info_of_step_1\"},\n",
    "            RESPONSE: custom_response,\n",
    "            TRANSITIONS: {lbl.forward(): cnd.true()},\n",
    "        },\n",
    "        \"step_2\": {\n",
    "            MISC: {\"var3\": \"info_of_step_2\"},\n",
    "            RESPONSE: custom_response,\n",
    "            TRANSITIONS: {lbl.forward(): cnd.true()},\n",
    "        },\n",
    "        \"step_3\": {\n",
    "            MISC: {\"var3\": \"info_of_step_3\"},\n",
    "            RESPONSE: custom_response,\n",
    "            TRANSITIONS: {lbl.forward(): cnd.true()},\n",
    "        },\n",
    "        \"step_4\": {\n",
    "            MISC: {\"var3\": \"info_of_step_4\"},\n",
    "            RESPONSE: custom_response,\n",
    "            TRANSITIONS: {\"step_0\": cnd.true()},\n",
    "        },\n",
    "    },\n",
    "}\n",
    "\n",
    "\n",
    "# testing\n",
    "happy_path = (\n",
    "    (\n",
    "        Message(),\n",
    "        Message(\n",
    "            text=\"ctx.last_label=('flow', 'step_0'): current_node.misc=\"\n",
    "            \"{'var1': 'global_data', \"\n",
    "            \"'var2': 'rewrite_by_local', \"\n",
    "            \"'var3': 'info_of_step_0'}\"\n",
    "        ),\n",
    "    ),\n",
    "    (\n",
    "        Message(),\n",
    "        Message(\n",
    "            text=\"ctx.last_label=('flow', 'step_1'): current_node.misc=\"\n",
    "            \"{'var1': 'global_data', \"\n",
    "            \"'var2': 'rewrite_by_local', \"\n",
    "            \"'var3': 'info_of_step_1'}\"\n",
    "        ),\n",
    "    ),\n",
    "    (\n",
    "        Message(),\n",
    "        Message(\n",
    "            text=\"ctx.last_label=('flow', 'step_2'): current_node.misc=\"\n",
    "            \"{'var1': 'global_data', \"\n",
    "            \"'var2': 'rewrite_by_local', \"\n",
    "            \"'var3': 'info_of_step_2'}\"\n",
    "        ),\n",
    "    ),\n",
    "    (\n",
    "        Message(),\n",
    "        Message(\n",
    "            text=\"ctx.last_label=('flow', 'step_3'): current_node.misc=\"\n",
    "            \"{'var1': 'global_data', \"\n",
    "            \"'var2': 'rewrite_by_local', \"\n",
    "            \"'var3': 'info_of_step_3'}\"\n",
    "        ),\n",
    "    ),\n",
    "    (\n",
    "        Message(),\n",
    "        Message(\n",
    "            text=\"ctx.last_label=('flow', 'step_4'): current_node.misc=\"\n",
    "            \"{'var1': 'global_data', \"\n",
    "            \"'var2': 'rewrite_by_local', \"\n",
    "            \"'var3': 'info_of_step_4'}\"\n",
    "        ),\n",
    "    ),\n",
    "    (\n",
    "        Message(),\n",
    "        Message(\n",
    "            text=\"ctx.last_label=('flow', 'step_0'): current_node.misc=\"\n",
    "            \"{'var1': 'global_data', \"\n",
    "            \"'var2': 'rewrite_by_local', \"\n",
    "            \"'var3': 'info_of_step_0'}\"\n",
    "        ),\n",
    "    ),\n",
    ")"
   ]
  },
  {
   "cell_type": "code",
   "execution_count": 5,
   "id": "3bb9b5b3",
   "metadata": {
    "execution": {
     "iopub.execute_input": "2024-04-27T06:55:17.859283Z",
     "iopub.status.busy": "2024-04-27T06:55:17.858760Z",
     "iopub.status.idle": "2024-04-27T06:55:17.874755Z",
     "shell.execute_reply": "2024-04-27T06:55:17.874075Z"
    }
   },
   "outputs": [
    {
     "name": "stdout",
     "output_type": "stream",
     "text": [
      "(user) >>> \n",
      " (bot) <<< text='ctx.last_label=('flow', 'step_0'): current_node.misc={'var1': 'global_data', 'var2': 'rewrite_by_local', 'var3': 'info_of_step_0'}'\n",
      "(user) >>> \n",
      " (bot) <<< text='ctx.last_label=('flow', 'step_1'): current_node.misc={'var1': 'global_data', 'var2': 'rewrite_by_local', 'var3': 'info_of_step_1'}'\n",
      "(user) >>> \n",
      " (bot) <<< text='ctx.last_label=('flow', 'step_2'): current_node.misc={'var1': 'global_data', 'var2': 'rewrite_by_local', 'var3': 'info_of_step_2'}'\n",
      "(user) >>> \n",
      " (bot) <<< text='ctx.last_label=('flow', 'step_3'): current_node.misc={'var1': 'global_data', 'var2': 'rewrite_by_local', 'var3': 'info_of_step_3'}'\n",
      "(user) >>> \n",
      " (bot) <<< text='ctx.last_label=('flow', 'step_4'): current_node.misc={'var1': 'global_data', 'var2': 'rewrite_by_local', 'var3': 'info_of_step_4'}'\n",
      "(user) >>> \n",
      " (bot) <<< text='ctx.last_label=('flow', 'step_0'): current_node.misc={'var1': 'global_data', 'var2': 'rewrite_by_local', 'var3': 'info_of_step_0'}'\n"
     ]
    }
   ],
   "source": [
    "pipeline = Pipeline.from_script(\n",
    "    toy_script,\n",
    "    start_label=(\"root\", \"start\"),\n",
    "    fallback_label=(\"root\", \"fallback\"),\n",
    ")\n",
    "\n",
    "if __name__ == \"__main__\":\n",
    "    check_happy_path(pipeline, happy_path)\n",
    "    if is_interactive_mode():\n",
    "        run_interactive_mode(pipeline)"
   ]
  }
 ],
 "metadata": {
  "jupytext": {
   "cell_metadata_filter": "-all",
   "main_language": "python",
   "notebook_metadata_filter": "-all",
   "text_representation": {
    "extension": ".py",
    "format_name": "percent"
   }
  },
  "language_info": {
   "codemirror_mode": {
    "name": "ipython",
    "version": 3
   },
   "file_extension": ".py",
   "mimetype": "text/x-python",
   "name": "python",
   "nbconvert_exporter": "python",
   "pygments_lexer": "ipython3",
   "version": "3.9.19"
  }
 },
 "nbformat": 4,
 "nbformat_minor": 5
}
