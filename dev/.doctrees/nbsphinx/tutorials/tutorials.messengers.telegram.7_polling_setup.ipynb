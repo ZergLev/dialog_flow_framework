{
 "cells": [
  {
   "cell_type": "markdown",
   "id": "abe3aa36",
   "metadata": {
    "cell_marker": "\"\"\""
   },
   "source": [
    "# Telegram: 7. Polling Setup\n",
    "\n",
    "The following tutorial shows how to configure `PollingTelegramInterface`.\n",
    "\n",
    "See [PollingTelegramInterface](../apiref/dff.messengers.telegram.interface.rst#dff.messengers.telegram.interface.PollingTelegramInterface)\n",
    "for more information."
   ]
  },
  {
   "cell_type": "code",
   "execution_count": 1,
   "id": "68e50e7b",
   "metadata": {
    "execution": {
     "iopub.execute_input": "2024-04-27T07:25:13.021152Z",
     "iopub.status.busy": "2024-04-27T07:25:13.020899Z",
     "iopub.status.idle": "2024-04-27T07:25:15.285888Z",
     "shell.execute_reply": "2024-04-27T07:25:15.284945Z"
    }
   },
   "outputs": [
    {
     "name": "stdout",
     "output_type": "stream",
     "text": [
      "Note: you may need to restart the kernel to use updated packages.\n"
     ]
    }
   ],
   "source": [
    "# installing dependencies\n",
    "%pip install -q dff[telegram]"
   ]
  },
  {
   "cell_type": "code",
   "execution_count": 2,
   "id": "01d050b4",
   "metadata": {
    "execution": {
     "iopub.execute_input": "2024-04-27T07:25:15.289481Z",
     "iopub.status.busy": "2024-04-27T07:25:15.288877Z",
     "iopub.status.idle": "2024-04-27T07:25:16.061995Z",
     "shell.execute_reply": "2024-04-27T07:25:16.061210Z"
    },
    "lines_to_next_cell": 2
   },
   "outputs": [],
   "source": [
    "import os\n",
    "\n",
    "from dff.messengers.telegram.interface import PollingTelegramInterface\n",
    "from dff.pipeline import Pipeline\n",
    "\n",
    "from dff.utils.testing.common import is_interactive_mode\n",
    "from dff.utils.testing.toy_script import TOY_SCRIPT_ARGS, HAPPY_PATH\n",
    "from telebot.util import update_types"
   ]
  },
  {
   "cell_type": "markdown",
   "id": "ed620ced",
   "metadata": {
    "cell_marker": "\"\"\"",
    "lines_to_next_cell": 2
   },
   "source": [
    "`PollingTelegramInterface` can be configured with the same parameters\n",
    "that are used in the `pytelegrambotapi` library, specifically:\n",
    "\n",
    "* interval - time between calls to the API.\n",
    "* allowed updates - updates that should be fetched.\n",
    "* timeout - general timeout.\n",
    "* long polling timeout - timeout for polling."
   ]
  },
  {
   "cell_type": "code",
   "execution_count": 3,
   "id": "9ceb6a85",
   "metadata": {
    "execution": {
     "iopub.execute_input": "2024-04-27T07:25:16.065738Z",
     "iopub.status.busy": "2024-04-27T07:25:16.065216Z",
     "iopub.status.idle": "2024-04-27T07:25:16.069268Z",
     "shell.execute_reply": "2024-04-27T07:25:16.068460Z"
    },
    "lines_to_next_cell": 2
   },
   "outputs": [],
   "source": [
    "interface = PollingTelegramInterface(\n",
    "    token=os.environ[\"TG_BOT_TOKEN\"],\n",
    "    interval=2,\n",
    "    allowed_updates=update_types,\n",
    "    timeout=30,\n",
    "    long_polling_timeout=30,\n",
    ")\n",
    "\n",
    "\n",
    "# testing\n",
    "happy_path = HAPPY_PATH"
   ]
  },
  {
   "cell_type": "code",
   "execution_count": 4,
   "id": "fff9beab",
   "metadata": {
    "execution": {
     "iopub.execute_input": "2024-04-27T07:25:16.072145Z",
     "iopub.status.busy": "2024-04-27T07:25:16.071953Z",
     "iopub.status.idle": "2024-04-27T07:25:16.076294Z",
     "shell.execute_reply": "2024-04-27T07:25:16.075561Z"
    }
   },
   "outputs": [],
   "source": [
    "pipeline = Pipeline.from_script(\n",
    "    *TOY_SCRIPT_ARGS,\n",
    "    messenger_interface=interface,\n",
    "    # The interface can be passed as a pipeline argument\n",
    ")\n",
    "\n",
    "\n",
    "def main():\n",
    "    pipeline.run()\n",
    "\n",
    "\n",
    "if __name__ == \"__main__\" and is_interactive_mode():\n",
    "    # prevent run during doc building\n",
    "    main()"
   ]
  }
 ],
 "metadata": {
  "jupytext": {
   "cell_metadata_filter": "-all",
   "main_language": "python",
   "notebook_metadata_filter": "-all",
   "text_representation": {
    "extension": ".py",
    "format_name": "percent"
   }
  },
  "language_info": {
   "codemirror_mode": {
    "name": "ipython",
    "version": 3
   },
   "file_extension": ".py",
   "mimetype": "text/x-python",
   "name": "python",
   "nbconvert_exporter": "python",
   "pygments_lexer": "ipython3",
   "version": "3.9.19"
  }
 },
 "nbformat": 4,
 "nbformat_minor": 5
}
