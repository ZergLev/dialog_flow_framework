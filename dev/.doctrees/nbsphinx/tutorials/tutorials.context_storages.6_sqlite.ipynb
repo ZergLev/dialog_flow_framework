{
 "cells": [
  {
   "cell_type": "markdown",
   "id": "74f4b90c",
   "metadata": {
    "cell_marker": "\"\"\""
   },
   "source": [
    "# 6. SQLite\n",
    "\n",
    "This is a tutorial on using SQLite.\n",
    "\n",
    "See [SQLContextStorage](../apiref/dff.context_storages.sql.rst#dff.context_storages.sql.SQLContextStorage) class\n",
    "for storing you users' contexts in SQL databases.\n",
    "\n",
    "DFF uses [sqlalchemy](https://docs.sqlalchemy.org/en/20/)\n",
    "and [aiosqlite](https://readthedocs.org/projects/aiosqlite/)\n",
    "libraries for asynchronous access to SQLite DB.\n",
    "\n",
    "Note that protocol separator for windows differs from one for linux."
   ]
  },
  {
   "cell_type": "code",
   "execution_count": 1,
   "id": "eb289450",
   "metadata": {
    "execution": {
     "iopub.execute_input": "2024-04-27T06:52:46.115742Z",
     "iopub.status.busy": "2024-04-27T06:52:46.115130Z",
     "iopub.status.idle": "2024-04-27T06:52:48.210510Z",
     "shell.execute_reply": "2024-04-27T06:52:48.209734Z"
    }
   },
   "outputs": [
    {
     "name": "stdout",
     "output_type": "stream",
     "text": [
      "Note: you may need to restart the kernel to use updated packages.\n"
     ]
    }
   ],
   "source": [
    "# installing dependencies\n",
    "%pip install -q dff[sqlite]"
   ]
  },
  {
   "cell_type": "code",
   "execution_count": 2,
   "id": "7436601e",
   "metadata": {
    "execution": {
     "iopub.execute_input": "2024-04-27T06:52:48.213470Z",
     "iopub.status.busy": "2024-04-27T06:52:48.213240Z",
     "iopub.status.idle": "2024-04-27T06:52:48.854920Z",
     "shell.execute_reply": "2024-04-27T06:52:48.854296Z"
    },
    "lines_to_next_cell": 2
   },
   "outputs": [],
   "source": [
    "import pathlib\n",
    "from platform import system\n",
    "\n",
    "from dff.context_storages import context_storage_factory\n",
    "\n",
    "from dff.pipeline import Pipeline\n",
    "from dff.utils.testing.common import (\n",
    "    check_happy_path,\n",
    "    is_interactive_mode,\n",
    "    run_interactive_mode,\n",
    ")\n",
    "from dff.utils.testing.toy_script import TOY_SCRIPT_ARGS, HAPPY_PATH"
   ]
  },
  {
   "cell_type": "code",
   "execution_count": 3,
   "id": "05339bf3",
   "metadata": {
    "execution": {
     "iopub.execute_input": "2024-04-27T06:52:48.858277Z",
     "iopub.status.busy": "2024-04-27T06:52:48.857799Z",
     "iopub.status.idle": "2024-04-27T06:52:48.892145Z",
     "shell.execute_reply": "2024-04-27T06:52:48.891598Z"
    },
    "lines_to_next_cell": 2
   },
   "outputs": [],
   "source": [
    "pathlib.Path(\"dbs\").mkdir(exist_ok=True)\n",
    "db_file = pathlib.Path(\"dbs/sqlite.db\")\n",
    "db_file.touch(exist_ok=True)\n",
    "\n",
    "separator = \"///\" if system() == \"Windows\" else \"////\"\n",
    "db_uri = f\"sqlite+aiosqlite:{separator}{db_file.absolute()}\"\n",
    "db = context_storage_factory(db_uri)\n",
    "\n",
    "\n",
    "pipeline = Pipeline.from_script(*TOY_SCRIPT_ARGS, context_storage=db)"
   ]
  },
  {
   "cell_type": "code",
   "execution_count": 4,
   "id": "748b8f25",
   "metadata": {
    "execution": {
     "iopub.execute_input": "2024-04-27T06:52:48.894950Z",
     "iopub.status.busy": "2024-04-27T06:52:48.894561Z",
     "iopub.status.idle": "2024-04-27T06:52:48.934160Z",
     "shell.execute_reply": "2024-04-27T06:52:48.933456Z"
    }
   },
   "outputs": [
    {
     "name": "stdout",
     "output_type": "stream",
     "text": [
      "(user) >>> text='Hi'\n",
      " (bot) <<< text='Hi, how are you?'\n",
      "(user) >>> text='i'm fine, how are you?'\n",
      " (bot) <<< text='Good. What do you want to talk about?'\n",
      "(user) >>> text='Let's talk about music.'\n",
      " (bot) <<< text='Sorry, I can not talk about music now.'\n",
      "(user) >>> text='Ok, goodbye.'\n",
      " (bot) <<< text='bye'\n",
      "(user) >>> text='Hi'\n",
      " (bot) <<< text='Hi, how are you?'\n"
     ]
    }
   ],
   "source": [
    "if __name__ == \"__main__\":\n",
    "    check_happy_path(pipeline, HAPPY_PATH)\n",
    "    if is_interactive_mode():\n",
    "        run_interactive_mode(pipeline)"
   ]
  }
 ],
 "metadata": {
  "jupytext": {
   "cell_metadata_filter": "-all",
   "main_language": "python",
   "notebook_metadata_filter": "-all",
   "text_representation": {
    "extension": ".py",
    "format_name": "percent"
   }
  },
  "language_info": {
   "codemirror_mode": {
    "name": "ipython",
    "version": 3
   },
   "file_extension": ".py",
   "mimetype": "text/x-python",
   "name": "python",
   "nbconvert_exporter": "python",
   "pygments_lexer": "ipython3",
   "version": "3.9.19"
  }
 },
 "nbformat": 4,
 "nbformat_minor": 5
}
