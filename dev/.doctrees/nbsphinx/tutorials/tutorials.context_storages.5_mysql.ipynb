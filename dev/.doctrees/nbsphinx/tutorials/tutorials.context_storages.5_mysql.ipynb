{
 "cells": [
  {
   "cell_type": "markdown",
   "id": "c666d509",
   "metadata": {
    "cell_marker": "\"\"\""
   },
   "source": [
    "# 5. MySQL\n",
    "\n",
    "This is a tutorial on using MySQL.\n",
    "\n",
    "See [SQLContextStorage](../apiref/dff.context_storages.sql.rst#dff.context_storages.sql.SQLContextStorage) class\n",
    "for storing you users' contexts in SQL databases.\n",
    "\n",
    "DFF uses [sqlalchemy](https://docs.sqlalchemy.org/en/20/)\n",
    "and [asyncmy](https://github.com/long2ice/asyncmy)\n",
    "libraries for asynchronous access to MySQL DB."
   ]
  },
  {
   "cell_type": "code",
   "execution_count": 1,
   "id": "9b22d8b5",
   "metadata": {
    "execution": {
     "iopub.execute_input": "2024-04-21T12:06:07.352767Z",
     "iopub.status.busy": "2024-04-21T12:06:07.352235Z",
     "iopub.status.idle": "2024-04-21T12:06:09.594936Z",
     "shell.execute_reply": "2024-04-21T12:06:09.594054Z"
    }
   },
   "outputs": [
    {
     "name": "stdout",
     "output_type": "stream",
     "text": [
      "Note: you may need to restart the kernel to use updated packages.\n"
     ]
    }
   ],
   "source": [
    "# installing dependencies\n",
    "%pip install -q dff[mysql]"
   ]
  },
  {
   "cell_type": "code",
   "execution_count": 2,
   "id": "6d7d1f80",
   "metadata": {
    "execution": {
     "iopub.execute_input": "2024-04-21T12:06:09.597915Z",
     "iopub.status.busy": "2024-04-21T12:06:09.597464Z",
     "iopub.status.idle": "2024-04-21T12:06:10.241781Z",
     "shell.execute_reply": "2024-04-21T12:06:10.241165Z"
    },
    "lines_to_next_cell": 2
   },
   "outputs": [],
   "source": [
    "import os\n",
    "\n",
    "from dff.context_storages import context_storage_factory\n",
    "\n",
    "from dff.pipeline import Pipeline\n",
    "from dff.utils.testing.common import (\n",
    "    check_happy_path,\n",
    "    is_interactive_mode,\n",
    "    run_interactive_mode,\n",
    ")\n",
    "from dff.utils.testing.toy_script import TOY_SCRIPT_ARGS, HAPPY_PATH"
   ]
  },
  {
   "cell_type": "code",
   "execution_count": 3,
   "id": "ee3087a0",
   "metadata": {
    "execution": {
     "iopub.execute_input": "2024-04-21T12:06:10.245213Z",
     "iopub.status.busy": "2024-04-21T12:06:10.244732Z",
     "iopub.status.idle": "2024-04-21T12:06:10.334683Z",
     "shell.execute_reply": "2024-04-21T12:06:10.333905Z"
    },
    "lines_to_next_cell": 2
   },
   "outputs": [],
   "source": [
    "db_uri = \"mysql+asyncmy://{}:{}@localhost:3307/{}\".format(\n",
    "    os.environ[\"MYSQL_USERNAME\"],\n",
    "    os.environ[\"MYSQL_PASSWORD\"],\n",
    "    os.environ[\"MYSQL_DATABASE\"],\n",
    ")\n",
    "db = context_storage_factory(db_uri)\n",
    "\n",
    "\n",
    "pipeline = Pipeline.from_script(*TOY_SCRIPT_ARGS, context_storage=db)"
   ]
  },
  {
   "cell_type": "code",
   "execution_count": 4,
   "id": "d256343a",
   "metadata": {
    "execution": {
     "iopub.execute_input": "2024-04-21T12:06:10.337875Z",
     "iopub.status.busy": "2024-04-21T12:06:10.337466Z",
     "iopub.status.idle": "2024-04-21T12:06:10.379774Z",
     "shell.execute_reply": "2024-04-21T12:06:10.378997Z"
    }
   },
   "outputs": [
    {
     "name": "stdout",
     "output_type": "stream",
     "text": [
      "(user) >>> text='Hi'\n",
      " (bot) <<< text='Hi, how are you?'\n",
      "(user) >>> text='i'm fine, how are you?'\n",
      " (bot) <<< text='Good. What do you want to talk about?'\n",
      "(user) >>> text='Let's talk about music.'\n",
      " (bot) <<< text='Sorry, I can not talk about music now.'\n",
      "(user) >>> text='Ok, goodbye.'\n",
      " (bot) <<< text='bye'\n",
      "(user) >>> text='Hi'\n",
      " (bot) <<< text='Hi, how are you?'\n"
     ]
    }
   ],
   "source": [
    "if __name__ == \"__main__\":\n",
    "    check_happy_path(pipeline, HAPPY_PATH)\n",
    "    if is_interactive_mode():\n",
    "        run_interactive_mode(pipeline)"
   ]
  }
 ],
 "metadata": {
  "jupytext": {
   "cell_metadata_filter": "-all",
   "main_language": "python",
   "notebook_metadata_filter": "-all",
   "text_representation": {
    "extension": ".py",
    "format_name": "percent"
   }
  },
  "language_info": {
   "codemirror_mode": {
    "name": "ipython",
    "version": 3
   },
   "file_extension": ".py",
   "mimetype": "text/x-python",
   "name": "python",
   "nbconvert_exporter": "python",
   "pygments_lexer": "ipython3",
   "version": "3.9.19"
  }
 },
 "nbformat": 4,
 "nbformat_minor": 5
}
