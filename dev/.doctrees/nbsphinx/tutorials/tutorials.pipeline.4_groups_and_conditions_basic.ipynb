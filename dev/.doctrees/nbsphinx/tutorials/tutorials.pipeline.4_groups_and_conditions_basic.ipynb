{
 "cells": [
  {
   "cell_type": "markdown",
   "id": "9527e733",
   "metadata": {
    "cell_marker": "\"\"\""
   },
   "source": [
    "# 4. Groups and conditions (basic)\n",
    "\n",
    "The following example shows `pipeline` service group usage and start conditions.\n",
    "\n",
    "Here, [Service](../apiref/dff.pipeline.service.service.rst#dff.pipeline.service.service.Service)s\n",
    "and [ServiceGroup](../apiref/dff.pipeline.service.group.rst#dff.pipeline.service.group.ServiceGroup)s\n",
    "are shown for advanced data pre- and postprocessing based on conditions."
   ]
  },
  {
   "cell_type": "code",
   "execution_count": 1,
   "id": "c53abb2a",
   "metadata": {
    "execution": {
     "iopub.execute_input": "2024-04-21T12:07:37.232542Z",
     "iopub.status.busy": "2024-04-21T12:07:37.232323Z",
     "iopub.status.idle": "2024-04-21T12:07:39.348801Z",
     "shell.execute_reply": "2024-04-21T12:07:39.347990Z"
    }
   },
   "outputs": [
    {
     "name": "stdout",
     "output_type": "stream",
     "text": [
      "Note: you may need to restart the kernel to use updated packages.\n"
     ]
    }
   ],
   "source": [
    "# installing dependencies\n",
    "%pip install -q dff"
   ]
  },
  {
   "cell_type": "code",
   "execution_count": 2,
   "id": "8cbcdbe1",
   "metadata": {
    "execution": {
     "iopub.execute_input": "2024-04-21T12:07:39.351832Z",
     "iopub.status.busy": "2024-04-21T12:07:39.351395Z",
     "iopub.status.idle": "2024-04-21T12:07:40.034949Z",
     "shell.execute_reply": "2024-04-21T12:07:40.034291Z"
    },
    "lines_to_next_cell": 2
   },
   "outputs": [],
   "source": [
    "import json\n",
    "import logging\n",
    "\n",
    "from dff.pipeline import (\n",
    "    Service,\n",
    "    Pipeline,\n",
    "    not_condition,\n",
    "    service_successful_condition,\n",
    "    ServiceRuntimeInfo,\n",
    "    ACTOR,\n",
    ")\n",
    "\n",
    "from dff.utils.testing.common import (\n",
    "    check_happy_path,\n",
    "    is_interactive_mode,\n",
    "    run_interactive_mode,\n",
    ")\n",
    "from dff.utils.testing.toy_script import HAPPY_PATH, TOY_SCRIPT\n",
    "\n",
    "logger = logging.getLogger(__name__)"
   ]
  },
  {
   "cell_type": "markdown",
   "id": "da1f112e",
   "metadata": {
    "cell_marker": "\"\"\""
   },
   "source": [
    "Pipeline can contain not only single services, but also service groups.\n",
    "Service groups can be defined as `ServiceGroupBuilder` objects:\n",
    "      lists of `ServiceBuilders` and `ServiceGroupBuilders` or objects.\n",
    "The objects should contain `services` -\n",
    "a ServiceBuilder and ServiceGroupBuilder object list.\n",
    "\n",
    "To receive serialized information about service,\n",
    "    service group or pipeline a property `info_dict` can be used,\n",
    "    it returns important object properties as a dict.\n",
    "\n",
    "Services and service groups can be executed conditionally.\n",
    "Conditions are functions passed to `start_condition` argument.\n",
    "These functions should have following signature:\n",
    "\n",
    "    (ctx: Context, pipeline: Pipeline) -> bool.\n",
    "\n",
    "Service is only executed if its start_condition returned `True`.\n",
    "By default all the services start unconditionally.\n",
    "There are number of built-in condition functions.\n",
    "Built-in condition functions check other service states.\n",
    "These are most important built-in condition functions:\n",
    "\n",
    "* `always_start_condition` - Default condition function, always starts service.\n",
    "* `service_successful_condition(path)` - Function that checks,\n",
    "    whether service with given `path` executed successfully.\n",
    "* `not_condition(function)` - Function that returns result\n",
    "    opposite from the one returned\n",
    "    by the `function` (condition function) argument.\n",
    "\n",
    "Here there is a conditionally executed service named\n",
    "`never_running_service` is always executed.\n",
    "It is executed only if `always_running_service`\n",
    "is not finished, that should never happen.\n",
    "The service named `context_printing_service`\n",
    "prints pipeline runtime information,\n",
    "that contains execution state of all previously run services."
   ]
  },
  {
   "cell_type": "code",
   "execution_count": 3,
   "id": "bfaa8720",
   "metadata": {
    "execution": {
     "iopub.execute_input": "2024-04-21T12:07:40.038162Z",
     "iopub.status.busy": "2024-04-21T12:07:40.037700Z",
     "iopub.status.idle": "2024-04-21T12:07:40.042065Z",
     "shell.execute_reply": "2024-04-21T12:07:40.041459Z"
    }
   },
   "outputs": [],
   "source": [
    "def always_running_service(_, __, info: ServiceRuntimeInfo):\n",
    "    logger.info(f\"Service '{info.name}' is running...\")\n",
    "\n",
    "\n",
    "def never_running_service(_, __, info: ServiceRuntimeInfo):\n",
    "    raise Exception(f\"Oh no! The '{info.name}' service is running!\")\n",
    "\n",
    "\n",
    "def runtime_info_printing_service(_, __, info: ServiceRuntimeInfo):\n",
    "    logger.info(\n",
    "        f\"Service '{info.name}' runtime execution info:\"\n",
    "        f\"{json.dumps(info, indent=4, default=str)}\"\n",
    "    )"
   ]
  },
  {
   "cell_type": "code",
   "execution_count": 4,
   "id": "ee74e9b6",
   "metadata": {
    "execution": {
     "iopub.execute_input": "2024-04-21T12:07:40.044501Z",
     "iopub.status.busy": "2024-04-21T12:07:40.044303Z",
     "iopub.status.idle": "2024-04-21T12:07:40.048275Z",
     "shell.execute_reply": "2024-04-21T12:07:40.047620Z"
    },
    "lines_to_next_cell": 2
   },
   "outputs": [],
   "source": [
    "pipeline_dict = {\n",
    "    \"script\": TOY_SCRIPT,\n",
    "    \"start_label\": (\"greeting_flow\", \"start_node\"),\n",
    "    \"fallback_label\": (\"greeting_flow\", \"fallback_node\"),\n",
    "    \"components\": [\n",
    "        Service(\n",
    "            handler=always_running_service,\n",
    "            name=\"always_running_service\",\n",
    "        ),\n",
    "        ACTOR,\n",
    "        Service(\n",
    "            handler=never_running_service,\n",
    "            start_condition=not_condition(\n",
    "                service_successful_condition(\".pipeline.always_running_service\")\n",
    "            ),\n",
    "        ),\n",
    "        Service(\n",
    "            handler=runtime_info_printing_service,\n",
    "            name=\"runtime_info_printing_service\",\n",
    "        ),\n",
    "    ],\n",
    "}"
   ]
  },
  {
   "cell_type": "code",
   "execution_count": 5,
   "id": "3e536f37",
   "metadata": {
    "execution": {
     "iopub.execute_input": "2024-04-21T12:07:40.050999Z",
     "iopub.status.busy": "2024-04-21T12:07:40.050589Z",
     "iopub.status.idle": "2024-04-21T12:07:40.067583Z",
     "shell.execute_reply": "2024-04-21T12:07:40.066955Z"
    }
   },
   "outputs": [
    {
     "name": "stdout",
     "output_type": "stream",
     "text": [
      "(user) >>> text='Hi'\n",
      " (bot) <<< text='Hi, how are you?'\n",
      "(user) >>> text='i'm fine, how are you?'\n",
      " (bot) <<< text='Good. What do you want to talk about?'\n",
      "(user) >>> text='Let's talk about music.'\n",
      " (bot) <<< text='Sorry, I can not talk about music now.'\n",
      "(user) >>> text='Ok, goodbye.'\n",
      " (bot) <<< text='bye'\n",
      "(user) >>> text='Hi'\n",
      " (bot) <<< text='Hi, how are you?'\n"
     ]
    }
   ],
   "source": [
    "pipeline = Pipeline.from_dict(pipeline_dict)\n",
    "\n",
    "if __name__ == \"__main__\":\n",
    "    check_happy_path(pipeline, HAPPY_PATH)\n",
    "    if is_interactive_mode():\n",
    "        run_interactive_mode(pipeline)"
   ]
  }
 ],
 "metadata": {
  "jupytext": {
   "cell_metadata_filter": "-all",
   "main_language": "python",
   "notebook_metadata_filter": "-all",
   "text_representation": {
    "extension": ".py",
    "format_name": "percent"
   }
  },
  "language_info": {
   "codemirror_mode": {
    "name": "ipython",
    "version": 3
   },
   "file_extension": ".py",
   "mimetype": "text/x-python",
   "name": "python",
   "nbconvert_exporter": "python",
   "pygments_lexer": "ipython3",
   "version": "3.9.19"
  }
 },
 "nbformat": 4,
 "nbformat_minor": 5
}
