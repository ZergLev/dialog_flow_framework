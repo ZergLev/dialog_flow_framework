{
 "cells": [
  {
   "cell_type": "markdown",
   "id": "2f97d9c0",
   "metadata": {
    "cell_marker": "\"\"\""
   },
   "source": [
    "# Core: 6. Context serialization\n",
    "\n",
    "This tutorial shows context serialization.\n",
    "First of all, let's do all the necessary imports from DFF."
   ]
  },
  {
   "cell_type": "code",
   "execution_count": 1,
   "id": "40cc2561",
   "metadata": {
    "execution": {
     "iopub.execute_input": "2024-04-27T06:55:10.584927Z",
     "iopub.status.busy": "2024-04-27T06:55:10.584530Z",
     "iopub.status.idle": "2024-04-27T06:55:12.712500Z",
     "shell.execute_reply": "2024-04-27T06:55:12.711663Z"
    }
   },
   "outputs": [
    {
     "name": "stdout",
     "output_type": "stream",
     "text": [
      "Note: you may need to restart the kernel to use updated packages.\n"
     ]
    }
   ],
   "source": [
    "# installing dependencies\n",
    "%pip install -q dff"
   ]
  },
  {
   "cell_type": "code",
   "execution_count": 2,
   "id": "5091ffd9",
   "metadata": {
    "execution": {
     "iopub.execute_input": "2024-04-27T06:55:12.715662Z",
     "iopub.status.busy": "2024-04-27T06:55:12.715256Z",
     "iopub.status.idle": "2024-04-27T06:55:13.352986Z",
     "shell.execute_reply": "2024-04-27T06:55:13.352322Z"
    },
    "lines_to_next_cell": 2
   },
   "outputs": [],
   "source": [
    "import logging\n",
    "\n",
    "from dff.script import TRANSITIONS, RESPONSE, Context, Message\n",
    "import dff.script.conditions as cnd\n",
    "\n",
    "from dff.pipeline import Pipeline\n",
    "from dff.utils.testing.common import (\n",
    "    check_happy_path,\n",
    "    is_interactive_mode,\n",
    "    run_interactive_mode,\n",
    ")"
   ]
  },
  {
   "cell_type": "markdown",
   "id": "a22bb7c1",
   "metadata": {
    "cell_marker": "\"\"\""
   },
   "source": [
    "This function returns the user request number."
   ]
  },
  {
   "cell_type": "code",
   "execution_count": 3,
   "id": "0b76ac28",
   "metadata": {
    "execution": {
     "iopub.execute_input": "2024-04-27T06:55:13.356409Z",
     "iopub.status.busy": "2024-04-27T06:55:13.355763Z",
     "iopub.status.idle": "2024-04-27T06:55:13.359640Z",
     "shell.execute_reply": "2024-04-27T06:55:13.359038Z"
    }
   },
   "outputs": [],
   "source": [
    "def response_handler(ctx: Context, _: Pipeline) -> Message:\n",
    "    return Message(f\"answer {len(ctx.requests)}\")"
   ]
  },
  {
   "cell_type": "code",
   "execution_count": 4,
   "id": "1f7a9419",
   "metadata": {
    "execution": {
     "iopub.execute_input": "2024-04-27T06:55:13.362318Z",
     "iopub.status.busy": "2024-04-27T06:55:13.361915Z",
     "iopub.status.idle": "2024-04-27T06:55:13.366096Z",
     "shell.execute_reply": "2024-04-27T06:55:13.365441Z"
    }
   },
   "outputs": [],
   "source": [
    "# a dialog script\n",
    "toy_script = {\n",
    "    \"flow_start\": {\n",
    "        \"node_start\": {\n",
    "            RESPONSE: response_handler,\n",
    "            TRANSITIONS: {(\"flow_start\", \"node_start\"): cnd.true()},\n",
    "        }\n",
    "    }\n",
    "}\n",
    "\n",
    "# testing\n",
    "happy_path = (\n",
    "    (Message(\"hi\"), Message(\"answer 1\")),\n",
    "    (Message(\"how are you?\"), Message(\"answer 2\")),\n",
    "    (Message(\"ok\"), Message(\"answer 3\")),\n",
    "    (Message(\"good\"), Message(\"answer 4\")),\n",
    ")"
   ]
  },
  {
   "cell_type": "markdown",
   "id": "8987be57",
   "metadata": {
    "cell_marker": "\"\"\""
   },
   "source": [
    "Draft function that performs serialization."
   ]
  },
  {
   "cell_type": "code",
   "execution_count": 5,
   "id": "5af3028a",
   "metadata": {
    "execution": {
     "iopub.execute_input": "2024-04-27T06:55:13.368767Z",
     "iopub.status.busy": "2024-04-27T06:55:13.368231Z",
     "iopub.status.idle": "2024-04-27T06:55:13.373040Z",
     "shell.execute_reply": "2024-04-27T06:55:13.372373Z"
    }
   },
   "outputs": [],
   "source": [
    "def process_response(ctx: Context):\n",
    "    ctx_json = ctx.model_dump_json()\n",
    "    if isinstance(ctx_json, str):\n",
    "        logging.info(\"context serialized to json str\")\n",
    "    else:\n",
    "        raise Exception(f\"ctx={ctx_json} has to be serialized to json string\")\n",
    "\n",
    "    ctx_dict = ctx.model_dump()\n",
    "    if isinstance(ctx_dict, dict):\n",
    "        logging.info(\"context serialized to dict\")\n",
    "    else:\n",
    "        raise Exception(f\"ctx={ctx_dict} has to be serialized to dict\")\n",
    "\n",
    "    if not isinstance(ctx, Context):\n",
    "        raise Exception(f\"ctx={ctx} has to have Context type\")"
   ]
  },
  {
   "cell_type": "code",
   "execution_count": 6,
   "id": "46531bac",
   "metadata": {
    "execution": {
     "iopub.execute_input": "2024-04-27T06:55:13.375716Z",
     "iopub.status.busy": "2024-04-27T06:55:13.375306Z",
     "iopub.status.idle": "2024-04-27T06:55:13.393238Z",
     "shell.execute_reply": "2024-04-27T06:55:13.392597Z"
    }
   },
   "outputs": [
    {
     "name": "stderr",
     "output_type": "stream",
     "text": [
      "Service 'process_response_0' execution failed!\n",
      "Traceback (most recent call last):\n",
      "  File \"/tmp/tmp6wc_u21b/dff/pipeline/service/service.py\", line 151, in _run_as_service\n",
      "    await self._run_handler(ctx, pipeline)\n",
      "  File \"/tmp/tmp6wc_u21b/dff/pipeline/service/service.py\", line 118, in _run_handler\n",
      "    await wrap_sync_function_in_async(self.handler, ctx)\n",
      "  File \"/tmp/tmp6wc_u21b/dff/pipeline/service/utils.py\", line 25, in wrap_sync_function_in_async\n",
      "    return func(*args, **kwargs)\n",
      "  File \"/tmp/ipykernel_14563/4050068440.py\", line 2, in process_response\n",
      "    ctx_json = ctx.model_dump_json()\n",
      "  File \"/tmp/tmp6wc_u21b/.venv/dff-2Pqb6Gb9-py3.9/lib/python3.9/site-packages/pydantic/main.py\", line 358, in model_dump_json\n",
      "    return self.__pydantic_serializer__.to_json(\n",
      "pydantic_core._pydantic_core.PydanticSerializationError: Unable to serialize unknown type: <class 'function'>\n"
     ]
    },
    {
     "name": "stderr",
     "output_type": "stream",
     "text": [
      "Service 'process_response_0' execution failed!\n",
      "Traceback (most recent call last):\n",
      "  File \"/tmp/tmp6wc_u21b/dff/pipeline/service/service.py\", line 151, in _run_as_service\n",
      "    await self._run_handler(ctx, pipeline)\n",
      "  File \"/tmp/tmp6wc_u21b/dff/pipeline/service/service.py\", line 118, in _run_handler\n",
      "    await wrap_sync_function_in_async(self.handler, ctx)\n",
      "  File \"/tmp/tmp6wc_u21b/dff/pipeline/service/utils.py\", line 25, in wrap_sync_function_in_async\n",
      "    return func(*args, **kwargs)\n",
      "  File \"/tmp/ipykernel_14563/4050068440.py\", line 2, in process_response\n",
      "    ctx_json = ctx.model_dump_json()\n",
      "  File \"/tmp/tmp6wc_u21b/.venv/dff-2Pqb6Gb9-py3.9/lib/python3.9/site-packages/pydantic/main.py\", line 358, in model_dump_json\n",
      "    return self.__pydantic_serializer__.to_json(\n",
      "pydantic_core._pydantic_core.PydanticSerializationError: Unable to serialize unknown type: <class 'function'>\n"
     ]
    },
    {
     "name": "stderr",
     "output_type": "stream",
     "text": [
      "Service 'process_response_0' execution failed!\n",
      "Traceback (most recent call last):\n",
      "  File \"/tmp/tmp6wc_u21b/dff/pipeline/service/service.py\", line 151, in _run_as_service\n",
      "    await self._run_handler(ctx, pipeline)\n",
      "  File \"/tmp/tmp6wc_u21b/dff/pipeline/service/service.py\", line 118, in _run_handler\n",
      "    await wrap_sync_function_in_async(self.handler, ctx)\n",
      "  File \"/tmp/tmp6wc_u21b/dff/pipeline/service/utils.py\", line 25, in wrap_sync_function_in_async\n",
      "    return func(*args, **kwargs)\n",
      "  File \"/tmp/ipykernel_14563/4050068440.py\", line 2, in process_response\n",
      "    ctx_json = ctx.model_dump_json()\n",
      "  File \"/tmp/tmp6wc_u21b/.venv/dff-2Pqb6Gb9-py3.9/lib/python3.9/site-packages/pydantic/main.py\", line 358, in model_dump_json\n",
      "    return self.__pydantic_serializer__.to_json(\n",
      "pydantic_core._pydantic_core.PydanticSerializationError: Unable to serialize unknown type: <class 'function'>\n"
     ]
    },
    {
     "name": "stderr",
     "output_type": "stream",
     "text": [
      "Service 'process_response_0' execution failed!\n",
      "Traceback (most recent call last):\n",
      "  File \"/tmp/tmp6wc_u21b/dff/pipeline/service/service.py\", line 151, in _run_as_service\n",
      "    await self._run_handler(ctx, pipeline)\n",
      "  File \"/tmp/tmp6wc_u21b/dff/pipeline/service/service.py\", line 118, in _run_handler\n",
      "    await wrap_sync_function_in_async(self.handler, ctx)\n",
      "  File \"/tmp/tmp6wc_u21b/dff/pipeline/service/utils.py\", line 25, in wrap_sync_function_in_async\n",
      "    return func(*args, **kwargs)\n",
      "  File \"/tmp/ipykernel_14563/4050068440.py\", line 2, in process_response\n",
      "    ctx_json = ctx.model_dump_json()\n",
      "  File \"/tmp/tmp6wc_u21b/.venv/dff-2Pqb6Gb9-py3.9/lib/python3.9/site-packages/pydantic/main.py\", line 358, in model_dump_json\n",
      "    return self.__pydantic_serializer__.to_json(\n",
      "pydantic_core._pydantic_core.PydanticSerializationError: Unable to serialize unknown type: <class 'function'>\n"
     ]
    },
    {
     "name": "stdout",
     "output_type": "stream",
     "text": [
      "(user) >>> text='hi'\n",
      " (bot) <<< text='answer 1'\n",
      "(user) >>> text='how are you?'\n",
      " (bot) <<< text='answer 2'\n",
      "(user) >>> text='ok'\n",
      " (bot) <<< text='answer 3'\n",
      "(user) >>> text='good'\n",
      " (bot) <<< text='answer 4'\n"
     ]
    }
   ],
   "source": [
    "pipeline = Pipeline.from_script(\n",
    "    toy_script,\n",
    "    start_label=(\"flow_start\", \"node_start\"),\n",
    "    post_services=[process_response],\n",
    ")\n",
    "\n",
    "if __name__ == \"__main__\":\n",
    "    check_happy_path(pipeline, happy_path)\n",
    "    if is_interactive_mode():\n",
    "        run_interactive_mode(pipeline)"
   ]
  }
 ],
 "metadata": {
  "jupytext": {
   "cell_metadata_filter": "-all",
   "main_language": "python",
   "notebook_metadata_filter": "-all",
   "text_representation": {
    "extension": ".py",
    "format_name": "percent"
   }
  },
  "language_info": {
   "codemirror_mode": {
    "name": "ipython",
    "version": 3
   },
   "file_extension": ".py",
   "mimetype": "text/x-python",
   "name": "python",
   "nbconvert_exporter": "python",
   "pygments_lexer": "ipython3",
   "version": "3.9.19"
  }
 },
 "nbformat": 4,
 "nbformat_minor": 5
}
