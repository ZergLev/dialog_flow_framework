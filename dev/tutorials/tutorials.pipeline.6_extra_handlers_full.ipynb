{
 "cells": [
  {
   "cell_type": "markdown",
   "id": "f092f495",
   "metadata": {
    "cell_marker": "\"\"\""
   },
   "source": [
    "# 6. Extra Handlers (full)\n",
    "\n",
    "The following tutorial shows extra handlers possibilities and use cases.\n",
    "\n",
    "This tutorial is a more advanced version of the\n",
    "[previous tutorial](../tutorials/tutorials.pipeline.6_extra_handlers_basic.py)."
   ]
  },
  {
   "cell_type": "code",
   "execution_count": 1,
   "id": "70bec154",
   "metadata": {
    "execution": {
     "iopub.execute_input": "2024-04-18T11:42:52.945575Z",
     "iopub.status.busy": "2024-04-18T11:42:52.945007Z",
     "iopub.status.idle": "2024-04-18T11:42:55.166172Z",
     "shell.execute_reply": "2024-04-18T11:42:55.165347Z"
    }
   },
   "outputs": [
    {
     "name": "stdout",
     "output_type": "stream",
     "text": [
      "Note: you may need to restart the kernel to use updated packages.\n"
     ]
    }
   ],
   "source": [
    "# installing dependencies\n",
    "%pip install -q dff psutil"
   ]
  },
  {
   "cell_type": "code",
   "execution_count": 2,
   "id": "59174fde",
   "metadata": {
    "execution": {
     "iopub.execute_input": "2024-04-18T11:42:55.169279Z",
     "iopub.status.busy": "2024-04-18T11:42:55.168832Z",
     "iopub.status.idle": "2024-04-18T11:42:55.864070Z",
     "shell.execute_reply": "2024-04-18T11:42:55.863300Z"
    }
   },
   "outputs": [],
   "source": [
    "import json\n",
    "import logging\n",
    "import random\n",
    "from datetime import datetime\n",
    "\n",
    "import psutil\n",
    "from dff.script import Context\n",
    "\n",
    "from dff.pipeline import (\n",
    "    Pipeline,\n",
    "    ServiceGroup,\n",
    "    to_service,\n",
    "    ExtraHandlerRuntimeInfo,\n",
    "    ServiceRuntimeInfo,\n",
    "    ACTOR,\n",
    ")\n",
    "\n",
    "from dff.utils.testing.common import (\n",
    "    check_happy_path,\n",
    "    is_interactive_mode,\n",
    "    run_interactive_mode,\n",
    ")\n",
    "from dff.utils.testing.toy_script import HAPPY_PATH, TOY_SCRIPT\n",
    "\n",
    "logger = logging.getLogger(__name__)"
   ]
  },
  {
   "cell_type": "markdown",
   "id": "b42131ab",
   "metadata": {
    "cell_marker": "\"\"\""
   },
   "source": [
    "Extra handlers are additional function lists\n",
    "    (before-functions and/or after-functions)\n",
    "    that can be added to any pipeline components (service and service groups).\n",
    "Despite extra handlers can be used to prepare data for certain services,\n",
    "that require some very special input type,\n",
    "    in most cases services should be preferred for that purpose.\n",
    "Extra handlers can be asynchronous,\n",
    "however there's no statistics that can be collected about them.\n",
    "So their main purpose should be _really_ lightweight data conversion (etc.)\n",
    "    operations or service and service groups statistics collection.\n",
    "\n",
    "Extra handlers have the following constructor arguments / parameters:\n",
    "\n",
    "* `functions` - Functions that will be run.\n",
    "* `timeout` - Timeout for that extra handler\n",
    "        (for asynchronous extra handlers only).\n",
    "* `asynchronous` - Whether this extra handler should be asynchronous or not.\n",
    "NB! Extra handlers don't have execution state,\n",
    "so their names shouldn't appear in built-in condition functions.\n",
    "\n",
    "Extra handlers callable signature can be one of the following:\n",
    "`[ctx]`, `[ctx, pipeline]` or `[ctx, pipeline, info]`, where:\n",
    "\n",
    "* `ctx` - `Context` of the current dialog.\n",
    "* `pipeline` - The current pipeline.\n",
    "* `info` - Dictionary, containing information about current extra handler\n",
    "            and pipeline execution state (see tutorial 4).\n",
    "\n",
    "Extra handlers can be attached to pipeline component in a few different ways:\n",
    "\n",
    "1. Directly in constructor - by adding extra handlers to\n",
    "    `before_handler` or `after_handler` constructor parameter.\n",
    "2. (Services only) `to_service` decorator -\n",
    "    transforms function to service with extra handlers\n",
    "    from `before_handler` and `after_handler` arguments.\n",
    "\n",
    "Here 5 `heavy_service`s fill big amounts of memory with random numbers.\n",
    "Their runtime stats are captured and displayed by extra services,\n",
    "`time_measure_handler` measures time and\n",
    "`ram_measure_handler` - allocated memory.\n",
    "Another `time_measure_handler` measures total\n",
    "amount of time taken by all of them (combined in service group).\n",
    "`logging_service` logs stats, however it can use string arguments only,\n",
    "    so `json_encoder_handler` is applied to encode stats to JSON."
   ]
  },
  {
   "cell_type": "code",
   "execution_count": 3,
   "id": "a2762f97",
   "metadata": {
    "execution": {
     "iopub.execute_input": "2024-04-18T11:42:55.868227Z",
     "iopub.status.busy": "2024-04-18T11:42:55.867670Z",
     "iopub.status.idle": "2024-04-18T11:42:55.875523Z",
     "shell.execute_reply": "2024-04-18T11:42:55.874735Z"
    }
   },
   "outputs": [],
   "source": [
    "def get_extra_handler_misc_field(\n",
    "    info: ExtraHandlerRuntimeInfo, postfix: str\n",
    ") -> str:  # This method calculates `misc` field name dedicated to extra handler\n",
    "    # based on its and its service name\n",
    "    return f\"{info.component.name}-{postfix}\"\n",
    "\n",
    "\n",
    "def time_measure_before_handler(ctx, _, info):\n",
    "    ctx.misc.update(\n",
    "        {get_extra_handler_misc_field(info, \"time\"): datetime.now()}\n",
    "    )\n",
    "\n",
    "\n",
    "def time_measure_after_handler(ctx, _, info):\n",
    "    ctx.misc.update(\n",
    "        {\n",
    "            get_extra_handler_misc_field(info, \"time\"): datetime.now()\n",
    "            - ctx.misc[get_extra_handler_misc_field(info, \"time\")]\n",
    "        }\n",
    "    )\n",
    "\n",
    "\n",
    "def ram_measure_before_handler(ctx, _, info):\n",
    "    ctx.misc.update(\n",
    "        {\n",
    "            get_extra_handler_misc_field(\n",
    "                info, \"ram\"\n",
    "            ): psutil.virtual_memory().available\n",
    "        }\n",
    "    )\n",
    "\n",
    "\n",
    "def ram_measure_after_handler(ctx, _, info):\n",
    "    ctx.misc.update(\n",
    "        {\n",
    "            get_extra_handler_misc_field(info, \"ram\"): ctx.misc[\n",
    "                get_extra_handler_misc_field(info, \"ram\")\n",
    "            ]\n",
    "            - psutil.virtual_memory().available\n",
    "        }\n",
    "    )\n",
    "\n",
    "\n",
    "def json_converter_before_handler(ctx, _, info):\n",
    "    ctx.misc.update(\n",
    "        {\n",
    "            get_extra_handler_misc_field(info, \"str\"): json.dumps(\n",
    "                ctx.misc, indent=4, default=str\n",
    "            )\n",
    "        }\n",
    "    )\n",
    "\n",
    "\n",
    "def json_converter_after_handler(ctx, _, info):\n",
    "    ctx.misc.pop(get_extra_handler_misc_field(info, \"str\"))\n",
    "\n",
    "\n",
    "memory_heap = dict()  # This object plays part of some memory heap"
   ]
  },
  {
   "cell_type": "code",
   "execution_count": 4,
   "id": "5de4d4d1",
   "metadata": {
    "execution": {
     "iopub.execute_input": "2024-04-18T11:42:55.878704Z",
     "iopub.status.busy": "2024-04-18T11:42:55.878072Z",
     "iopub.status.idle": "2024-04-18T11:42:55.886994Z",
     "shell.execute_reply": "2024-04-18T11:42:55.886352Z"
    }
   },
   "outputs": [],
   "source": [
    "@to_service(\n",
    "    before_handler=[time_measure_before_handler, ram_measure_before_handler],\n",
    "    after_handler=[time_measure_after_handler, ram_measure_after_handler],\n",
    ")\n",
    "def heavy_service(ctx: Context):\n",
    "    memory_heap[ctx.last_request.text] = [\n",
    "        random.randint(0, num) for num in range(0, 1000)\n",
    "    ]\n",
    "\n",
    "\n",
    "@to_service(\n",
    "    before_handler=[json_converter_before_handler],\n",
    "    after_handler=[json_converter_after_handler],\n",
    ")\n",
    "def logging_service(ctx: Context, _, info: ServiceRuntimeInfo):\n",
    "    str_misc = ctx.misc[f\"{info.name}-str\"]\n",
    "    assert isinstance(str_misc, str)\n",
    "    print(f\"Stringified misc: {str_misc}\")\n",
    "\n",
    "\n",
    "pipeline_dict = {\n",
    "    \"script\": TOY_SCRIPT,\n",
    "    \"start_label\": (\"greeting_flow\", \"start_node\"),\n",
    "    \"fallback_label\": (\"greeting_flow\", \"fallback_node\"),\n",
    "    \"components\": [\n",
    "        ServiceGroup(\n",
    "            before_handler=[time_measure_before_handler],\n",
    "            after_handler=[time_measure_after_handler],\n",
    "            components=[heavy_service for _ in range(0, 5)],\n",
    "        ),\n",
    "        ACTOR,\n",
    "        logging_service,\n",
    "    ],\n",
    "}"
   ]
  },
  {
   "cell_type": "code",
   "execution_count": 5,
   "id": "392c3cc6",
   "metadata": {
    "execution": {
     "iopub.execute_input": "2024-04-18T11:42:55.890298Z",
     "iopub.status.busy": "2024-04-18T11:42:55.889836Z",
     "iopub.status.idle": "2024-04-18T11:42:55.936447Z",
     "shell.execute_reply": "2024-04-18T11:42:55.935710Z"
    }
   },
   "outputs": [
    {
     "name": "stdout",
     "output_type": "stream",
     "text": [
      "Stringified misc: {\n",
      "    \"service_group_0-time\": \"2024-04-18 11:42:55.892607\"\n",
      "}\n",
      "(user) >>> text='Hi'\n",
      " (bot) <<< text='Hi, how are you?'\n",
      "Stringified misc: {\n",
      "    \"service_group_0-time\": \"2024-04-18 11:42:55.905177\",\n",
      "    \"heavy_service_0-time\": \"0:00:00.001260\",\n",
      "    \"heavy_service_0-ram\": 0,\n",
      "    \"heavy_service_1-time\": \"0:00:00.001324\",\n",
      "    \"heavy_service_1-ram\": 0,\n",
      "    \"heavy_service_2-time\": \"0:00:00.000963\",\n",
      "    \"heavy_service_2-ram\": 0,\n",
      "    \"heavy_service_3-time\": \"0:00:00.000942\",\n",
      "    \"heavy_service_3-ram\": 0,\n",
      "    \"heavy_service_4-time\": \"0:00:00.000932\",\n",
      "    \"heavy_service_4-ram\": 258048\n",
      "}\n",
      "(user) >>> text='i'm fine, how are you?'\n",
      " (bot) <<< text='Good. What do you want to talk about?'\n",
      "Stringified misc: {\n",
      "    \"service_group_0-time\": \"2024-04-18 11:42:55.912781\",\n",
      "    \"heavy_service_0-time\": \"0:00:00.000943\",\n",
      "    \"heavy_service_0-ram\": 0,\n",
      "    \"heavy_service_1-time\": \"0:00:00.000935\",\n",
      "    \"heavy_service_1-ram\": 0,\n",
      "    \"heavy_service_2-time\": \"0:00:00.000966\",\n",
      "    \"heavy_service_2-ram\": 0,\n",
      "    \"heavy_service_3-time\": \"0:00:00.000950\",\n",
      "    \"heavy_service_3-ram\": 0,\n",
      "    \"heavy_service_4-time\": \"0:00:00.000932\",\n",
      "    \"heavy_service_4-ram\": 0\n",
      "}\n",
      "(user) >>> text='Let's talk about music.'\n",
      " (bot) <<< text='Sorry, I can not talk about music now.'\n",
      "Stringified misc: {\n",
      "    \"service_group_0-time\": \"2024-04-18 11:42:55.919917\",\n",
      "    \"heavy_service_0-time\": \"0:00:00.001000\",\n",
      "    \"heavy_service_0-ram\": 0,\n",
      "    \"heavy_service_1-time\": \"0:00:00.000948\",\n",
      "    \"heavy_service_1-ram\": 0,\n",
      "    \"heavy_service_2-time\": \"0:00:00.000942\",\n",
      "    \"heavy_service_2-ram\": 0,\n",
      "    \"heavy_service_3-time\": \"0:00:00.000891\",\n",
      "    \"heavy_service_3-ram\": 0,\n",
      "    \"heavy_service_4-time\": \"0:00:00.000921\",\n",
      "    \"heavy_service_4-ram\": 0\n",
      "}\n",
      "(user) >>> text='Ok, goodbye.'\n",
      " (bot) <<< text='bye'\n",
      "Stringified misc: {\n",
      "    \"service_group_0-time\": \"2024-04-18 11:42:55.927300\",\n",
      "    \"heavy_service_0-time\": \"0:00:00.000963\",\n",
      "    \"heavy_service_0-ram\": 0,\n",
      "    \"heavy_service_1-time\": \"0:00:00.001000\",\n",
      "    \"heavy_service_1-ram\": 0,\n",
      "    \"heavy_service_2-time\": \"0:00:00.000987\",\n",
      "    \"heavy_service_2-ram\": 0,\n",
      "    \"heavy_service_3-time\": \"0:00:00.000958\",\n",
      "    \"heavy_service_3-ram\": 0,\n",
      "    \"heavy_service_4-time\": \"0:00:00.000924\",\n",
      "    \"heavy_service_4-ram\": 0\n",
      "}\n",
      "(user) >>> text='Hi'\n",
      " (bot) <<< text='Hi, how are you?'\n"
     ]
    }
   ],
   "source": [
    "pipeline = Pipeline(**pipeline_dict)\n",
    "\n",
    "if __name__ == \"__main__\":\n",
    "    check_happy_path(pipeline, HAPPY_PATH)\n",
    "    if is_interactive_mode():\n",
    "        run_interactive_mode(pipeline)"
   ]
  }
 ],
 "metadata": {
  "jupytext": {
   "cell_metadata_filter": "-all",
   "main_language": "python",
   "notebook_metadata_filter": "-all",
   "text_representation": {
    "extension": ".py",
    "format_name": "percent"
   }
  },
  "language_info": {
   "codemirror_mode": {
    "name": "ipython",
    "version": 3
   },
   "file_extension": ".py",
   "mimetype": "text/x-python",
   "name": "python",
   "nbconvert_exporter": "python",
   "pygments_lexer": "ipython3",
   "version": "3.9.19"
  }
 },
 "nbformat": 4,
 "nbformat_minor": 5
}
