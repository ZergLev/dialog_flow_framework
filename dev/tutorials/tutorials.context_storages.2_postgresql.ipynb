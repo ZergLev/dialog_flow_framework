{
 "cells": [
  {
   "cell_type": "markdown",
   "id": "baed3479",
   "metadata": {
    "cell_marker": "\"\"\""
   },
   "source": [
    "# 2. PostgreSQL\n",
    "\n",
    "This is a tutorial on using PostgreSQL.\n",
    "\n",
    "See [SQLContextStorage](../apiref/dff.context_storages.sql.rst#dff.context_storages.sql.SQLContextStorage) class\n",
    "for storing your users' contexts in SQL databases.\n",
    "\n",
    "DFF uses [sqlalchemy](https://docs.sqlalchemy.org/en/20/)\n",
    "and [asyncpg](https://magicstack.github.io/asyncpg/current/)\n",
    "libraries for asynchronous access to PostgreSQL DB."
   ]
  },
  {
   "cell_type": "code",
   "execution_count": 1,
   "id": "60a9784d",
   "metadata": {
    "execution": {
     "iopub.execute_input": "2024-04-21T12:05:58.046068Z",
     "iopub.status.busy": "2024-04-21T12:05:58.045574Z",
     "iopub.status.idle": "2024-04-21T12:06:00.235015Z",
     "shell.execute_reply": "2024-04-21T12:06:00.233977Z"
    }
   },
   "outputs": [
    {
     "name": "stdout",
     "output_type": "stream",
     "text": [
      "Note: you may need to restart the kernel to use updated packages.\n"
     ]
    }
   ],
   "source": [
    "# installing dependencies\n",
    "%pip install -q dff[postgresql]"
   ]
  },
  {
   "cell_type": "code",
   "execution_count": 2,
   "id": "8413e4a0",
   "metadata": {
    "execution": {
     "iopub.execute_input": "2024-04-21T12:06:00.238218Z",
     "iopub.status.busy": "2024-04-21T12:06:00.237772Z",
     "iopub.status.idle": "2024-04-21T12:06:00.889468Z",
     "shell.execute_reply": "2024-04-21T12:06:00.888768Z"
    },
    "lines_to_next_cell": 2
   },
   "outputs": [],
   "source": [
    "import os\n",
    "\n",
    "from dff.context_storages import context_storage_factory\n",
    "\n",
    "from dff.pipeline import Pipeline\n",
    "from dff.utils.testing.common import (\n",
    "    check_happy_path,\n",
    "    is_interactive_mode,\n",
    "    run_interactive_mode,\n",
    ")\n",
    "from dff.utils.testing.toy_script import TOY_SCRIPT_ARGS, HAPPY_PATH"
   ]
  },
  {
   "cell_type": "code",
   "execution_count": 3,
   "id": "ebf7a10b",
   "metadata": {
    "execution": {
     "iopub.execute_input": "2024-04-21T12:06:00.892890Z",
     "iopub.status.busy": "2024-04-21T12:06:00.892394Z",
     "iopub.status.idle": "2024-04-21T12:06:01.034592Z",
     "shell.execute_reply": "2024-04-21T12:06:01.033846Z"
    },
    "lines_to_next_cell": 2
   },
   "outputs": [],
   "source": [
    "db_uri = \"postgresql+asyncpg://{}:{}@localhost:5432/{}\".format(\n",
    "    os.environ[\"POSTGRES_USERNAME\"],\n",
    "    os.environ[\"POSTGRES_PASSWORD\"],\n",
    "    os.environ[\"POSTGRES_DB\"],\n",
    ")\n",
    "db = context_storage_factory(db_uri)\n",
    "\n",
    "\n",
    "pipeline = Pipeline.from_script(*TOY_SCRIPT_ARGS, context_storage=db)"
   ]
  },
  {
   "cell_type": "code",
   "execution_count": 4,
   "id": "082653bf",
   "metadata": {
    "execution": {
     "iopub.execute_input": "2024-04-21T12:06:01.037855Z",
     "iopub.status.busy": "2024-04-21T12:06:01.037407Z",
     "iopub.status.idle": "2024-04-21T12:06:01.075326Z",
     "shell.execute_reply": "2024-04-21T12:06:01.074586Z"
    }
   },
   "outputs": [
    {
     "name": "stdout",
     "output_type": "stream",
     "text": [
      "(user) >>> text='Hi'\n",
      " (bot) <<< text='Hi, how are you?'\n",
      "(user) >>> text='i'm fine, how are you?'\n",
      " (bot) <<< text='Good. What do you want to talk about?'\n",
      "(user) >>> text='Let's talk about music.'\n",
      " (bot) <<< text='Sorry, I can not talk about music now.'\n",
      "(user) >>> text='Ok, goodbye.'\n",
      " (bot) <<< text='bye'\n",
      "(user) >>> text='Hi'\n",
      " (bot) <<< text='Hi, how are you?'\n"
     ]
    }
   ],
   "source": [
    "if __name__ == \"__main__\":\n",
    "    check_happy_path(pipeline, HAPPY_PATH)\n",
    "    if is_interactive_mode():\n",
    "        run_interactive_mode(pipeline)"
   ]
  }
 ],
 "metadata": {
  "jupytext": {
   "cell_metadata_filter": "-all",
   "main_language": "python",
   "notebook_metadata_filter": "-all",
   "text_representation": {
    "extension": ".py",
    "format_name": "percent"
   }
  },
  "language_info": {
   "codemirror_mode": {
    "name": "ipython",
    "version": 3
   },
   "file_extension": ".py",
   "mimetype": "text/x-python",
   "name": "python",
   "nbconvert_exporter": "python",
   "pygments_lexer": "ipython3",
   "version": "3.9.19"
  }
 },
 "nbformat": 4,
 "nbformat_minor": 5
}
