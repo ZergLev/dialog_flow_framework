{
 "cells": [
  {
   "cell_type": "markdown",
   "id": "a2222281",
   "metadata": {
    "cell_marker": "\"\"\""
   },
   "source": [
    "# 1. Basics\n",
    "\n",
    "The following tutorial shows basic usage of `pipeline`\n",
    "module as an extension to `dff.script.core`.\n",
    "\n",
    "Here, `__call__` (same as\n",
    "[run](../apiref/dff.pipeline.pipeline.pipeline.rst#dff.pipeline.pipeline.pipeline.Pipeline.run))\n",
    "method is used to execute pipeline once."
   ]
  },
  {
   "cell_type": "code",
   "execution_count": 1,
   "id": "9a64e701",
   "metadata": {
    "execution": {
     "iopub.execute_input": "2024-04-21T12:07:19.192463Z",
     "iopub.status.busy": "2024-04-21T12:07:19.191978Z",
     "iopub.status.idle": "2024-04-21T12:07:21.351842Z",
     "shell.execute_reply": "2024-04-21T12:07:21.351064Z"
    }
   },
   "outputs": [
    {
     "name": "stdout",
     "output_type": "stream",
     "text": [
      "Note: you may need to restart the kernel to use updated packages.\n"
     ]
    }
   ],
   "source": [
    "# installing dependencies\n",
    "%pip install -q dff"
   ]
  },
  {
   "cell_type": "code",
   "execution_count": 2,
   "id": "66fe184a",
   "metadata": {
    "execution": {
     "iopub.execute_input": "2024-04-21T12:07:21.354999Z",
     "iopub.status.busy": "2024-04-21T12:07:21.354511Z",
     "iopub.status.idle": "2024-04-21T12:07:22.008254Z",
     "shell.execute_reply": "2024-04-21T12:07:22.007520Z"
    },
    "lines_to_next_cell": 2
   },
   "outputs": [],
   "source": [
    "from dff.script import Context, Message\n",
    "\n",
    "from dff.pipeline import Pipeline\n",
    "\n",
    "from dff.utils.testing import (\n",
    "    check_happy_path,\n",
    "    is_interactive_mode,\n",
    "    HAPPY_PATH,\n",
    "    TOY_SCRIPT,\n",
    "    TOY_SCRIPT_ARGS,\n",
    ")"
   ]
  },
  {
   "cell_type": "markdown",
   "id": "09a85d87",
   "metadata": {
    "cell_marker": "\"\"\""
   },
   "source": [
    "`Pipeline` is an object, that automates script execution and context management.\n",
    "`from_script` method can be used to create\n",
    "a pipeline of the most basic structure:\n",
    "\"preprocessors -> actor -> postprocessors\"\n",
    "as well as to define `context_storage` and `messenger_interface`.\n",
    "Actor is a component of :py:class:`.Pipeline`, that contains the\n",
    ":py:class:`.Script` and handles it. It is responsible for processing\n",
    "user input and determining the appropriate response based on the\n",
    "current state of the conversation and the script.\n",
    "These parameters usage will be shown in tutorials 2, 3 and 6.\n",
    "\n",
    "Here only required parameters are provided to pipeline.\n",
    "`context_storage` will default to simple Python dict and\n",
    "`messenger_interface` will never be used.\n",
    "pre- and postprocessors lists are empty.\n",
    "`Pipeline` object can be called with user input\n",
    "as first argument and dialog id (any immutable object).\n",
    "This call will return `Context`,\n",
    "its `last_response` property will be actors response."
   ]
  },
  {
   "cell_type": "code",
   "execution_count": 3,
   "id": "4fd1cfa0",
   "metadata": {
    "execution": {
     "iopub.execute_input": "2024-04-21T12:07:22.012071Z",
     "iopub.status.busy": "2024-04-21T12:07:22.011474Z",
     "iopub.status.idle": "2024-04-21T12:07:22.015391Z",
     "shell.execute_reply": "2024-04-21T12:07:22.014696Z"
    },
    "lines_to_next_cell": 2
   },
   "outputs": [],
   "source": [
    "pipeline = Pipeline.from_script(\n",
    "    TOY_SCRIPT,\n",
    "    # Pipeline script object, defined in `dff.utils.testing.toy_script`\n",
    "    start_label=(\"greeting_flow\", \"start_node\"),\n",
    "    fallback_label=(\"greeting_flow\", \"fallback_node\"),\n",
    ")"
   ]
  },
  {
   "cell_type": "markdown",
   "id": "a00e3e17",
   "metadata": {
    "cell_marker": "\"\"\""
   },
   "source": [
    "For the sake of brevity, other tutorials\n",
    "might use `TOY_SCRIPT_ARGS` to initialize pipeline:"
   ]
  },
  {
   "cell_type": "code",
   "execution_count": 4,
   "id": "99b336c9",
   "metadata": {
    "execution": {
     "iopub.execute_input": "2024-04-21T12:07:22.018144Z",
     "iopub.status.busy": "2024-04-21T12:07:22.017769Z",
     "iopub.status.idle": "2024-04-21T12:07:22.021063Z",
     "shell.execute_reply": "2024-04-21T12:07:22.020417Z"
    },
    "lines_to_next_cell": 2
   },
   "outputs": [],
   "source": [
    "assert TOY_SCRIPT_ARGS == (\n",
    "    TOY_SCRIPT,\n",
    "    (\"greeting_flow\", \"start_node\"),\n",
    "    (\"greeting_flow\", \"fallback_node\"),\n",
    ")"
   ]
  },
  {
   "cell_type": "code",
   "execution_count": 5,
   "id": "a01dfc44",
   "metadata": {
    "execution": {
     "iopub.execute_input": "2024-04-21T12:07:22.023848Z",
     "iopub.status.busy": "2024-04-21T12:07:22.023631Z",
     "iopub.status.idle": "2024-04-21T12:07:22.038217Z",
     "shell.execute_reply": "2024-04-21T12:07:22.037574Z"
    }
   },
   "outputs": [
    {
     "name": "stdout",
     "output_type": "stream",
     "text": [
      "(user) >>> text='Hi'\n",
      " (bot) <<< text='Hi, how are you?'\n",
      "(user) >>> text='i'm fine, how are you?'\n",
      " (bot) <<< text='Good. What do you want to talk about?'\n",
      "(user) >>> text='Let's talk about music.'\n",
      " (bot) <<< text='Sorry, I can not talk about music now.'\n",
      "(user) >>> text='Ok, goodbye.'\n",
      " (bot) <<< text='bye'\n",
      "(user) >>> text='Hi'\n",
      " (bot) <<< text='Hi, how are you?'\n"
     ]
    }
   ],
   "source": [
    "if __name__ == \"__main__\":\n",
    "    check_happy_path(pipeline, HAPPY_PATH)\n",
    "    # a function for automatic tutorial running (testing) with HAPPY_PATH\n",
    "\n",
    "    # This runs tutorial in interactive mode if not in IPython env\n",
    "    # and if `DISABLE_INTERACTIVE_MODE` is not set\n",
    "    if is_interactive_mode():\n",
    "        ctx_id = 0  # 0 will be current dialog (context) identification.\n",
    "        while True:\n",
    "            message = Message(input(\"Send request: \"))\n",
    "            ctx: Context = pipeline(message, ctx_id)\n",
    "            print(ctx.last_response)"
   ]
  }
 ],
 "metadata": {
  "jupytext": {
   "cell_metadata_filter": "-all",
   "main_language": "python",
   "notebook_metadata_filter": "-all",
   "text_representation": {
    "extension": ".py",
    "format_name": "percent"
   }
  },
  "language_info": {
   "codemirror_mode": {
    "name": "ipython",
    "version": 3
   },
   "file_extension": ".py",
   "mimetype": "text/x-python",
   "name": "python",
   "nbconvert_exporter": "python",
   "pygments_lexer": "ipython3",
   "version": "3.9.19"
  }
 },
 "nbformat": 4,
 "nbformat_minor": 5
}
