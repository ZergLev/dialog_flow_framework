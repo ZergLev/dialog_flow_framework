{
 "cells": [
  {
   "cell_type": "markdown",
   "id": "a18a9752",
   "metadata": {
    "cell_marker": "\"\"\""
   },
   "source": [
    "# Telegram: 1. Basic\n",
    "\n",
    "The following tutorial shows how to run a regular DFF script in Telegram.\n",
    "It asks users for the '/start' command and then loops in one place.\n",
    "\n",
    "Here, [PollingTelegramInterface](../apiref/dff.messengers.telegram.interface.rst#dff.messengers.telegram.interface.PollingTelegramInterface)\n",
    "class and [telebot](https://pytba.readthedocs.io/en/latest/index.html)\n",
    "library are used for accessing telegram API in polling mode.\n",
    "\n",
    "Telegram API token is required to access telegram API."
   ]
  },
  {
   "cell_type": "code",
   "execution_count": 1,
   "id": "5e35fa45",
   "metadata": {
    "execution": {
     "iopub.execute_input": "2024-04-18T11:40:52.469528Z",
     "iopub.status.busy": "2024-04-18T11:40:52.468849Z",
     "iopub.status.idle": "2024-04-18T11:40:54.812211Z",
     "shell.execute_reply": "2024-04-18T11:40:54.811205Z"
    }
   },
   "outputs": [
    {
     "name": "stdout",
     "output_type": "stream",
     "text": [
      "Note: you may need to restart the kernel to use updated packages.\n"
     ]
    }
   ],
   "source": [
    "# installing dependencies\n",
    "%pip install -q dff[telegram]"
   ]
  },
  {
   "cell_type": "code",
   "execution_count": 2,
   "id": "35f5b92d",
   "metadata": {
    "execution": {
     "iopub.execute_input": "2024-04-18T11:40:54.815316Z",
     "iopub.status.busy": "2024-04-18T11:40:54.815090Z",
     "iopub.status.idle": "2024-04-18T11:40:55.665170Z",
     "shell.execute_reply": "2024-04-18T11:40:55.664419Z"
    },
    "lines_to_next_cell": 2
   },
   "outputs": [],
   "source": [
    "import os\n",
    "\n",
    "from dff.script import conditions as cnd\n",
    "from dff.script import labels as lbl\n",
    "from dff.script import RESPONSE, TRANSITIONS, Message\n",
    "from dff.messengers.telegram import PollingTelegramInterface\n",
    "from dff.pipeline import Pipeline\n",
    "from dff.utils.testing.common import is_interactive_mode"
   ]
  },
  {
   "cell_type": "markdown",
   "id": "6efb7d08",
   "metadata": {
    "cell_marker": "\"\"\"",
    "lines_to_next_cell": 2
   },
   "source": [
    "In order to integrate your script with Telegram, you need an instance of\n",
    "`TelegramMessenger` class and one of the following interfaces:\n",
    "`PollingMessengerInterface` or `WebhookMessengerInterface`.\n",
    "\n",
    "`TelegramMessenger` encapsulates the bot logic. Like Telebot,\n",
    "`TelegramMessenger` only requires a token to run. However, all parameters\n",
    "from the Telebot class can be passed as keyword arguments.\n",
    "\n",
    "The two interfaces connect the bot to Telegram. They can be passed directly\n",
    "to the DFF `Pipeline` instance."
   ]
  },
  {
   "cell_type": "code",
   "execution_count": 3,
   "id": "932c39e2",
   "metadata": {
    "execution": {
     "iopub.execute_input": "2024-04-18T11:40:55.669170Z",
     "iopub.status.busy": "2024-04-18T11:40:55.668481Z",
     "iopub.status.idle": "2024-04-18T11:40:55.674138Z",
     "shell.execute_reply": "2024-04-18T11:40:55.673416Z"
    },
    "lines_to_next_cell": 2
   },
   "outputs": [],
   "source": [
    "script = {\n",
    "    \"greeting_flow\": {\n",
    "        \"start_node\": {\n",
    "            TRANSITIONS: {\"greeting_node\": cnd.exact_match(Message(\"/start\"))},\n",
    "        },\n",
    "        \"greeting_node\": {\n",
    "            RESPONSE: Message(\"Hi\"),\n",
    "            TRANSITIONS: {lbl.repeat(): cnd.true()},\n",
    "        },\n",
    "        \"fallback_node\": {\n",
    "            RESPONSE: Message(\"Please, repeat the request\"),\n",
    "            TRANSITIONS: {\"greeting_node\": cnd.exact_match(Message(\"/start\"))},\n",
    "        },\n",
    "    }\n",
    "}\n",
    "\n",
    "# this variable is only for testing\n",
    "happy_path = (\n",
    "    (Message(\"/start\"), Message(\"Hi\")),\n",
    "    (Message(\"Hi\"), Message(\"Hi\")),\n",
    "    (Message(\"Bye\"), Message(\"Hi\")),\n",
    ")"
   ]
  },
  {
   "cell_type": "code",
   "execution_count": 4,
   "id": "f491a981",
   "metadata": {
    "execution": {
     "iopub.execute_input": "2024-04-18T11:40:55.677527Z",
     "iopub.status.busy": "2024-04-18T11:40:55.677021Z",
     "iopub.status.idle": "2024-04-18T11:40:55.680910Z",
     "shell.execute_reply": "2024-04-18T11:40:55.680197Z"
    },
    "lines_to_next_cell": 2
   },
   "outputs": [],
   "source": [
    "interface = PollingTelegramInterface(token=os.environ[\"TG_BOT_TOKEN\"])"
   ]
  },
  {
   "cell_type": "code",
   "execution_count": 5,
   "id": "0a384711",
   "metadata": {
    "execution": {
     "iopub.execute_input": "2024-04-18T11:40:55.683909Z",
     "iopub.status.busy": "2024-04-18T11:40:55.683703Z",
     "iopub.status.idle": "2024-04-18T11:40:55.688803Z",
     "shell.execute_reply": "2024-04-18T11:40:55.688028Z"
    }
   },
   "outputs": [],
   "source": [
    "pipeline = Pipeline.from_script(\n",
    "    script=script,\n",
    "    start_label=(\"greeting_flow\", \"start_node\"),\n",
    "    fallback_label=(\"greeting_flow\", \"fallback_node\"),\n",
    "    messenger_interface=interface,\n",
    "    # The interface can be passed as a pipeline argument.\n",
    ")\n",
    "\n",
    "\n",
    "def main():\n",
    "    pipeline.run()\n",
    "\n",
    "\n",
    "if __name__ == \"__main__\" and is_interactive_mode():\n",
    "    # prevent run during doc building\n",
    "    main()"
   ]
  }
 ],
 "metadata": {
  "jupytext": {
   "cell_metadata_filter": "-all",
   "main_language": "python",
   "notebook_metadata_filter": "-all",
   "text_representation": {
    "extension": ".py",
    "format_name": "percent"
   }
  },
  "language_info": {
   "codemirror_mode": {
    "name": "ipython",
    "version": 3
   },
   "file_extension": ".py",
   "mimetype": "text/x-python",
   "name": "python",
   "nbconvert_exporter": "python",
   "pygments_lexer": "ipython3",
   "version": "3.9.19"
  }
 },
 "nbformat": 4,
 "nbformat_minor": 5
}
