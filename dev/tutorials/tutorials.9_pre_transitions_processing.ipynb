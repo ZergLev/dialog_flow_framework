{
 "cells": [
  {
   "cell_type": "markdown",
   "id": "2188ed1d",
   "metadata": {
    "cell_marker": "\"\"\""
   },
   "source": [
    "# Core: 9. Pre-transitions processing\n",
    "\n",
    "This tutorial shows pre-transitions processing feature.\n",
    "\n",
    "Here, [PRE_TRANSITIONS_PROCESSING](../apiref/dff.script.core.keywords.rst#dff.script.core.keywords.Keywords.PRE_TRANSITIONS_PROCESSING)\n",
    "is demonstrated which can be used for additional context\n",
    "processing before transitioning to the next step.\n",
    "\n",
    "First of all, let's do all the necessary imports from DFF."
   ]
  },
  {
   "cell_type": "code",
   "execution_count": 1,
   "id": "6584df13",
   "metadata": {
    "execution": {
     "iopub.execute_input": "2024-04-27T06:52:24.187765Z",
     "iopub.status.busy": "2024-04-27T06:52:24.187160Z",
     "iopub.status.idle": "2024-04-27T06:52:26.313194Z",
     "shell.execute_reply": "2024-04-27T06:52:26.312246Z"
    }
   },
   "outputs": [
    {
     "name": "stdout",
     "output_type": "stream",
     "text": [
      "Note: you may need to restart the kernel to use updated packages.\n"
     ]
    }
   ],
   "source": [
    "# installing dependencies\n",
    "%pip install -q dff"
   ]
  },
  {
   "cell_type": "code",
   "execution_count": 2,
   "id": "356b6e4e",
   "metadata": {
    "execution": {
     "iopub.execute_input": "2024-04-27T06:52:26.316258Z",
     "iopub.status.busy": "2024-04-27T06:52:26.316039Z",
     "iopub.status.idle": "2024-04-27T06:52:26.942279Z",
     "shell.execute_reply": "2024-04-27T06:52:26.941654Z"
    }
   },
   "outputs": [],
   "source": [
    "from dff.script import (\n",
    "    GLOBAL,\n",
    "    RESPONSE,\n",
    "    TRANSITIONS,\n",
    "    PRE_RESPONSE_PROCESSING,\n",
    "    PRE_TRANSITIONS_PROCESSING,\n",
    "    Context,\n",
    "    Message,\n",
    ")\n",
    "import dff.script.labels as lbl\n",
    "import dff.script.conditions as cnd\n",
    "from dff.pipeline import Pipeline\n",
    "from dff.utils.testing.common import (\n",
    "    check_happy_path,\n",
    "    is_interactive_mode,\n",
    "    run_interactive_mode,\n",
    ")"
   ]
  },
  {
   "cell_type": "code",
   "execution_count": 3,
   "id": "d5d2d081",
   "metadata": {
    "execution": {
     "iopub.execute_input": "2024-04-27T06:52:26.945606Z",
     "iopub.status.busy": "2024-04-27T06:52:26.945157Z",
     "iopub.status.idle": "2024-04-27T06:52:26.949419Z",
     "shell.execute_reply": "2024-04-27T06:52:26.948789Z"
    }
   },
   "outputs": [],
   "source": [
    "def save_previous_node_response(ctx: Context, _: Pipeline):\n",
    "    processed_node = ctx.current_node\n",
    "    ctx.misc[\"previous_node_response\"] = processed_node.response\n",
    "\n",
    "\n",
    "def prepend_previous_node_response(ctx: Context, _: Pipeline):\n",
    "    processed_node = ctx.current_node\n",
    "    processed_node.response = Message(\n",
    "        text=f\"previous={ctx.misc['previous_node_response'].text}:\"\n",
    "        f\" current={processed_node.response.text}\"\n",
    "    )"
   ]
  },
  {
   "cell_type": "code",
   "execution_count": 4,
   "id": "b0ea1944",
   "metadata": {
    "execution": {
     "iopub.execute_input": "2024-04-27T06:52:26.952166Z",
     "iopub.status.busy": "2024-04-27T06:52:26.951811Z",
     "iopub.status.idle": "2024-04-27T06:52:26.957700Z",
     "shell.execute_reply": "2024-04-27T06:52:26.957085Z"
    },
    "lines_to_next_cell": 2
   },
   "outputs": [],
   "source": [
    "# a dialog script\n",
    "toy_script = {\n",
    "    \"root\": {\n",
    "        \"start\": {\n",
    "            RESPONSE: Message(),\n",
    "            TRANSITIONS: {(\"flow\", \"step_0\"): cnd.true()},\n",
    "        },\n",
    "        \"fallback\": {RESPONSE: Message(\"the end\")},\n",
    "    },\n",
    "    GLOBAL: {\n",
    "        PRE_RESPONSE_PROCESSING: {\n",
    "            \"proc_name_1\": prepend_previous_node_response\n",
    "        },\n",
    "        PRE_TRANSITIONS_PROCESSING: {\n",
    "            \"proc_name_1\": save_previous_node_response\n",
    "        },\n",
    "        TRANSITIONS: {lbl.forward(0.1): cnd.true()},\n",
    "    },\n",
    "    \"flow\": {\n",
    "        \"step_0\": {RESPONSE: Message(\"first\")},\n",
    "        \"step_1\": {RESPONSE: Message(\"second\")},\n",
    "        \"step_2\": {RESPONSE: Message(\"third\")},\n",
    "        \"step_3\": {RESPONSE: Message(\"fourth\")},\n",
    "        \"step_4\": {RESPONSE: Message(\"fifth\")},\n",
    "    },\n",
    "}\n",
    "\n",
    "\n",
    "# testing\n",
    "happy_path = (\n",
    "    (Message(\"1\"), Message(\"previous=None: current=first\")),\n",
    "    (Message(\"2\"), Message(\"previous=first: current=second\")),\n",
    "    (Message(\"3\"), Message(\"previous=second: current=third\")),\n",
    "    (Message(\"4\"), Message(\"previous=third: current=fourth\")),\n",
    "    (Message(\"5\"), Message(\"previous=fourth: current=fifth\")),\n",
    ")"
   ]
  },
  {
   "cell_type": "code",
   "execution_count": 5,
   "id": "02b6335b",
   "metadata": {
    "execution": {
     "iopub.execute_input": "2024-04-27T06:52:26.959919Z",
     "iopub.status.busy": "2024-04-27T06:52:26.959709Z",
     "iopub.status.idle": "2024-04-27T06:52:26.973954Z",
     "shell.execute_reply": "2024-04-27T06:52:26.973272Z"
    }
   },
   "outputs": [
    {
     "name": "stdout",
     "output_type": "stream",
     "text": [
      "(user) >>> text='1'\n",
      " (bot) <<< text='previous=None: current=first'\n",
      "(user) >>> text='2'\n",
      " (bot) <<< text='previous=first: current=second'\n",
      "(user) >>> text='3'\n",
      " (bot) <<< text='previous=second: current=third'\n",
      "(user) >>> text='4'\n",
      " (bot) <<< text='previous=third: current=fourth'\n",
      "(user) >>> text='5'\n",
      " (bot) <<< text='previous=fourth: current=fifth'\n"
     ]
    }
   ],
   "source": [
    "pipeline = Pipeline.from_script(\n",
    "    toy_script,\n",
    "    start_label=(\"root\", \"start\"),\n",
    "    fallback_label=(\"root\", \"fallback\"),\n",
    ")\n",
    "\n",
    "if __name__ == \"__main__\":\n",
    "    check_happy_path(pipeline, happy_path)\n",
    "    if is_interactive_mode():\n",
    "        run_interactive_mode(pipeline)"
   ]
  }
 ],
 "metadata": {
  "jupytext": {
   "cell_metadata_filter": "-all",
   "main_language": "python",
   "notebook_metadata_filter": "-all",
   "text_representation": {
    "extension": ".py",
    "format_name": "percent"
   }
  },
  "language_info": {
   "codemirror_mode": {
    "name": "ipython",
    "version": 3
   },
   "file_extension": ".py",
   "mimetype": "text/x-python",
   "name": "python",
   "nbconvert_exporter": "python",
   "pygments_lexer": "ipython3",
   "version": "3.9.19"
  }
 },
 "nbformat": 4,
 "nbformat_minor": 5
}
