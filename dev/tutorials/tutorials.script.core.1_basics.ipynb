{
 "cells": [
  {
   "cell_type": "markdown",
   "id": "e5a69d85",
   "metadata": {
    "cell_marker": "\"\"\""
   },
   "source": [
    "# Core: 1. Basics\n",
    "\n",
    "This notebook shows basic tutorial of creating a simple dialog bot (agent).\n",
    "\n",
    "Here, basic usege of [Pipeline](../apiref/dff.pipeline.pipeline.pipeline.rst#dff.pipeline.pipeline.pipeline.Pipeline)\n",
    "primitive is shown: its' creation with\n",
    "[from_script](../apiref/dff.pipeline.pipeline.pipeline.rst#dff.pipeline.pipeline.pipeline.Pipeline.from_script)\n",
    "and execution.\n",
    "\n",
    "Additionally, function [check_happy_path](../apiref/dff.utils.testing.common.rst#dff.utils.testing.common.check_happy_path)\n",
    "that can be used for Pipeline testing is presented.\n",
    "\n",
    "Let's do all the necessary imports from DFF:"
   ]
  },
  {
   "cell_type": "code",
   "execution_count": 1,
   "id": "450bd978",
   "metadata": {
    "execution": {
     "iopub.execute_input": "2024-04-21T12:08:11.877349Z",
     "iopub.status.busy": "2024-04-21T12:08:11.877140Z",
     "iopub.status.idle": "2024-04-21T12:08:13.985646Z",
     "shell.execute_reply": "2024-04-21T12:08:13.984863Z"
    }
   },
   "outputs": [
    {
     "name": "stdout",
     "output_type": "stream",
     "text": [
      "Note: you may need to restart the kernel to use updated packages.\n"
     ]
    }
   ],
   "source": [
    "# installing dependencies\n",
    "%pip install -q dff"
   ]
  },
  {
   "cell_type": "code",
   "execution_count": 2,
   "id": "d263b845",
   "metadata": {
    "execution": {
     "iopub.execute_input": "2024-04-21T12:08:13.988667Z",
     "iopub.status.busy": "2024-04-21T12:08:13.988248Z",
     "iopub.status.idle": "2024-04-21T12:08:14.630199Z",
     "shell.execute_reply": "2024-04-21T12:08:14.629553Z"
    },
    "lines_to_next_cell": 2
   },
   "outputs": [],
   "source": [
    "from dff.script import TRANSITIONS, RESPONSE, Message\n",
    "from dff.pipeline import Pipeline\n",
    "import dff.script.conditions as cnd\n",
    "\n",
    "from dff.utils.testing.common import (\n",
    "    check_happy_path,\n",
    "    is_interactive_mode,\n",
    "    run_interactive_mode,\n",
    ")"
   ]
  },
  {
   "cell_type": "markdown",
   "id": "3739e296",
   "metadata": {
    "cell_marker": "\"\"\"",
    "lines_to_next_cell": 2
   },
   "source": [
    "First of all, to create a dialog agent, we need to create a dialog script.\n",
    "Below script means a dialog script.\n",
    "A script is a dictionary, where the keys are the names of the flows.\n",
    "A script can contain multiple scripts, which is needed in order to divide\n",
    "a dialog into sub-dialogs and process them separately.\n",
    "For example, the separation can be tied to the topic of the dialog.\n",
    "In this tutorial there is one flow called `greeting_flow`.\n",
    "\n",
    "Flow describes a sub-dialog using linked nodes.\n",
    "Each node has the keywords `RESPONSE` and `TRANSITIONS`.\n",
    "\n",
    "* `RESPONSE` contains the response\n",
    "    that the agent will return from the current node.\n",
    "* `TRANSITIONS` describes transitions from the\n",
    "    current node to another nodes. This is a dictionary,\n",
    "    where keys are names of the nodes and\n",
    "    values are conditions of transition to them."
   ]
  },
  {
   "cell_type": "code",
   "execution_count": 3,
   "id": "e24ffbf0",
   "metadata": {
    "execution": {
     "iopub.execute_input": "2024-04-21T12:08:14.633699Z",
     "iopub.status.busy": "2024-04-21T12:08:14.633108Z",
     "iopub.status.idle": "2024-04-21T12:08:14.641663Z",
     "shell.execute_reply": "2024-04-21T12:08:14.641070Z"
    },
    "lines_to_next_cell": 2
   },
   "outputs": [],
   "source": [
    "toy_script = {\n",
    "    \"greeting_flow\": {\n",
    "        \"start_node\": {  # This is the initial node,\n",
    "            # it doesn't contain a `RESPONSE`.\n",
    "            RESPONSE: Message(),\n",
    "            TRANSITIONS: {\"node1\": cnd.exact_match(Message(\"Hi\"))},\n",
    "            # If \"Hi\" == request of the user then we make the transition.\n",
    "        },\n",
    "        \"node1\": {\n",
    "            RESPONSE: Message(\n",
    "                text=\"Hi, how are you?\"\n",
    "            ),  # When the agent enters node1,\n",
    "            # return \"Hi, how are you?\".\n",
    "            TRANSITIONS: {\n",
    "                \"node2\": cnd.exact_match(Message(\"I'm fine, how are you?\"))\n",
    "            },\n",
    "        },\n",
    "        \"node2\": {\n",
    "            RESPONSE: Message(\"Good. What do you want to talk about?\"),\n",
    "            TRANSITIONS: {\n",
    "                \"node3\": cnd.exact_match(Message(\"Let's talk about music.\"))\n",
    "            },\n",
    "        },\n",
    "        \"node3\": {\n",
    "            RESPONSE: Message(\"Sorry, I can not talk about music now.\"),\n",
    "            TRANSITIONS: {\"node4\": cnd.exact_match(Message(\"Ok, goodbye.\"))},\n",
    "        },\n",
    "        \"node4\": {\n",
    "            RESPONSE: Message(\"Bye\"),\n",
    "            TRANSITIONS: {\"node1\": cnd.exact_match(Message(\"Hi\"))},\n",
    "        },\n",
    "        \"fallback_node\": {\n",
    "            # We get to this node if the conditions\n",
    "            # for switching to other nodes are not performed.\n",
    "            RESPONSE: Message(\"Ooops\"),\n",
    "            TRANSITIONS: {\"node1\": cnd.exact_match(Message(\"Hi\"))},\n",
    "        },\n",
    "    }\n",
    "}\n",
    "\n",
    "\n",
    "happy_path = (\n",
    "    (\n",
    "        Message(\"Hi\"),\n",
    "        Message(\"Hi, how are you?\"),\n",
    "    ),  # start_node -> node1\n",
    "    (\n",
    "        Message(\"I'm fine, how are you?\"),\n",
    "        Message(\"Good. What do you want to talk about?\"),\n",
    "    ),  # node1 -> node2\n",
    "    (\n",
    "        Message(\"Let's talk about music.\"),\n",
    "        Message(\"Sorry, I can not talk about music now.\"),\n",
    "    ),  # node2 -> node3\n",
    "    (Message(\"Ok, goodbye.\"), Message(\"Bye\")),  # node3 -> node4\n",
    "    (Message(\"Hi\"), Message(\"Hi, how are you?\")),  # node4 -> node1\n",
    "    (Message(\"stop\"), Message(\"Ooops\")),  # node1 -> fallback_node\n",
    "    (\n",
    "        Message(\"stop\"),\n",
    "        Message(\"Ooops\"),\n",
    "    ),  # fallback_node -> fallback_node\n",
    "    (\n",
    "        Message(\"Hi\"),\n",
    "        Message(\"Hi, how are you?\"),\n",
    "    ),  # fallback_node -> node1\n",
    "    (\n",
    "        Message(\"I'm fine, how are you?\"),\n",
    "        Message(\"Good. What do you want to talk about?\"),\n",
    "    ),  # node1 -> node2\n",
    "    (\n",
    "        Message(\"Let's talk about music.\"),\n",
    "        Message(\"Sorry, I can not talk about music now.\"),\n",
    "    ),  # node2 -> node3\n",
    "    (Message(\"Ok, goodbye.\"), Message(\"Bye\")),  # node3 -> node4\n",
    ")"
   ]
  },
  {
   "cell_type": "markdown",
   "id": "eb5d790d",
   "metadata": {
    "cell_marker": "\"\"\"",
    "lines_to_next_cell": 2
   },
   "source": [
    "A `Pipeline` is an object that processes user\n",
    "inputs and returns responses.\n",
    "To create the pipeline you need to pass the script (`toy_script`),\n",
    "initial node (`start_label`) and\n",
    "the node to which the default transition will take place\n",
    "if none of the current conditions are met (`fallback_label`).\n",
    "By default, if `fallback_label` is not set,\n",
    "then its value becomes equal to `start_label`."
   ]
  },
  {
   "cell_type": "code",
   "execution_count": 4,
   "id": "ac8d3cd8",
   "metadata": {
    "execution": {
     "iopub.execute_input": "2024-04-21T12:08:14.644269Z",
     "iopub.status.busy": "2024-04-21T12:08:14.643905Z",
     "iopub.status.idle": "2024-04-21T12:08:14.666223Z",
     "shell.execute_reply": "2024-04-21T12:08:14.665526Z"
    }
   },
   "outputs": [
    {
     "name": "stdout",
     "output_type": "stream",
     "text": [
      "(user) >>> text='Hi'\n",
      " (bot) <<< text='Hi, how are you?'\n",
      "(user) >>> text='I'm fine, how are you?'\n",
      " (bot) <<< text='Good. What do you want to talk about?'\n",
      "(user) >>> text='Let's talk about music.'\n",
      " (bot) <<< text='Sorry, I can not talk about music now.'\n",
      "(user) >>> text='Ok, goodbye.'\n",
      " (bot) <<< text='Bye'\n",
      "(user) >>> text='Hi'\n",
      " (bot) <<< text='Hi, how are you?'\n",
      "(user) >>> text='stop'\n",
      " (bot) <<< text='Ooops'\n",
      "(user) >>> text='stop'\n",
      " (bot) <<< text='Ooops'\n",
      "(user) >>> text='Hi'\n",
      " (bot) <<< text='Hi, how are you?'\n",
      "(user) >>> text='I'm fine, how are you?'\n",
      " (bot) <<< text='Good. What do you want to talk about?'\n",
      "(user) >>> text='Let's talk about music.'\n",
      " (bot) <<< text='Sorry, I can not talk about music now.'\n",
      "(user) >>> text='Ok, goodbye.'\n",
      " (bot) <<< text='Bye'\n"
     ]
    }
   ],
   "source": [
    "pipeline = Pipeline.from_script(\n",
    "    toy_script,\n",
    "    start_label=(\"greeting_flow\", \"start_node\"),\n",
    "    fallback_label=(\"greeting_flow\", \"fallback_node\"),\n",
    ")\n",
    "\n",
    "if __name__ == \"__main__\":\n",
    "    check_happy_path(\n",
    "        pipeline,\n",
    "        happy_path,\n",
    "    )  # This is a function for automatic tutorial\n",
    "    # running (testing tutorial) with `happy_path`.\n",
    "\n",
    "    # Run tutorial in interactive mode if not in IPython env\n",
    "    # and if `DISABLE_INTERACTIVE_MODE` is not set.\n",
    "    if is_interactive_mode():\n",
    "        run_interactive_mode(pipeline)\n",
    "        # This runs tutorial in interactive mode."
   ]
  }
 ],
 "metadata": {
  "jupytext": {
   "cell_metadata_filter": "-all",
   "main_language": "python",
   "notebook_metadata_filter": "-all",
   "text_representation": {
    "extension": ".py",
    "format_name": "percent"
   }
  },
  "language_info": {
   "codemirror_mode": {
    "name": "ipython",
    "version": 3
   },
   "file_extension": ".py",
   "mimetype": "text/x-python",
   "name": "python",
   "nbconvert_exporter": "python",
   "pygments_lexer": "ipython3",
   "version": "3.9.19"
  }
 },
 "nbformat": 4,
 "nbformat_minor": 5
}
