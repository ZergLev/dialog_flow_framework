{
 "cells": [
  {
   "cell_type": "markdown",
   "id": "a4573746",
   "metadata": {
    "cell_marker": "\"\"\""
   },
   "source": [
    "# 4. Redis\n",
    "\n",
    "This is a tutorial on using Redis.\n",
    "\n",
    "See [RedisContextStorage](../apiref/dff.context_storages.redis.rst#dff.context_storages.redis.RedisContextStorage) class\n",
    "for storing you users' contexts in Redis database.\n",
    "\n",
    "DFF uses [redis.asyncio](https://redis.readthedocs.io/en/latest/)\n",
    "library for asynchronous access to Redis DB."
   ]
  },
  {
   "cell_type": "code",
   "execution_count": 1,
   "id": "7d9012a0",
   "metadata": {
    "execution": {
     "iopub.execute_input": "2024-04-18T11:40:32.367978Z",
     "iopub.status.busy": "2024-04-18T11:40:32.367701Z",
     "iopub.status.idle": "2024-04-18T11:40:34.655360Z",
     "shell.execute_reply": "2024-04-18T11:40:34.654331Z"
    }
   },
   "outputs": [
    {
     "name": "stdout",
     "output_type": "stream",
     "text": [
      "Note: you may need to restart the kernel to use updated packages.\n"
     ]
    }
   ],
   "source": [
    "# installing dependencies\n",
    "%pip install -q dff[redis]"
   ]
  },
  {
   "cell_type": "code",
   "execution_count": 2,
   "id": "b5300bfe",
   "metadata": {
    "execution": {
     "iopub.execute_input": "2024-04-18T11:40:34.659117Z",
     "iopub.status.busy": "2024-04-18T11:40:34.658506Z",
     "iopub.status.idle": "2024-04-18T11:40:35.629152Z",
     "shell.execute_reply": "2024-04-18T11:40:35.628283Z"
    },
    "lines_to_next_cell": 2
   },
   "outputs": [],
   "source": [
    "import os\n",
    "\n",
    "from dff.context_storages import context_storage_factory\n",
    "\n",
    "from dff.pipeline import Pipeline\n",
    "from dff.utils.testing.common import (\n",
    "    check_happy_path,\n",
    "    is_interactive_mode,\n",
    "    run_interactive_mode,\n",
    ")\n",
    "from dff.utils.testing.toy_script import TOY_SCRIPT_ARGS, HAPPY_PATH"
   ]
  },
  {
   "cell_type": "code",
   "execution_count": 3,
   "id": "659083d3",
   "metadata": {
    "execution": {
     "iopub.execute_input": "2024-04-18T11:40:35.632868Z",
     "iopub.status.busy": "2024-04-18T11:40:35.632206Z",
     "iopub.status.idle": "2024-04-18T11:40:35.638406Z",
     "shell.execute_reply": "2024-04-18T11:40:35.637525Z"
    },
    "lines_to_next_cell": 2
   },
   "outputs": [],
   "source": [
    "db_uri = \"redis://{}:{}@localhost:6379/{}\".format(\n",
    "    \"\", os.environ[\"REDIS_PASSWORD\"], \"0\"\n",
    ")\n",
    "db = context_storage_factory(db_uri)\n",
    "\n",
    "\n",
    "pipeline = Pipeline.from_script(*TOY_SCRIPT_ARGS, context_storage=db)"
   ]
  },
  {
   "cell_type": "code",
   "execution_count": 4,
   "id": "6531b57a",
   "metadata": {
    "execution": {
     "iopub.execute_input": "2024-04-18T11:40:35.641942Z",
     "iopub.status.busy": "2024-04-18T11:40:35.641269Z",
     "iopub.status.idle": "2024-04-18T11:40:35.666758Z",
     "shell.execute_reply": "2024-04-18T11:40:35.665930Z"
    }
   },
   "outputs": [
    {
     "name": "stdout",
     "output_type": "stream",
     "text": [
      "(user) >>> text='Hi'\n",
      " (bot) <<< text='Hi, how are you?'\n",
      "(user) >>> text='i'm fine, how are you?'\n",
      " (bot) <<< text='Good. What do you want to talk about?'\n",
      "(user) >>> text='Let's talk about music.'\n",
      " (bot) <<< text='Sorry, I can not talk about music now.'\n",
      "(user) >>> text='Ok, goodbye.'\n",
      " (bot) <<< text='bye'\n",
      "(user) >>> text='Hi'\n",
      " (bot) <<< text='Hi, how are you?'\n"
     ]
    }
   ],
   "source": [
    "if __name__ == \"__main__\":\n",
    "    check_happy_path(pipeline, HAPPY_PATH)\n",
    "    if is_interactive_mode():\n",
    "        run_interactive_mode(pipeline)"
   ]
  }
 ],
 "metadata": {
  "jupytext": {
   "cell_metadata_filter": "-all",
   "main_language": "python",
   "notebook_metadata_filter": "-all",
   "text_representation": {
    "extension": ".py",
    "format_name": "percent"
   }
  },
  "language_info": {
   "codemirror_mode": {
    "name": "ipython",
    "version": 3
   },
   "file_extension": ".py",
   "mimetype": "text/x-python",
   "name": "python",
   "nbconvert_exporter": "python",
   "pygments_lexer": "ipython3",
   "version": "3.9.19"
  }
 },
 "nbformat": 4,
 "nbformat_minor": 5
}
