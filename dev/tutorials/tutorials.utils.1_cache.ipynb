{
 "cells": [
  {
   "cell_type": "markdown",
   "id": "1b7dd0da",
   "metadata": {
    "cell_marker": "\"\"\""
   },
   "source": [
    "# 1. Cache\n",
    "\n",
    "In this tutorial use of\n",
    "[cache](../apiref/dff.utils.turn_caching.singleton_turn_caching.rst#dff.utils.turn_caching.singleton_turn_caching.cache)\n",
    "function is demonstrated.\n",
    "\n",
    "This function is used a lot like `functools.cache` function and\n",
    "helps by saving results of heavy function execution and avoiding recalculation.\n",
    "\n",
    "Caches are kept in a library-wide singleton\n",
    "and are cleared at the end of each turn."
   ]
  },
  {
   "cell_type": "code",
   "execution_count": 1,
   "id": "9e84a4a0",
   "metadata": {
    "execution": {
     "iopub.execute_input": "2024-04-18T11:44:10.544072Z",
     "iopub.status.busy": "2024-04-18T11:44:10.543614Z",
     "iopub.status.idle": "2024-04-18T11:44:13.137340Z",
     "shell.execute_reply": "2024-04-18T11:44:13.136146Z"
    }
   },
   "outputs": [
    {
     "name": "stdout",
     "output_type": "stream",
     "text": [
      "Note: you may need to restart the kernel to use updated packages.\n"
     ]
    }
   ],
   "source": [
    "# installing dependencies\n",
    "%pip install -q dff"
   ]
  },
  {
   "cell_type": "code",
   "execution_count": 2,
   "id": "17c852c9",
   "metadata": {
    "execution": {
     "iopub.execute_input": "2024-04-18T11:44:13.140748Z",
     "iopub.status.busy": "2024-04-18T11:44:13.140500Z",
     "iopub.status.idle": "2024-04-18T11:44:14.047320Z",
     "shell.execute_reply": "2024-04-18T11:44:14.046431Z"
    }
   },
   "outputs": [],
   "source": [
    "from dff.script.conditions import true\n",
    "from dff.script import Context, TRANSITIONS, RESPONSE, Message\n",
    "from dff.script.labels import repeat\n",
    "from dff.pipeline import Pipeline\n",
    "from dff.utils.turn_caching import cache\n",
    "from dff.utils.testing.common import (\n",
    "    check_happy_path,\n",
    "    is_interactive_mode,\n",
    "    run_interactive_mode,\n",
    ")\n",
    "\n",
    "\n",
    "external_data = {\"counter\": 0}"
   ]
  },
  {
   "cell_type": "code",
   "execution_count": 3,
   "id": "894cf5c4",
   "metadata": {
    "execution": {
     "iopub.execute_input": "2024-04-18T11:44:14.051599Z",
     "iopub.status.busy": "2024-04-18T11:44:14.050996Z",
     "iopub.status.idle": "2024-04-18T11:44:14.057898Z",
     "shell.execute_reply": "2024-04-18T11:44:14.057113Z"
    }
   },
   "outputs": [],
   "source": [
    "@cache\n",
    "def cached_response(_):\n",
    "    \"\"\"\n",
    "    This function execution result will be saved\n",
    "    for any set of given argument(s).\n",
    "    If the function will be called again\n",
    "    with the same arguments it will prevent it from execution.\n",
    "    The cached values will be used instead.\n",
    "    The cache is stored in a library-wide singleton,\n",
    "    that is cleared in the end of execution of actor and/or pipeline.\n",
    "    \"\"\"\n",
    "    external_data[\"counter\"] += 1\n",
    "    return external_data[\"counter\"]\n",
    "\n",
    "\n",
    "def response(ctx: Context, _, *__, **___) -> Message:\n",
    "    if ctx.validation:\n",
    "        return Message()\n",
    "    return Message(\n",
    "        text=f\"{cached_response(1)}-{cached_response(2)}-\"\n",
    "        f\"{cached_response(1)}-{cached_response(2)}\"\n",
    "    )"
   ]
  },
  {
   "cell_type": "code",
   "execution_count": 4,
   "id": "c0101ca9",
   "metadata": {
    "execution": {
     "iopub.execute_input": "2024-04-18T11:44:14.061380Z",
     "iopub.status.busy": "2024-04-18T11:44:14.060765Z",
     "iopub.status.idle": "2024-04-18T11:44:14.067482Z",
     "shell.execute_reply": "2024-04-18T11:44:14.066647Z"
    },
    "lines_to_next_cell": 2
   },
   "outputs": [],
   "source": [
    "toy_script = {\n",
    "    \"flow\": {\"node1\": {TRANSITIONS: {repeat(): true()}, RESPONSE: response}}\n",
    "}\n",
    "\n",
    "happy_path = (\n",
    "    (Message(), Message(\"1-2-1-2\")),\n",
    "    (Message(), Message(\"3-4-3-4\")),\n",
    "    (Message(), Message(\"5-6-5-6\")),\n",
    ")\n",
    "\n",
    "pipeline = Pipeline.from_script(toy_script, start_label=(\"flow\", \"node1\"))"
   ]
  },
  {
   "cell_type": "code",
   "execution_count": 5,
   "id": "ef673732",
   "metadata": {
    "execution": {
     "iopub.execute_input": "2024-04-18T11:44:14.070677Z",
     "iopub.status.busy": "2024-04-18T11:44:14.070381Z",
     "iopub.status.idle": "2024-04-18T11:44:14.087251Z",
     "shell.execute_reply": "2024-04-18T11:44:14.086416Z"
    }
   },
   "outputs": [
    {
     "name": "stdout",
     "output_type": "stream",
     "text": [
      "(user) >>> \n",
      " (bot) <<< text='1-2-1-2'\n",
      "(user) >>> \n",
      " (bot) <<< text='3-4-3-4'\n",
      "(user) >>> \n",
      " (bot) <<< text='5-6-5-6'\n"
     ]
    }
   ],
   "source": [
    "if __name__ == \"__main__\":\n",
    "    check_happy_path(pipeline, happy_path)\n",
    "    if is_interactive_mode():\n",
    "        run_interactive_mode(pipeline)"
   ]
  }
 ],
 "metadata": {
  "jupytext": {
   "cell_metadata_filter": "-all",
   "main_language": "python",
   "notebook_metadata_filter": "-all",
   "text_representation": {
    "extension": ".py",
    "format_name": "percent"
   }
  },
  "language_info": {
   "codemirror_mode": {
    "name": "ipython",
    "version": 3
   },
   "file_extension": ".py",
   "mimetype": "text/x-python",
   "name": "python",
   "nbconvert_exporter": "python",
   "pygments_lexer": "ipython3",
   "version": "3.9.19"
  }
 },
 "nbformat": 4,
 "nbformat_minor": 5
}
