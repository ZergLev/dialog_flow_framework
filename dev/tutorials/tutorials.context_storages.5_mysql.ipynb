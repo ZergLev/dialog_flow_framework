{
 "cells": [
  {
   "cell_type": "markdown",
   "id": "7a5cb9ce",
   "metadata": {
    "cell_marker": "\"\"\""
   },
   "source": [
    "# 5. MySQL\n",
    "\n",
    "This is a tutorial on using MySQL.\n",
    "\n",
    "See [SQLContextStorage](../apiref/dff.context_storages.sql.rst#dff.context_storages.sql.SQLContextStorage) class\n",
    "for storing you users' contexts in SQL databases.\n",
    "\n",
    "DFF uses [sqlalchemy](https://docs.sqlalchemy.org/en/20/)\n",
    "and [asyncmy](https://github.com/long2ice/asyncmy)\n",
    "libraries for asynchronous access to MySQL DB."
   ]
  },
  {
   "cell_type": "code",
   "execution_count": 1,
   "id": "ed7983d8",
   "metadata": {
    "execution": {
     "iopub.execute_input": "2024-04-18T12:49:43.652652Z",
     "iopub.status.busy": "2024-04-18T12:49:43.651854Z",
     "iopub.status.idle": "2024-04-18T12:49:46.168281Z",
     "shell.execute_reply": "2024-04-18T12:49:46.167461Z"
    }
   },
   "outputs": [
    {
     "name": "stdout",
     "output_type": "stream",
     "text": [
      "Note: you may need to restart the kernel to use updated packages.\n"
     ]
    }
   ],
   "source": [
    "# installing dependencies\n",
    "%pip install -q dff[mysql]"
   ]
  },
  {
   "cell_type": "code",
   "execution_count": 2,
   "id": "4d3bf760",
   "metadata": {
    "execution": {
     "iopub.execute_input": "2024-04-18T12:49:46.172096Z",
     "iopub.status.busy": "2024-04-18T12:49:46.171581Z",
     "iopub.status.idle": "2024-04-18T12:49:46.887695Z",
     "shell.execute_reply": "2024-04-18T12:49:46.886840Z"
    },
    "lines_to_next_cell": 2
   },
   "outputs": [],
   "source": [
    "import os\n",
    "\n",
    "from dff.context_storages import context_storage_factory\n",
    "\n",
    "from dff.pipeline import Pipeline\n",
    "from dff.utils.testing.common import (\n",
    "    check_happy_path,\n",
    "    is_interactive_mode,\n",
    "    run_interactive_mode,\n",
    ")\n",
    "from dff.utils.testing.toy_script import TOY_SCRIPT_ARGS, HAPPY_PATH"
   ]
  },
  {
   "cell_type": "code",
   "execution_count": 3,
   "id": "785c2e95",
   "metadata": {
    "execution": {
     "iopub.execute_input": "2024-04-18T12:49:46.891535Z",
     "iopub.status.busy": "2024-04-18T12:49:46.890786Z",
     "iopub.status.idle": "2024-04-18T12:49:46.981536Z",
     "shell.execute_reply": "2024-04-18T12:49:46.980659Z"
    },
    "lines_to_next_cell": 2
   },
   "outputs": [],
   "source": [
    "db_uri = \"mysql+asyncmy://{}:{}@localhost:3307/{}\".format(\n",
    "    os.environ[\"MYSQL_USERNAME\"],\n",
    "    os.environ[\"MYSQL_PASSWORD\"],\n",
    "    os.environ[\"MYSQL_DATABASE\"],\n",
    ")\n",
    "db = context_storage_factory(db_uri)\n",
    "\n",
    "\n",
    "pipeline = Pipeline.from_script(*TOY_SCRIPT_ARGS, context_storage=db)"
   ]
  },
  {
   "cell_type": "code",
   "execution_count": 4,
   "id": "2fa78d89",
   "metadata": {
    "execution": {
     "iopub.execute_input": "2024-04-18T12:49:46.985167Z",
     "iopub.status.busy": "2024-04-18T12:49:46.984708Z",
     "iopub.status.idle": "2024-04-18T12:49:47.034834Z",
     "shell.execute_reply": "2024-04-18T12:49:47.033808Z"
    }
   },
   "outputs": [
    {
     "name": "stdout",
     "output_type": "stream",
     "text": [
      "(user) >>> text='Hi'\n",
      " (bot) <<< text='Hi, how are you?'\n",
      "(user) >>> text='i'm fine, how are you?'\n",
      " (bot) <<< text='Good. What do you want to talk about?'\n",
      "(user) >>> text='Let's talk about music.'\n",
      " (bot) <<< text='Sorry, I can not talk about music now.'\n",
      "(user) >>> text='Ok, goodbye.'\n",
      " (bot) <<< text='bye'\n",
      "(user) >>> text='Hi'\n",
      " (bot) <<< text='Hi, how are you?'\n"
     ]
    }
   ],
   "source": [
    "if __name__ == \"__main__\":\n",
    "    check_happy_path(pipeline, HAPPY_PATH)\n",
    "    if is_interactive_mode():\n",
    "        run_interactive_mode(pipeline)"
   ]
  }
 ],
 "metadata": {
  "jupytext": {
   "cell_metadata_filter": "-all",
   "main_language": "python",
   "notebook_metadata_filter": "-all",
   "text_representation": {
    "extension": ".py",
    "format_name": "percent"
   }
  },
  "language_info": {
   "codemirror_mode": {
    "name": "ipython",
    "version": 3
   },
   "file_extension": ".py",
   "mimetype": "text/x-python",
   "name": "python",
   "nbconvert_exporter": "python",
   "pygments_lexer": "ipython3",
   "version": "3.9.19"
  }
 },
 "nbformat": 4,
 "nbformat_minor": 5
}
