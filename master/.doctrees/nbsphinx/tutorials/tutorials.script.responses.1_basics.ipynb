{
 "cells": [
  {
   "cell_type": "markdown",
   "id": "e562238c",
   "metadata": {
    "cell_marker": "\"\"\""
   },
   "source": [
    "# Responses: 1. Basics\n",
    "\n",
    "Here, the process of response forming is shown.\n",
    "Special keywords [RESPONSE](../apiref/dff.script.core.keywords.rst#dff.script.core.keywords.Keywords.RESPONSE)\n",
    "and [TRANSITIONS](../apiref/dff.script.core.keywords.rst#dff.script.core.keywords.Keywords.TRANSITIONS)\n",
    "are used for that."
   ]
  },
  {
   "cell_type": "code",
   "execution_count": 1,
   "id": "89a15533",
   "metadata": {
    "execution": {
     "iopub.execute_input": "2024-04-25T15:16:03.328077Z",
     "iopub.status.busy": "2024-04-25T15:16:03.327469Z",
     "iopub.status.idle": "2024-04-25T15:16:05.468905Z",
     "shell.execute_reply": "2024-04-25T15:16:05.468112Z"
    }
   },
   "outputs": [
    {
     "name": "stdout",
     "output_type": "stream",
     "text": [
      "Note: you may need to restart the kernel to use updated packages.\n"
     ]
    }
   ],
   "source": [
    "# installing dependencies\n",
    "%pip install -q dff"
   ]
  },
  {
   "cell_type": "code",
   "execution_count": 2,
   "id": "5d892077",
   "metadata": {
    "execution": {
     "iopub.execute_input": "2024-04-25T15:16:05.472056Z",
     "iopub.status.busy": "2024-04-25T15:16:05.471633Z",
     "iopub.status.idle": "2024-04-25T15:16:06.140490Z",
     "shell.execute_reply": "2024-04-25T15:16:06.139850Z"
    },
    "lines_to_next_cell": 2
   },
   "outputs": [],
   "source": [
    "from typing import NamedTuple\n",
    "\n",
    "from dff.script import Message\n",
    "from dff.script.conditions import exact_match\n",
    "from dff.script import RESPONSE, TRANSITIONS\n",
    "from dff.pipeline import Pipeline\n",
    "from dff.utils.testing import (\n",
    "    check_happy_path,\n",
    "    is_interactive_mode,\n",
    "    run_interactive_mode,\n",
    ")"
   ]
  },
  {
   "cell_type": "code",
   "execution_count": 3,
   "id": "141d7579",
   "metadata": {
    "execution": {
     "iopub.execute_input": "2024-04-25T15:16:06.143777Z",
     "iopub.status.busy": "2024-04-25T15:16:06.143314Z",
     "iopub.status.idle": "2024-04-25T15:16:06.150935Z",
     "shell.execute_reply": "2024-04-25T15:16:06.150347Z"
    }
   },
   "outputs": [],
   "source": [
    "toy_script = {\n",
    "    \"greeting_flow\": {\n",
    "        \"start_node\": {\n",
    "            RESPONSE: Message(\"\"),\n",
    "            TRANSITIONS: {\"node1\": exact_match(Message(\"Hi\"))},\n",
    "        },\n",
    "        \"node1\": {\n",
    "            RESPONSE: Message(\"Hi, how are you?\"),\n",
    "            TRANSITIONS: {\n",
    "                \"node2\": exact_match(Message(\"i'm fine, how are you?\"))\n",
    "            },\n",
    "        },\n",
    "        \"node2\": {\n",
    "            RESPONSE: Message(\"Good. What do you want to talk about?\"),\n",
    "            TRANSITIONS: {\n",
    "                \"node3\": exact_match(Message(\"Let's talk about music.\"))\n",
    "            },\n",
    "        },\n",
    "        \"node3\": {\n",
    "            RESPONSE: Message(\"Sorry, I can not talk about music now.\"),\n",
    "            TRANSITIONS: {\"node4\": exact_match(Message(\"Ok, goodbye.\"))},\n",
    "        },\n",
    "        \"node4\": {\n",
    "            RESPONSE: Message(\"bye\"),\n",
    "            TRANSITIONS: {\"node1\": exact_match(Message(\"Hi\"))},\n",
    "        },\n",
    "        \"fallback_node\": {\n",
    "            RESPONSE: Message(\"Ooops\"),\n",
    "            TRANSITIONS: {\"node1\": exact_match(Message(\"Hi\"))},\n",
    "        },\n",
    "    }\n",
    "}\n",
    "\n",
    "happy_path = (\n",
    "    (Message(\"Hi\"), Message(\"Hi, how are you?\")),\n",
    "    (\n",
    "        Message(\"i'm fine, how are you?\"),\n",
    "        Message(\"Good. What do you want to talk about?\"),\n",
    "    ),\n",
    "    (\n",
    "        Message(\"Let's talk about music.\"),\n",
    "        Message(\"Sorry, I can not talk about music now.\"),\n",
    "    ),\n",
    "    (Message(\"Ok, goodbye.\"), Message(\"bye\")),\n",
    "    (Message(\"Hi\"), Message(\"Hi, how are you?\")),\n",
    "    (Message(\"stop\"), Message(\"Ooops\")),\n",
    "    (Message(\"stop\"), Message(\"Ooops\")),\n",
    "    (Message(\"Hi\"), Message(\"Hi, how are you?\")),\n",
    "    (\n",
    "        Message(\"i'm fine, how are you?\"),\n",
    "        Message(\"Good. What do you want to talk about?\"),\n",
    "    ),\n",
    "    (\n",
    "        Message(\"Let's talk about music.\"),\n",
    "        Message(\"Sorry, I can not talk about music now.\"),\n",
    "    ),\n",
    "    (Message(\"Ok, goodbye.\"), Message(\"bye\")),\n",
    ")"
   ]
  },
  {
   "cell_type": "code",
   "execution_count": 4,
   "id": "c205dc2e",
   "metadata": {
    "execution": {
     "iopub.execute_input": "2024-04-25T15:16:06.153681Z",
     "iopub.status.busy": "2024-04-25T15:16:06.153124Z",
     "iopub.status.idle": "2024-04-25T15:16:06.156554Z",
     "shell.execute_reply": "2024-04-25T15:16:06.155957Z"
    }
   },
   "outputs": [],
   "source": [
    "class CallbackRequest(NamedTuple):\n",
    "    payload: str"
   ]
  },
  {
   "cell_type": "code",
   "execution_count": 5,
   "id": "0308b300",
   "metadata": {
    "execution": {
     "iopub.execute_input": "2024-04-25T15:16:06.158962Z",
     "iopub.status.busy": "2024-04-25T15:16:06.158760Z",
     "iopub.status.idle": "2024-04-25T15:16:06.179365Z",
     "shell.execute_reply": "2024-04-25T15:16:06.178680Z"
    }
   },
   "outputs": [
    {
     "name": "stdout",
     "output_type": "stream",
     "text": [
      "(user) >>> text='Hi'\n",
      " (bot) <<< text='Hi, how are you?'\n",
      "(user) >>> text='i'm fine, how are you?'\n",
      " (bot) <<< text='Good. What do you want to talk about?'\n",
      "(user) >>> text='Let's talk about music.'\n",
      " (bot) <<< text='Sorry, I can not talk about music now.'\n",
      "(user) >>> text='Ok, goodbye.'\n",
      " (bot) <<< text='bye'\n",
      "(user) >>> text='Hi'\n",
      " (bot) <<< text='Hi, how are you?'\n",
      "(user) >>> text='stop'\n",
      " (bot) <<< text='Ooops'\n",
      "(user) >>> text='stop'\n",
      " (bot) <<< text='Ooops'\n",
      "(user) >>> text='Hi'\n",
      " (bot) <<< text='Hi, how are you?'\n",
      "(user) >>> text='i'm fine, how are you?'\n",
      " (bot) <<< text='Good. What do you want to talk about?'\n",
      "(user) >>> text='Let's talk about music.'\n",
      " (bot) <<< text='Sorry, I can not talk about music now.'\n",
      "(user) >>> text='Ok, goodbye.'\n",
      " (bot) <<< text='bye'\n"
     ]
    }
   ],
   "source": [
    "pipeline = Pipeline.from_script(\n",
    "    toy_script,\n",
    "    start_label=(\"greeting_flow\", \"start_node\"),\n",
    "    fallback_label=(\"greeting_flow\", \"fallback_node\"),\n",
    ")\n",
    "\n",
    "if __name__ == \"__main__\":\n",
    "    check_happy_path(\n",
    "        pipeline,\n",
    "        happy_path,\n",
    "    )  # This is a function for automatic tutorial running\n",
    "    # (testing) with `happy_path`\n",
    "\n",
    "    # This runs tutorial in interactive mode if not in IPython env\n",
    "    # and if `DISABLE_INTERACTIVE_MODE` is not set\n",
    "    if is_interactive_mode():\n",
    "        run_interactive_mode(pipeline)  # This runs tutorial in interactive mode"
   ]
  }
 ],
 "metadata": {
  "jupytext": {
   "cell_metadata_filter": "-all",
   "main_language": "python",
   "notebook_metadata_filter": "-all",
   "text_representation": {
    "extension": ".py",
    "format_name": "percent"
   }
  },
  "language_info": {
   "codemirror_mode": {
    "name": "ipython",
    "version": 3
   },
   "file_extension": ".py",
   "mimetype": "text/x-python",
   "name": "python",
   "nbconvert_exporter": "python",
   "pygments_lexer": "ipython3",
   "version": "3.9.19"
  }
 },
 "nbformat": 4,
 "nbformat_minor": 5
}
