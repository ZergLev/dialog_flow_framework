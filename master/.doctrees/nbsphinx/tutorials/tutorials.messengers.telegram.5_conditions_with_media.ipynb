{
 "cells": [
  {
   "cell_type": "markdown",
   "id": "2cbb8bb4",
   "metadata": {
    "cell_marker": "\"\"\"",
    "lines_to_next_cell": 2
   },
   "source": [
    "# Telegram: 5. Conditions with Media\n",
    "\n",
    "This tutorial shows how to use media-related logic in your script.\n",
    "\n",
    "Here, [telegram_condition](../apiref/dff.messengers.telegram.messenger.rst#dff.messengers.telegram.messenger.telegram_condition)\n",
    "function is used for graph navigation according to Telegram events.\n",
    "\n",
    "Different [message](../apiref/dff.script.core.message.rst#dff.script.core.message.message)\n",
    "classes are used for representing different common message features,\n",
    "like Attachment, Audio, Button, Image, etc."
   ]
  },
  {
   "cell_type": "code",
   "execution_count": 1,
   "id": "dad6391f",
   "metadata": {
    "execution": {
     "iopub.execute_input": "2024-04-25T15:14:05.466562Z",
     "iopub.status.busy": "2024-04-25T15:14:05.465805Z",
     "iopub.status.idle": "2024-04-25T15:14:07.683879Z",
     "shell.execute_reply": "2024-04-25T15:14:07.683022Z"
    }
   },
   "outputs": [
    {
     "name": "stdout",
     "output_type": "stream",
     "text": [
      "Note: you may need to restart the kernel to use updated packages.\n"
     ]
    }
   ],
   "source": [
    "# installing dependencies\n",
    "%pip install -q dff[telegram]"
   ]
  },
  {
   "cell_type": "code",
   "execution_count": 2,
   "id": "cef73a91",
   "metadata": {
    "execution": {
     "iopub.execute_input": "2024-04-25T15:14:07.687091Z",
     "iopub.status.busy": "2024-04-25T15:14:07.686628Z",
     "iopub.status.idle": "2024-04-25T15:14:08.471551Z",
     "shell.execute_reply": "2024-04-25T15:14:08.470739Z"
    },
    "lines_to_next_cell": 2
   },
   "outputs": [],
   "source": [
    "import os\n",
    "\n",
    "from telebot.types import Message\n",
    "\n",
    "import dff.script.conditions as cnd\n",
    "from dff.script import Context, TRANSITIONS, RESPONSE\n",
    "from dff.script.core.message import Image, Attachments\n",
    "from dff.messengers.telegram import (\n",
    "    PollingTelegramInterface,\n",
    "    TelegramMessage,\n",
    "    telegram_condition,\n",
    ")\n",
    "from dff.pipeline import Pipeline\n",
    "from dff.utils.testing.common import is_interactive_mode"
   ]
  },
  {
   "cell_type": "code",
   "execution_count": 3,
   "id": "83cdc89d",
   "metadata": {
    "execution": {
     "iopub.execute_input": "2024-04-25T15:14:08.474986Z",
     "iopub.status.busy": "2024-04-25T15:14:08.474646Z",
     "iopub.status.idle": "2024-04-25T15:14:08.478275Z",
     "shell.execute_reply": "2024-04-25T15:14:08.477604Z"
    },
    "lines_to_next_cell": 2
   },
   "outputs": [],
   "source": [
    "\n",
    "picture_url = \"https://avatars.githubusercontent.com/u/29918795?s=200&v=4\""
   ]
  },
  {
   "cell_type": "markdown",
   "id": "e3e629ef",
   "metadata": {
    "cell_marker": "\"\"\"",
    "lines_to_next_cell": 2
   },
   "source": [
    "To filter user messages depending on whether or not media files were sent,\n",
    "you can use the `content_types` parameter of the `telegram_condition`."
   ]
  },
  {
   "cell_type": "code",
   "execution_count": 4,
   "id": "cd848c47",
   "metadata": {
    "execution": {
     "iopub.execute_input": "2024-04-25T15:14:08.481172Z",
     "iopub.status.busy": "2024-04-25T15:14:08.480737Z",
     "iopub.status.idle": "2024-04-25T15:14:08.484091Z",
     "shell.execute_reply": "2024-04-25T15:14:08.483464Z"
    },
    "lines_to_next_cell": 2
   },
   "outputs": [],
   "source": [
    "interface = PollingTelegramInterface(token=os.environ[\"TG_BOT_TOKEN\"])"
   ]
  },
  {
   "cell_type": "code",
   "execution_count": 5,
   "id": "91156824",
   "metadata": {
    "execution": {
     "iopub.execute_input": "2024-04-25T15:14:08.486604Z",
     "iopub.status.busy": "2024-04-25T15:14:08.486249Z",
     "iopub.status.idle": "2024-04-25T15:14:08.496966Z",
     "shell.execute_reply": "2024-04-25T15:14:08.496300Z"
    }
   },
   "outputs": [],
   "source": [
    "script = {\n",
    "    \"root\": {\n",
    "        \"start\": {\n",
    "            TRANSITIONS: {\n",
    "                (\"pics\", \"ask_picture\"): telegram_condition(\n",
    "                    commands=[\"start\", \"restart\"]\n",
    "                )\n",
    "            },\n",
    "        },\n",
    "        \"fallback\": {\n",
    "            RESPONSE: TelegramMessage(\n",
    "                text=\"Finishing test, send /restart command to restart\"\n",
    "            ),\n",
    "            TRANSITIONS: {\n",
    "                (\"pics\", \"ask_picture\"): telegram_condition(\n",
    "                    commands=[\"start\", \"restart\"]\n",
    "                )\n",
    "            },\n",
    "        },\n",
    "    },\n",
    "    \"pics\": {\n",
    "        \"ask_picture\": {\n",
    "            RESPONSE: TelegramMessage(text=\"Send me a picture\"),\n",
    "            TRANSITIONS: {\n",
    "                (\"pics\", \"send_one\"): cnd.any(\n",
    "                    [\n",
    "                        # Telegram can put photos\n",
    "                        # both in 'photo' and 'document' fields.\n",
    "                        # We should consider both cases\n",
    "                        # when we check the message for media.\n",
    "                        telegram_condition(content_types=[\"photo\"]),\n",
    "                        telegram_condition(\n",
    "                            func=lambda message: (\n",
    "                                # check attachments in message properties\n",
    "                                message.document\n",
    "                                and message.document.mime_type == \"image/jpeg\"\n",
    "                            ),\n",
    "                            content_types=[\"document\"],\n",
    "                        ),\n",
    "                    ]\n",
    "                ),\n",
    "                (\"pics\", \"send_many\"): telegram_condition(\n",
    "                    content_types=[\"text\"]\n",
    "                ),\n",
    "                (\"pics\", \"ask_picture\"): cnd.true(),\n",
    "            },\n",
    "        },\n",
    "        \"send_one\": {\n",
    "            # An HTTP path or a path to a local file can be used here.\n",
    "            RESPONSE: TelegramMessage(\n",
    "                text=\"Here's my picture!\",\n",
    "                attachments=Attachments(files=[Image(source=picture_url)]),\n",
    "            ),\n",
    "            TRANSITIONS: {(\"root\", \"fallback\"): cnd.true()},\n",
    "        },\n",
    "        \"send_many\": {\n",
    "            RESPONSE: TelegramMessage(\n",
    "                text=\"Look at my pictures!\",\n",
    "                # An HTTP path or a path to a local file can be used here.\n",
    "                attachments=Attachments(files=[Image(source=picture_url)] * 2),\n",
    "            ),\n",
    "            TRANSITIONS: {(\"root\", \"fallback\"): cnd.true()},\n",
    "        },\n",
    "    },\n",
    "}\n",
    "\n",
    "\n",
    "# testing\n",
    "happy_path = (\n",
    "    (\n",
    "        TelegramMessage(text=\"/start\"),\n",
    "        TelegramMessage(text=\"Send me a picture\"),\n",
    "    ),\n",
    "    (\n",
    "        TelegramMessage(\n",
    "            attachments=Attachments(files=[Image(source=picture_url)])\n",
    "        ),\n",
    "        TelegramMessage(\n",
    "            text=\"Here's my picture!\",\n",
    "            attachments=Attachments(files=[Image(source=picture_url)]),\n",
    "        ),\n",
    "    ),\n",
    "    (\n",
    "        TelegramMessage(text=\"ok\"),\n",
    "        TelegramMessage(\n",
    "            text=\"Finishing test, send /restart command to restart\"\n",
    "        ),\n",
    "    ),\n",
    "    (\n",
    "        TelegramMessage(text=\"/restart\"),\n",
    "        TelegramMessage(text=\"Send me a picture\"),\n",
    "    ),\n",
    "    (\n",
    "        TelegramMessage(text=\"No\"),\n",
    "        TelegramMessage(\n",
    "            text=\"Look at my pictures!\",\n",
    "            attachments=Attachments(files=[Image(source=picture_url)] * 2),\n",
    "        ),\n",
    "    ),\n",
    "    (\n",
    "        TelegramMessage(text=\"ok\"),\n",
    "        TelegramMessage(\n",
    "            text=\"Finishing test, send /restart command to restart\"\n",
    "        ),\n",
    "    ),\n",
    "    (\n",
    "        TelegramMessage(text=\"/restart\"),\n",
    "        TelegramMessage(text=\"Send me a picture\"),\n",
    "    ),\n",
    ")"
   ]
  },
  {
   "cell_type": "code",
   "execution_count": 6,
   "id": "ca9aee4f",
   "metadata": {
    "execution": {
     "iopub.execute_input": "2024-04-25T15:14:08.499623Z",
     "iopub.status.busy": "2024-04-25T15:14:08.499417Z",
     "iopub.status.idle": "2024-04-25T15:14:08.505298Z",
     "shell.execute_reply": "2024-04-25T15:14:08.504204Z"
    }
   },
   "outputs": [],
   "source": [
    "def extract_data(ctx: Context, _: Pipeline):  # A function to extract data with\n",
    "    message = ctx.last_request\n",
    "    if message is None:\n",
    "        return\n",
    "    update = getattr(message, \"update\", None)\n",
    "    if update is None:\n",
    "        return\n",
    "    if not isinstance(update, Message):\n",
    "        return\n",
    "    if (\n",
    "        # check attachments in update properties\n",
    "        not update.photo\n",
    "        and not (update.document and update.document.mime_type == \"image/jpeg\")\n",
    "    ):\n",
    "        return\n",
    "    photo = update.document or update.photo[-1]\n",
    "    file = interface.messenger.get_file(photo.file_id)\n",
    "    result = interface.messenger.download_file(file.file_path)\n",
    "    with open(\"photo.jpg\", \"wb+\") as new_file:\n",
    "        new_file.write(result)\n",
    "    return"
   ]
  },
  {
   "cell_type": "code",
   "execution_count": 7,
   "id": "51a16074",
   "metadata": {
    "execution": {
     "iopub.execute_input": "2024-04-25T15:14:08.508977Z",
     "iopub.status.busy": "2024-04-25T15:14:08.508322Z",
     "iopub.status.idle": "2024-04-25T15:14:08.514804Z",
     "shell.execute_reply": "2024-04-25T15:14:08.513919Z"
    }
   },
   "outputs": [],
   "source": [
    "pipeline = Pipeline.from_script(\n",
    "    script=script,\n",
    "    start_label=(\"root\", \"start\"),\n",
    "    fallback_label=(\"root\", \"fallback\"),\n",
    "    messenger_interface=interface,\n",
    "    pre_services=[extract_data],\n",
    ")\n",
    "\n",
    "\n",
    "def main():\n",
    "    pipeline.run()\n",
    "\n",
    "\n",
    "if __name__ == \"__main__\" and is_interactive_mode():\n",
    "    # prevent run during doc building\n",
    "    main()"
   ]
  }
 ],
 "metadata": {
  "jupytext": {
   "cell_metadata_filter": "-all",
   "main_language": "python",
   "notebook_metadata_filter": "-all",
   "text_representation": {
    "extension": ".py",
    "format_name": "percent"
   }
  },
  "language_info": {
   "codemirror_mode": {
    "name": "ipython",
    "version": 3
   },
   "file_extension": ".py",
   "mimetype": "text/x-python",
   "name": "python",
   "nbconvert_exporter": "python",
   "pygments_lexer": "ipython3",
   "version": "3.9.19"
  }
 },
 "nbformat": 4,
 "nbformat_minor": 5
}
