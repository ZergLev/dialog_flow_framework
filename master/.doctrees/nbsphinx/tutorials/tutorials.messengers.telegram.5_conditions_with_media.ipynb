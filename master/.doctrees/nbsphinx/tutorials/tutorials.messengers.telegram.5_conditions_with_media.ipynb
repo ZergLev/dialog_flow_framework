{
 "cells": [
  {
   "cell_type": "markdown",
   "id": "0eb060c5",
   "metadata": {
    "cell_marker": "\"\"\"",
    "lines_to_next_cell": 2
   },
   "source": [
    "# Telegram: 5. Conditions with Media\n",
    "\n",
    "This tutorial shows how to use media-related logic in your script.\n",
    "\n",
    "Here, [telegram_condition](../apiref/dff.messengers.telegram.messenger.rst#dff.messengers.telegram.messenger.telegram_condition)\n",
    "function is used for graph navigation according to Telegram events.\n",
    "\n",
    "Different [message](../apiref/dff.script.core.message.rst#dff.script.core.message.message)\n",
    "classes are used for representing different common message features,\n",
    "like Attachment, Audio, Button, Image, etc."
   ]
  },
  {
   "cell_type": "code",
   "execution_count": 1,
   "id": "a829132c",
   "metadata": {
    "execution": {
     "iopub.execute_input": "2024-05-02T10:26:53.948067Z",
     "iopub.status.busy": "2024-05-02T10:26:53.947587Z",
     "iopub.status.idle": "2024-05-02T10:26:56.092394Z",
     "shell.execute_reply": "2024-05-02T10:26:56.091559Z"
    }
   },
   "outputs": [
    {
     "name": "stdout",
     "output_type": "stream",
     "text": [
      "Note: you may need to restart the kernel to use updated packages.\n"
     ]
    }
   ],
   "source": [
    "# installing dependencies\n",
    "%pip install -q dff[telegram]"
   ]
  },
  {
   "cell_type": "code",
   "execution_count": 2,
   "id": "90941b0f",
   "metadata": {
    "execution": {
     "iopub.execute_input": "2024-05-02T10:26:56.095453Z",
     "iopub.status.busy": "2024-05-02T10:26:56.095019Z",
     "iopub.status.idle": "2024-05-02T10:26:56.838825Z",
     "shell.execute_reply": "2024-05-02T10:26:56.838209Z"
    },
    "lines_to_next_cell": 2
   },
   "outputs": [],
   "source": [
    "import os\n",
    "\n",
    "from telebot.types import Message\n",
    "\n",
    "import dff.script.conditions as cnd\n",
    "from dff.script import Context, TRANSITIONS, RESPONSE\n",
    "from dff.script.core.message import Image, Attachments\n",
    "from dff.messengers.telegram import (\n",
    "    PollingTelegramInterface,\n",
    "    TelegramMessage,\n",
    "    telegram_condition,\n",
    ")\n",
    "from dff.pipeline import Pipeline\n",
    "from dff.utils.testing.common import is_interactive_mode"
   ]
  },
  {
   "cell_type": "code",
   "execution_count": 3,
   "id": "834be790",
   "metadata": {
    "execution": {
     "iopub.execute_input": "2024-05-02T10:26:56.842146Z",
     "iopub.status.busy": "2024-05-02T10:26:56.841532Z",
     "iopub.status.idle": "2024-05-02T10:26:56.844736Z",
     "shell.execute_reply": "2024-05-02T10:26:56.844126Z"
    },
    "lines_to_next_cell": 2
   },
   "outputs": [],
   "source": [
    "\n",
    "picture_url = \"https://avatars.githubusercontent.com/u/29918795?s=200&v=4\""
   ]
  },
  {
   "cell_type": "markdown",
   "id": "14a5a71f",
   "metadata": {
    "cell_marker": "\"\"\"",
    "lines_to_next_cell": 2
   },
   "source": [
    "To filter user messages depending on whether or not media files were sent,\n",
    "you can use the `content_types` parameter of the `telegram_condition`."
   ]
  },
  {
   "cell_type": "code",
   "execution_count": 4,
   "id": "2a777c45",
   "metadata": {
    "execution": {
     "iopub.execute_input": "2024-05-02T10:26:56.847437Z",
     "iopub.status.busy": "2024-05-02T10:26:56.847037Z",
     "iopub.status.idle": "2024-05-02T10:26:56.850256Z",
     "shell.execute_reply": "2024-05-02T10:26:56.849630Z"
    },
    "lines_to_next_cell": 2
   },
   "outputs": [],
   "source": [
    "interface = PollingTelegramInterface(token=os.environ[\"TG_BOT_TOKEN\"])"
   ]
  },
  {
   "cell_type": "code",
   "execution_count": 5,
   "id": "0642514b",
   "metadata": {
    "execution": {
     "iopub.execute_input": "2024-05-02T10:26:56.852843Z",
     "iopub.status.busy": "2024-05-02T10:26:56.852628Z",
     "iopub.status.idle": "2024-05-02T10:26:56.862721Z",
     "shell.execute_reply": "2024-05-02T10:26:56.862087Z"
    }
   },
   "outputs": [],
   "source": [
    "script = {\n",
    "    \"root\": {\n",
    "        \"start\": {\n",
    "            TRANSITIONS: {\n",
    "                (\"pics\", \"ask_picture\"): telegram_condition(\n",
    "                    commands=[\"start\", \"restart\"]\n",
    "                )\n",
    "            },\n",
    "        },\n",
    "        \"fallback\": {\n",
    "            RESPONSE: TelegramMessage(\n",
    "                text=\"Finishing test, send /restart command to restart\"\n",
    "            ),\n",
    "            TRANSITIONS: {\n",
    "                (\"pics\", \"ask_picture\"): telegram_condition(\n",
    "                    commands=[\"start\", \"restart\"]\n",
    "                )\n",
    "            },\n",
    "        },\n",
    "    },\n",
    "    \"pics\": {\n",
    "        \"ask_picture\": {\n",
    "            RESPONSE: TelegramMessage(text=\"Send me a picture\"),\n",
    "            TRANSITIONS: {\n",
    "                (\"pics\", \"send_one\"): cnd.any(\n",
    "                    [\n",
    "                        # Telegram can put photos\n",
    "                        # both in 'photo' and 'document' fields.\n",
    "                        # We should consider both cases\n",
    "                        # when we check the message for media.\n",
    "                        telegram_condition(content_types=[\"photo\"]),\n",
    "                        telegram_condition(\n",
    "                            func=lambda message: (\n",
    "                                # check attachments in message properties\n",
    "                                message.document\n",
    "                                and message.document.mime_type == \"image/jpeg\"\n",
    "                            ),\n",
    "                            content_types=[\"document\"],\n",
    "                        ),\n",
    "                    ]\n",
    "                ),\n",
    "                (\"pics\", \"send_many\"): telegram_condition(\n",
    "                    content_types=[\"text\"]\n",
    "                ),\n",
    "                (\"pics\", \"ask_picture\"): cnd.true(),\n",
    "            },\n",
    "        },\n",
    "        \"send_one\": {\n",
    "            # An HTTP path or a path to a local file can be used here.\n",
    "            RESPONSE: TelegramMessage(\n",
    "                text=\"Here's my picture!\",\n",
    "                attachments=Attachments(files=[Image(source=picture_url)]),\n",
    "            ),\n",
    "            TRANSITIONS: {(\"root\", \"fallback\"): cnd.true()},\n",
    "        },\n",
    "        \"send_many\": {\n",
    "            RESPONSE: TelegramMessage(\n",
    "                text=\"Look at my pictures!\",\n",
    "                # An HTTP path or a path to a local file can be used here.\n",
    "                attachments=Attachments(files=[Image(source=picture_url)] * 2),\n",
    "            ),\n",
    "            TRANSITIONS: {(\"root\", \"fallback\"): cnd.true()},\n",
    "        },\n",
    "    },\n",
    "}\n",
    "\n",
    "\n",
    "# testing\n",
    "happy_path = (\n",
    "    (\n",
    "        TelegramMessage(text=\"/start\"),\n",
    "        TelegramMessage(text=\"Send me a picture\"),\n",
    "    ),\n",
    "    (\n",
    "        TelegramMessage(\n",
    "            attachments=Attachments(files=[Image(source=picture_url)])\n",
    "        ),\n",
    "        TelegramMessage(\n",
    "            text=\"Here's my picture!\",\n",
    "            attachments=Attachments(files=[Image(source=picture_url)]),\n",
    "        ),\n",
    "    ),\n",
    "    (\n",
    "        TelegramMessage(text=\"ok\"),\n",
    "        TelegramMessage(\n",
    "            text=\"Finishing test, send /restart command to restart\"\n",
    "        ),\n",
    "    ),\n",
    "    (\n",
    "        TelegramMessage(text=\"/restart\"),\n",
    "        TelegramMessage(text=\"Send me a picture\"),\n",
    "    ),\n",
    "    (\n",
    "        TelegramMessage(text=\"No\"),\n",
    "        TelegramMessage(\n",
    "            text=\"Look at my pictures!\",\n",
    "            attachments=Attachments(files=[Image(source=picture_url)] * 2),\n",
    "        ),\n",
    "    ),\n",
    "    (\n",
    "        TelegramMessage(text=\"ok\"),\n",
    "        TelegramMessage(\n",
    "            text=\"Finishing test, send /restart command to restart\"\n",
    "        ),\n",
    "    ),\n",
    "    (\n",
    "        TelegramMessage(text=\"/restart\"),\n",
    "        TelegramMessage(text=\"Send me a picture\"),\n",
    "    ),\n",
    ")"
   ]
  },
  {
   "cell_type": "code",
   "execution_count": 6,
   "id": "68663bd4",
   "metadata": {
    "execution": {
     "iopub.execute_input": "2024-05-02T10:26:56.865314Z",
     "iopub.status.busy": "2024-05-02T10:26:56.864925Z",
     "iopub.status.idle": "2024-05-02T10:26:56.869849Z",
     "shell.execute_reply": "2024-05-02T10:26:56.869214Z"
    }
   },
   "outputs": [],
   "source": [
    "def extract_data(ctx: Context, _: Pipeline):  # A function to extract data with\n",
    "    message = ctx.last_request\n",
    "    if message is None:\n",
    "        return\n",
    "    update = getattr(message, \"update\", None)\n",
    "    if update is None:\n",
    "        return\n",
    "    if not isinstance(update, Message):\n",
    "        return\n",
    "    if (\n",
    "        # check attachments in update properties\n",
    "        not update.photo\n",
    "        and not (update.document and update.document.mime_type == \"image/jpeg\")\n",
    "    ):\n",
    "        return\n",
    "    photo = update.document or update.photo[-1]\n",
    "    file = interface.messenger.get_file(photo.file_id)\n",
    "    result = interface.messenger.download_file(file.file_path)\n",
    "    with open(\"photo.jpg\", \"wb+\") as new_file:\n",
    "        new_file.write(result)\n",
    "    return"
   ]
  },
  {
   "cell_type": "code",
   "execution_count": 7,
   "id": "b9fb517a",
   "metadata": {
    "execution": {
     "iopub.execute_input": "2024-05-02T10:26:56.872338Z",
     "iopub.status.busy": "2024-05-02T10:26:56.871983Z",
     "iopub.status.idle": "2024-05-02T10:26:56.876220Z",
     "shell.execute_reply": "2024-05-02T10:26:56.875594Z"
    }
   },
   "outputs": [],
   "source": [
    "pipeline = Pipeline.from_script(\n",
    "    script=script,\n",
    "    start_label=(\"root\", \"start\"),\n",
    "    fallback_label=(\"root\", \"fallback\"),\n",
    "    messenger_interface=interface,\n",
    "    pre_services=[extract_data],\n",
    ")\n",
    "\n",
    "\n",
    "def main():\n",
    "    pipeline.run()\n",
    "\n",
    "\n",
    "if __name__ == \"__main__\" and is_interactive_mode():\n",
    "    # prevent run during doc building\n",
    "    main()"
   ]
  }
 ],
 "metadata": {
  "jupytext": {
   "cell_metadata_filter": "-all",
   "main_language": "python",
   "notebook_metadata_filter": "-all",
   "text_representation": {
    "extension": ".py",
    "format_name": "percent"
   }
  },
  "language_info": {
   "codemirror_mode": {
    "name": "ipython",
    "version": 3
   },
   "file_extension": ".py",
   "mimetype": "text/x-python",
   "name": "python",
   "nbconvert_exporter": "python",
   "pygments_lexer": "ipython3",
   "version": "3.9.19"
  }
 },
 "nbformat": 4,
 "nbformat_minor": 5
}
