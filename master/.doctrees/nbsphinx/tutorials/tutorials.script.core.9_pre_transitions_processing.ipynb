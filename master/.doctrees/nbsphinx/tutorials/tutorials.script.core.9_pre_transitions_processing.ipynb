{
 "cells": [
  {
   "cell_type": "markdown",
   "id": "c9ff0949",
   "metadata": {
    "cell_marker": "\"\"\""
   },
   "source": [
    "# Core: 9. Pre-transitions processing\n",
    "\n",
    "This tutorial shows pre-transitions processing feature.\n",
    "\n",
    "Here, [PRE_TRANSITIONS_PROCESSING](../apiref/dff.script.core.keywords.rst#dff.script.core.keywords.Keywords.PRE_TRANSITIONS_PROCESSING)\n",
    "is demonstrated which can be used for additional context\n",
    "processing before transitioning to the next step.\n",
    "\n",
    "First of all, let's do all the necessary imports from DFF."
   ]
  },
  {
   "cell_type": "code",
   "execution_count": 1,
   "id": "9de1cbb1",
   "metadata": {
    "execution": {
     "iopub.execute_input": "2024-04-27T07:27:08.215731Z",
     "iopub.status.busy": "2024-04-27T07:27:08.215001Z",
     "iopub.status.idle": "2024-04-27T07:27:10.509497Z",
     "shell.execute_reply": "2024-04-27T07:27:10.508509Z"
    }
   },
   "outputs": [
    {
     "name": "stdout",
     "output_type": "stream",
     "text": [
      "Note: you may need to restart the kernel to use updated packages.\n"
     ]
    }
   ],
   "source": [
    "# installing dependencies\n",
    "%pip install -q dff"
   ]
  },
  {
   "cell_type": "code",
   "execution_count": 2,
   "id": "94c594ae",
   "metadata": {
    "execution": {
     "iopub.execute_input": "2024-04-27T07:27:10.513246Z",
     "iopub.status.busy": "2024-04-27T07:27:10.512695Z",
     "iopub.status.idle": "2024-04-27T07:27:11.147191Z",
     "shell.execute_reply": "2024-04-27T07:27:11.146422Z"
    }
   },
   "outputs": [],
   "source": [
    "from dff.script import (\n",
    "    GLOBAL,\n",
    "    RESPONSE,\n",
    "    TRANSITIONS,\n",
    "    PRE_RESPONSE_PROCESSING,\n",
    "    PRE_TRANSITIONS_PROCESSING,\n",
    "    Context,\n",
    "    Message,\n",
    ")\n",
    "import dff.script.labels as lbl\n",
    "import dff.script.conditions as cnd\n",
    "from dff.pipeline import Pipeline\n",
    "from dff.utils.testing.common import (\n",
    "    check_happy_path,\n",
    "    is_interactive_mode,\n",
    "    run_interactive_mode,\n",
    ")"
   ]
  },
  {
   "cell_type": "code",
   "execution_count": 3,
   "id": "143beb69",
   "metadata": {
    "execution": {
     "iopub.execute_input": "2024-04-27T07:27:11.150392Z",
     "iopub.status.busy": "2024-04-27T07:27:11.150105Z",
     "iopub.status.idle": "2024-04-27T07:27:11.154690Z",
     "shell.execute_reply": "2024-04-27T07:27:11.153969Z"
    }
   },
   "outputs": [],
   "source": [
    "def save_previous_node_response(ctx: Context, _: Pipeline):\n",
    "    processed_node = ctx.current_node\n",
    "    ctx.misc[\"previous_node_response\"] = processed_node.response\n",
    "\n",
    "\n",
    "def prepend_previous_node_response(ctx: Context, _: Pipeline):\n",
    "    processed_node = ctx.current_node\n",
    "    processed_node.response = Message(\n",
    "        text=f\"previous={ctx.misc['previous_node_response'].text}:\"\n",
    "        f\" current={processed_node.response.text}\"\n",
    "    )"
   ]
  },
  {
   "cell_type": "code",
   "execution_count": 4,
   "id": "6d759081",
   "metadata": {
    "execution": {
     "iopub.execute_input": "2024-04-27T07:27:11.157855Z",
     "iopub.status.busy": "2024-04-27T07:27:11.157328Z",
     "iopub.status.idle": "2024-04-27T07:27:11.166233Z",
     "shell.execute_reply": "2024-04-27T07:27:11.165505Z"
    },
    "lines_to_next_cell": 2
   },
   "outputs": [],
   "source": [
    "# a dialog script\n",
    "toy_script = {\n",
    "    \"root\": {\n",
    "        \"start\": {\n",
    "            RESPONSE: Message(),\n",
    "            TRANSITIONS: {(\"flow\", \"step_0\"): cnd.true()},\n",
    "        },\n",
    "        \"fallback\": {RESPONSE: Message(\"the end\")},\n",
    "    },\n",
    "    GLOBAL: {\n",
    "        PRE_RESPONSE_PROCESSING: {\n",
    "            \"proc_name_1\": prepend_previous_node_response\n",
    "        },\n",
    "        PRE_TRANSITIONS_PROCESSING: {\n",
    "            \"proc_name_1\": save_previous_node_response\n",
    "        },\n",
    "        TRANSITIONS: {lbl.forward(0.1): cnd.true()},\n",
    "    },\n",
    "    \"flow\": {\n",
    "        \"step_0\": {RESPONSE: Message(\"first\")},\n",
    "        \"step_1\": {RESPONSE: Message(\"second\")},\n",
    "        \"step_2\": {RESPONSE: Message(\"third\")},\n",
    "        \"step_3\": {RESPONSE: Message(\"fourth\")},\n",
    "        \"step_4\": {RESPONSE: Message(\"fifth\")},\n",
    "    },\n",
    "}\n",
    "\n",
    "\n",
    "# testing\n",
    "happy_path = (\n",
    "    (Message(\"1\"), Message(\"previous=None: current=first\")),\n",
    "    (Message(\"2\"), Message(\"previous=first: current=second\")),\n",
    "    (Message(\"3\"), Message(\"previous=second: current=third\")),\n",
    "    (Message(\"4\"), Message(\"previous=third: current=fourth\")),\n",
    "    (Message(\"5\"), Message(\"previous=fourth: current=fifth\")),\n",
    ")"
   ]
  },
  {
   "cell_type": "code",
   "execution_count": 5,
   "id": "6d6b57a9",
   "metadata": {
    "execution": {
     "iopub.execute_input": "2024-04-27T07:27:11.169452Z",
     "iopub.status.busy": "2024-04-27T07:27:11.169180Z",
     "iopub.status.idle": "2024-04-27T07:27:11.189115Z",
     "shell.execute_reply": "2024-04-27T07:27:11.188379Z"
    }
   },
   "outputs": [
    {
     "name": "stdout",
     "output_type": "stream",
     "text": [
      "(user) >>> text='1'\n",
      " (bot) <<< text='previous=None: current=first'\n",
      "(user) >>> text='2'\n",
      " (bot) <<< text='previous=first: current=second'\n",
      "(user) >>> text='3'\n",
      " (bot) <<< text='previous=second: current=third'\n",
      "(user) >>> text='4'\n",
      " (bot) <<< text='previous=third: current=fourth'\n",
      "(user) >>> text='5'\n",
      " (bot) <<< text='previous=fourth: current=fifth'\n"
     ]
    }
   ],
   "source": [
    "pipeline = Pipeline.from_script(\n",
    "    toy_script,\n",
    "    start_label=(\"root\", \"start\"),\n",
    "    fallback_label=(\"root\", \"fallback\"),\n",
    ")\n",
    "\n",
    "if __name__ == \"__main__\":\n",
    "    check_happy_path(pipeline, happy_path)\n",
    "    if is_interactive_mode():\n",
    "        run_interactive_mode(pipeline)"
   ]
  }
 ],
 "metadata": {
  "jupytext": {
   "cell_metadata_filter": "-all",
   "main_language": "python",
   "notebook_metadata_filter": "-all",
   "text_representation": {
    "extension": ".py",
    "format_name": "percent"
   }
  },
  "language_info": {
   "codemirror_mode": {
    "name": "ipython",
    "version": 3
   },
   "file_extension": ".py",
   "mimetype": "text/x-python",
   "name": "python",
   "nbconvert_exporter": "python",
   "pygments_lexer": "ipython3",
   "version": "3.9.19"
  }
 },
 "nbformat": 4,
 "nbformat_minor": 5
}
