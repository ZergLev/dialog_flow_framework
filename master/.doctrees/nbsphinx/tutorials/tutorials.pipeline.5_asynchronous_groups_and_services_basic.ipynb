{
 "cells": [
  {
   "cell_type": "markdown",
   "id": "d7135b11",
   "metadata": {
    "cell_marker": "\"\"\""
   },
   "source": [
    "# 5. Asynchronous groups and services (basic)\n",
    "\n",
    "The following tutorial shows `pipeline` asynchronous\n",
    "service and service group usage.\n",
    "\n",
    "Here, [ServiceGroup](../apiref/dff.pipeline.service.group.rst#dff.pipeline.service.group.ServiceGroup)s\n",
    "are shown for advanced and asynchronous data pre- and postprocessing."
   ]
  },
  {
   "cell_type": "code",
   "execution_count": 1,
   "id": "2de4c325",
   "metadata": {
    "execution": {
     "iopub.execute_input": "2024-04-27T07:26:23.222231Z",
     "iopub.status.busy": "2024-04-27T07:26:23.222014Z",
     "iopub.status.idle": "2024-04-27T07:26:25.610068Z",
     "shell.execute_reply": "2024-04-27T07:26:25.609243Z"
    }
   },
   "outputs": [
    {
     "name": "stdout",
     "output_type": "stream",
     "text": [
      "Note: you may need to restart the kernel to use updated packages.\n"
     ]
    }
   ],
   "source": [
    "# installing dependencies\n",
    "%pip install -q dff"
   ]
  },
  {
   "cell_type": "code",
   "execution_count": 2,
   "id": "68e1ba08",
   "metadata": {
    "execution": {
     "iopub.execute_input": "2024-04-27T07:26:25.613311Z",
     "iopub.status.busy": "2024-04-27T07:26:25.613086Z",
     "iopub.status.idle": "2024-04-27T07:26:26.243998Z",
     "shell.execute_reply": "2024-04-27T07:26:26.243297Z"
    }
   },
   "outputs": [],
   "source": [
    "import asyncio\n",
    "\n",
    "from dff.pipeline import Pipeline, ACTOR\n",
    "\n",
    "from dff.utils.testing.common import (\n",
    "    is_interactive_mode,\n",
    "    check_happy_path,\n",
    "    run_interactive_mode,\n",
    ")\n",
    "from dff.utils.testing.toy_script import HAPPY_PATH, TOY_SCRIPT"
   ]
  },
  {
   "cell_type": "markdown",
   "id": "59f427e9",
   "metadata": {
    "cell_marker": "\"\"\"",
    "lines_to_next_cell": 2
   },
   "source": [
    "Services and service groups can be synchronous and asynchronous.\n",
    "In synchronous service groups services are executed consequently.\n",
    "In asynchronous service groups all services are executed simultaneously.\n",
    "\n",
    "Service can be asynchronous if its handler is an async function.\n",
    "Service group can be asynchronous if all services\n",
    "and service groups inside it are asynchronous.\n",
    "\n",
    "Here there is an asynchronous service group, that contains 10 services,\n",
    "each of them should sleep for 0.01 of a second.\n",
    "However, as the group is asynchronous,\n",
    "it is being executed for 0.01 of a second in total.\n",
    "Service group can be synchronous or asynchronous."
   ]
  },
  {
   "cell_type": "code",
   "execution_count": 3,
   "id": "ae7805e5",
   "metadata": {
    "execution": {
     "iopub.execute_input": "2024-04-27T07:26:26.247206Z",
     "iopub.status.busy": "2024-04-27T07:26:26.246879Z",
     "iopub.status.idle": "2024-04-27T07:26:26.250989Z",
     "shell.execute_reply": "2024-04-27T07:26:26.250373Z"
    }
   },
   "outputs": [],
   "source": [
    "async def time_consuming_service(_):\n",
    "    await asyncio.sleep(0.01)\n",
    "\n",
    "\n",
    "pipeline_dict = {\n",
    "    \"script\": TOY_SCRIPT,\n",
    "    \"start_label\": (\"greeting_flow\", \"start_node\"),\n",
    "    \"fallback_label\": (\"greeting_flow\", \"fallback_node\"),\n",
    "    \"components\": [\n",
    "        [time_consuming_service for _ in range(0, 10)],\n",
    "        ACTOR,\n",
    "    ],\n",
    "}"
   ]
  },
  {
   "cell_type": "code",
   "execution_count": 4,
   "id": "23685ed3",
   "metadata": {
    "execution": {
     "iopub.execute_input": "2024-04-27T07:26:26.253546Z",
     "iopub.status.busy": "2024-04-27T07:26:26.253135Z",
     "iopub.status.idle": "2024-04-27T07:26:26.327527Z",
     "shell.execute_reply": "2024-04-27T07:26:26.326875Z"
    }
   },
   "outputs": [
    {
     "name": "stdout",
     "output_type": "stream",
     "text": [
      "(user) >>> text='Hi'\n",
      " (bot) <<< text='Hi, how are you?'\n",
      "(user) >>> text='i'm fine, how are you?'\n",
      " (bot) <<< text='Good. What do you want to talk about?'\n",
      "(user) >>> text='Let's talk about music.'\n",
      " (bot) <<< text='Sorry, I can not talk about music now.'\n",
      "(user) >>> text='Ok, goodbye.'\n",
      " (bot) <<< text='bye'\n",
      "(user) >>> text='Hi'\n",
      " (bot) <<< text='Hi, how are you?'\n"
     ]
    }
   ],
   "source": [
    "pipeline = Pipeline.from_dict(pipeline_dict)\n",
    "\n",
    "if __name__ == \"__main__\":\n",
    "    check_happy_path(pipeline, HAPPY_PATH)\n",
    "    if is_interactive_mode():\n",
    "        run_interactive_mode(pipeline)"
   ]
  }
 ],
 "metadata": {
  "jupytext": {
   "cell_metadata_filter": "-all",
   "main_language": "python",
   "notebook_metadata_filter": "-all",
   "text_representation": {
    "extension": ".py",
    "format_name": "percent"
   }
  },
  "language_info": {
   "codemirror_mode": {
    "name": "ipython",
    "version": 3
   },
   "file_extension": ".py",
   "mimetype": "text/x-python",
   "name": "python",
   "nbconvert_exporter": "python",
   "pygments_lexer": "ipython3",
   "version": "3.9.19"
  }
 },
 "nbformat": 4,
 "nbformat_minor": 5
}
