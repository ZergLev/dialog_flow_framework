{
 "cells": [
  {
   "cell_type": "markdown",
   "id": "d14ae82b",
   "metadata": {
    "cell_marker": "\"\"\"",
    "lines_to_next_cell": 2
   },
   "source": [
    "# Telegram: 4. Conditions\n",
    "\n",
    "This tutorial shows how to process Telegram updates in your script\n",
    "and reuse handler triggers from the `pytelegrambotapi` library.\n",
    "\n",
    "Here, [telegram_condition](../apiref/dff.messengers.telegram.messenger.rst#dff.messengers.telegram.messenger.telegram_condition)\n",
    "function is used for graph navigation according to Telegram events."
   ]
  },
  {
   "cell_type": "code",
   "execution_count": 1,
   "id": "1fd7ba89",
   "metadata": {
    "execution": {
     "iopub.execute_input": "2024-04-19T12:50:44.804317Z",
     "iopub.status.busy": "2024-04-19T12:50:44.803651Z",
     "iopub.status.idle": "2024-04-19T12:50:47.025394Z",
     "shell.execute_reply": "2024-04-19T12:50:47.024415Z"
    }
   },
   "outputs": [
    {
     "name": "stdout",
     "output_type": "stream",
     "text": [
      "Note: you may need to restart the kernel to use updated packages.\n"
     ]
    }
   ],
   "source": [
    "# installing dependencies\n",
    "%pip install -q dff[telegram]"
   ]
  },
  {
   "cell_type": "code",
   "execution_count": 2,
   "id": "36d2bf8d",
   "metadata": {
    "execution": {
     "iopub.execute_input": "2024-04-19T12:50:47.028723Z",
     "iopub.status.busy": "2024-04-19T12:50:47.028279Z",
     "iopub.status.idle": "2024-04-19T12:50:47.846514Z",
     "shell.execute_reply": "2024-04-19T12:50:47.845867Z"
    },
    "lines_to_next_cell": 2
   },
   "outputs": [],
   "source": [
    "import os\n",
    "\n",
    "from dff.script import TRANSITIONS, RESPONSE\n",
    "\n",
    "from dff.messengers.telegram import (\n",
    "    PollingTelegramInterface,\n",
    "    telegram_condition,\n",
    "    UpdateType,\n",
    ")\n",
    "from dff.pipeline import Pipeline\n",
    "from dff.messengers.telegram import TelegramMessage\n",
    "from dff.utils.testing.common import is_interactive_mode"
   ]
  },
  {
   "cell_type": "markdown",
   "id": "a74c3487",
   "metadata": {
    "cell_marker": "\"\"\"",
    "lines_to_next_cell": 2
   },
   "source": [
    "In our Telegram module, we adopted the system of filters\n",
    "available in the `pytelegrambotapi` library.\n",
    "\n",
    "You can use `telegram_condition` to filter\n",
    "text messages from telegram in various ways.\n",
    "\n",
    "- Setting the `update_type` will allow filtering by update type:\n",
    "  if you want the condition to trigger only on updates of the type\n",
    "  `edited_message`, set it to `UpdateType.EDITED_MESSAGE`.\n",
    "  The field defaults to `message`.\n",
    "- Setting the `command` argument will cause\n",
    "  the telegram_condition to only react to listed commands.\n",
    "- `func` argument on the other hand allows you to define arbitrary conditions.\n",
    "- `regexp` creates a regular expression filter, etc.\n",
    "\n",
    "Note:\n",
    "It is possible to use `cnd.exact_match` as a condition\n",
    "(as seen in previous tutorials). However, the functionality\n",
    "of that approach is lacking:\n",
    "\n",
    "At this moment only two fields of `Message` are set during update processing:\n",
    "\n",
    "- `text` stores the `text` field of `message` updates\n",
    "- `callback_query` stores the `data` field of `callback_query` updates\n",
    "\n",
    "For more information see tutorial `3_buttons_with_callback.py`."
   ]
  },
  {
   "cell_type": "code",
   "execution_count": 3,
   "id": "f5c45e19",
   "metadata": {
    "execution": {
     "iopub.execute_input": "2024-04-19T12:50:47.849805Z",
     "iopub.status.busy": "2024-04-19T12:50:47.849464Z",
     "iopub.status.idle": "2024-04-19T12:50:47.856992Z",
     "shell.execute_reply": "2024-04-19T12:50:47.856405Z"
    },
    "lines_to_next_cell": 2
   },
   "outputs": [],
   "source": [
    "script = {\n",
    "    \"greeting_flow\": {\n",
    "        \"start_node\": {\n",
    "            TRANSITIONS: {\n",
    "                \"node1\": telegram_condition(commands=[\"start\", \"restart\"])\n",
    "            },\n",
    "        },\n",
    "        \"node1\": {\n",
    "            RESPONSE: TelegramMessage(text=\"Hi, how are you?\"),\n",
    "            TRANSITIONS: {\n",
    "                \"node2\": telegram_condition(\n",
    "                    update_type=UpdateType.MESSAGE, regexp=\"fine\"\n",
    "                )\n",
    "            },\n",
    "            # this is the same as\n",
    "            # TRANSITIONS: {\"node2\": telegram_condition(regexp=\"fine\")},\n",
    "        },\n",
    "        \"node2\": {\n",
    "            RESPONSE: TelegramMessage(\n",
    "                text=\"Good. What do you want to talk about?\"\n",
    "            ),\n",
    "            TRANSITIONS: {\n",
    "                \"node3\": telegram_condition(\n",
    "                    func=lambda msg: \"music\" in msg.text\n",
    "                )\n",
    "            },\n",
    "        },\n",
    "        \"node3\": {\n",
    "            RESPONSE: TelegramMessage(\n",
    "                text=\"Sorry, I can not talk about music now.\"\n",
    "            ),\n",
    "            TRANSITIONS: {\n",
    "                \"node4\": telegram_condition(update_type=UpdateType.ALL)\n",
    "            },\n",
    "            # This condition is true for any type of update\n",
    "        },\n",
    "        \"node4\": {\n",
    "            RESPONSE: TelegramMessage(text=\"bye\"),\n",
    "            TRANSITIONS: {\"node1\": telegram_condition()},\n",
    "            # This condition is true if the last update is of type `message`\n",
    "        },\n",
    "        \"fallback_node\": {\n",
    "            RESPONSE: TelegramMessage(text=\"Ooops\"),\n",
    "            TRANSITIONS: {\n",
    "                \"node1\": telegram_condition(commands=[\"start\", \"restart\"])\n",
    "            },\n",
    "        },\n",
    "    }\n",
    "}\n",
    "\n",
    "# this variable is only for testing\n",
    "happy_path = (\n",
    "    (TelegramMessage(text=\"/start\"), TelegramMessage(text=\"Hi, how are you?\")),\n",
    "    (\n",
    "        TelegramMessage(text=\"I'm fine\"),\n",
    "        TelegramMessage(text=\"Good. What do you want to talk about?\"),\n",
    "    ),\n",
    "    (\n",
    "        TelegramMessage(text=\"About music\"),\n",
    "        TelegramMessage(text=\"Sorry, I can not talk about music now.\"),\n",
    "    ),\n",
    "    (TelegramMessage(text=\"ok\"), TelegramMessage(text=\"bye\")),\n",
    "    (TelegramMessage(text=\"bye\"), TelegramMessage(text=\"Hi, how are you?\")),\n",
    ")"
   ]
  },
  {
   "cell_type": "code",
   "execution_count": 4,
   "id": "032def23",
   "metadata": {
    "execution": {
     "iopub.execute_input": "2024-04-19T12:50:47.859926Z",
     "iopub.status.busy": "2024-04-19T12:50:47.859376Z",
     "iopub.status.idle": "2024-04-19T12:50:47.862696Z",
     "shell.execute_reply": "2024-04-19T12:50:47.862080Z"
    },
    "lines_to_next_cell": 2
   },
   "outputs": [],
   "source": [
    "interface = PollingTelegramInterface(token=os.environ[\"TG_BOT_TOKEN\"])"
   ]
  },
  {
   "cell_type": "code",
   "execution_count": 5,
   "id": "f68c1366",
   "metadata": {
    "execution": {
     "iopub.execute_input": "2024-04-19T12:50:47.865506Z",
     "iopub.status.busy": "2024-04-19T12:50:47.865132Z",
     "iopub.status.idle": "2024-04-19T12:50:47.869615Z",
     "shell.execute_reply": "2024-04-19T12:50:47.868895Z"
    }
   },
   "outputs": [],
   "source": [
    "pipeline = Pipeline.from_script(\n",
    "    script=script,\n",
    "    start_label=(\"greeting_flow\", \"start_node\"),\n",
    "    fallback_label=(\"greeting_flow\", \"fallback_node\"),\n",
    "    messenger_interface=interface,\n",
    ")\n",
    "\n",
    "\n",
    "def main():\n",
    "    pipeline.run()\n",
    "\n",
    "\n",
    "if __name__ == \"__main__\" and is_interactive_mode():\n",
    "    # prevent run during doc building\n",
    "    main()"
   ]
  }
 ],
 "metadata": {
  "jupytext": {
   "cell_metadata_filter": "-all",
   "main_language": "python",
   "notebook_metadata_filter": "-all",
   "text_representation": {
    "extension": ".py",
    "format_name": "percent"
   }
  },
  "language_info": {
   "codemirror_mode": {
    "name": "ipython",
    "version": 3
   },
   "file_extension": ".py",
   "mimetype": "text/x-python",
   "name": "python",
   "nbconvert_exporter": "python",
   "pygments_lexer": "ipython3",
   "version": "3.9.19"
  }
 },
 "nbformat": 4,
 "nbformat_minor": 5
}
