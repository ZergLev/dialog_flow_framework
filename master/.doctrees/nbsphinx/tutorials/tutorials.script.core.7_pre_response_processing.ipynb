{
 "cells": [
  {
   "cell_type": "markdown",
   "id": "cca92020",
   "metadata": {
    "cell_marker": "\"\"\""
   },
   "source": [
    "# Core: 7. Pre-response processing\n",
    "\n",
    "This tutorial shows pre-response processing feature.\n",
    "\n",
    "Here, [PRE_RESPONSE_PROCESSING](../apiref/dff.script.core.keywords.rst#dff.script.core.keywords.Keywords.PRE_RESPONSE_PROCESSING)\n",
    "is demonstrated which can be used for\n",
    "additional context processing before response handlers.\n",
    "\n",
    "There are also some other [Keywords](../apiref/dff.script.core.keywords.rst#dff.script.core.keywords.Keywords)\n",
    "worth attention used in this tutorial.\n",
    "\n",
    "First of all, let's do all the necessary imports from DFF."
   ]
  },
  {
   "cell_type": "code",
   "execution_count": 1,
   "id": "2243b1af",
   "metadata": {
    "execution": {
     "iopub.execute_input": "2024-05-02T08:52:53.521453Z",
     "iopub.status.busy": "2024-05-02T08:52:53.521214Z",
     "iopub.status.idle": "2024-05-02T08:52:55.770689Z",
     "shell.execute_reply": "2024-05-02T08:52:55.769527Z"
    }
   },
   "outputs": [
    {
     "name": "stdout",
     "output_type": "stream",
     "text": [
      "Note: you may need to restart the kernel to use updated packages.\n"
     ]
    }
   ],
   "source": [
    "# installing dependencies\n",
    "%pip install -q dff"
   ]
  },
  {
   "cell_type": "code",
   "execution_count": 2,
   "id": "8d4b43e2",
   "metadata": {
    "execution": {
     "iopub.execute_input": "2024-05-02T08:52:55.774409Z",
     "iopub.status.busy": "2024-05-02T08:52:55.774118Z",
     "iopub.status.idle": "2024-05-02T08:52:56.498366Z",
     "shell.execute_reply": "2024-05-02T08:52:56.497676Z"
    }
   },
   "outputs": [],
   "source": [
    "from dff.script import (\n",
    "    GLOBAL,\n",
    "    LOCAL,\n",
    "    RESPONSE,\n",
    "    TRANSITIONS,\n",
    "    PRE_RESPONSE_PROCESSING,\n",
    "    Context,\n",
    "    Message,\n",
    ")\n",
    "import dff.script.labels as lbl\n",
    "import dff.script.conditions as cnd\n",
    "\n",
    "from dff.pipeline import Pipeline\n",
    "from dff.utils.testing.common import (\n",
    "    check_happy_path,\n",
    "    is_interactive_mode,\n",
    "    run_interactive_mode,\n",
    ")"
   ]
  },
  {
   "cell_type": "code",
   "execution_count": 3,
   "id": "50835869",
   "metadata": {
    "execution": {
     "iopub.execute_input": "2024-05-02T08:52:56.502189Z",
     "iopub.status.busy": "2024-05-02T08:52:56.501455Z",
     "iopub.status.idle": "2024-05-02T08:52:56.505601Z",
     "shell.execute_reply": "2024-05-02T08:52:56.504885Z"
    }
   },
   "outputs": [],
   "source": [
    "def add_prefix(prefix):\n",
    "    def add_prefix_processing(ctx: Context, _: Pipeline):\n",
    "        processed_node = ctx.current_node\n",
    "        processed_node.response = Message(\n",
    "            text=f\"{prefix}: {processed_node.response.text}\"\n",
    "        )\n",
    "\n",
    "    return add_prefix_processing"
   ]
  },
  {
   "cell_type": "markdown",
   "id": "ee79b7c9",
   "metadata": {
    "cell_marker": "\"\"\"",
    "lines_to_next_cell": 2
   },
   "source": [
    "`PRE_RESPONSE_PROCESSING` is a keyword that\n",
    "can be used in `GLOBAL`, `LOCAL` or nodes."
   ]
  },
  {
   "cell_type": "code",
   "execution_count": 4,
   "id": "2a18aeab",
   "metadata": {
    "execution": {
     "iopub.execute_input": "2024-05-02T08:52:56.508639Z",
     "iopub.status.busy": "2024-05-02T08:52:56.508199Z",
     "iopub.status.idle": "2024-05-02T08:52:56.516138Z",
     "shell.execute_reply": "2024-05-02T08:52:56.515576Z"
    },
    "lines_to_next_cell": 2
   },
   "outputs": [],
   "source": [
    "toy_script = {\n",
    "    \"root\": {\n",
    "        \"start\": {\n",
    "            RESPONSE: Message(),\n",
    "            TRANSITIONS: {(\"flow\", \"step_0\"): cnd.true()},\n",
    "        },\n",
    "        \"fallback\": {RESPONSE: Message(\"the end\")},\n",
    "    },\n",
    "    GLOBAL: {\n",
    "        PRE_RESPONSE_PROCESSING: {\n",
    "            \"proc_name_1\": add_prefix(\"l1_global\"),\n",
    "            \"proc_name_2\": add_prefix(\"l2_global\"),\n",
    "        }\n",
    "    },\n",
    "    \"flow\": {\n",
    "        LOCAL: {\n",
    "            PRE_RESPONSE_PROCESSING: {\n",
    "                \"proc_name_2\": add_prefix(\"l2_local\"),\n",
    "                \"proc_name_3\": add_prefix(\"l3_local\"),\n",
    "            }\n",
    "        },\n",
    "        \"step_0\": {\n",
    "            RESPONSE: Message(\"first\"),\n",
    "            TRANSITIONS: {lbl.forward(): cnd.true()},\n",
    "        },\n",
    "        \"step_1\": {\n",
    "            PRE_RESPONSE_PROCESSING: {\"proc_name_1\": add_prefix(\"l1_step_1\")},\n",
    "            RESPONSE: Message(\"second\"),\n",
    "            TRANSITIONS: {lbl.forward(): cnd.true()},\n",
    "        },\n",
    "        \"step_2\": {\n",
    "            PRE_RESPONSE_PROCESSING: {\"proc_name_2\": add_prefix(\"l2_step_2\")},\n",
    "            RESPONSE: Message(\"third\"),\n",
    "            TRANSITIONS: {lbl.forward(): cnd.true()},\n",
    "        },\n",
    "        \"step_3\": {\n",
    "            PRE_RESPONSE_PROCESSING: {\"proc_name_3\": add_prefix(\"l3_step_3\")},\n",
    "            RESPONSE: Message(\"fourth\"),\n",
    "            TRANSITIONS: {lbl.forward(): cnd.true()},\n",
    "        },\n",
    "        \"step_4\": {\n",
    "            PRE_RESPONSE_PROCESSING: {\"proc_name_4\": add_prefix(\"l4_step_4\")},\n",
    "            RESPONSE: Message(\"fifth\"),\n",
    "            TRANSITIONS: {\"step_0\": cnd.true()},\n",
    "        },\n",
    "    },\n",
    "}\n",
    "\n",
    "\n",
    "# testing\n",
    "happy_path = (\n",
    "    (Message(), Message(\"l3_local: l2_local: l1_global: first\")),\n",
    "    (Message(), Message(\"l3_local: l2_local: l1_step_1: second\")),\n",
    "    (Message(), Message(\"l3_local: l2_step_2: l1_global: third\")),\n",
    "    (Message(), Message(\"l3_step_3: l2_local: l1_global: fourth\")),\n",
    "    (\n",
    "        Message(),\n",
    "        Message(\"l4_step_4: l3_local: l2_local: l1_global: fifth\"),\n",
    "    ),\n",
    "    (Message(), Message(\"l3_local: l2_local: l1_global: first\")),\n",
    ")"
   ]
  },
  {
   "cell_type": "code",
   "execution_count": 5,
   "id": "f5efac55",
   "metadata": {
    "execution": {
     "iopub.execute_input": "2024-05-02T08:52:56.518744Z",
     "iopub.status.busy": "2024-05-02T08:52:56.518349Z",
     "iopub.status.idle": "2024-05-02T08:52:56.534054Z",
     "shell.execute_reply": "2024-05-02T08:52:56.533301Z"
    }
   },
   "outputs": [
    {
     "name": "stdout",
     "output_type": "stream",
     "text": [
      "(user) >>> \n",
      " (bot) <<< text='l3_local: l2_local: l1_global: first'\n",
      "(user) >>> \n",
      " (bot) <<< text='l3_local: l2_local: l1_step_1: second'\n",
      "(user) >>> \n",
      " (bot) <<< text='l3_local: l2_step_2: l1_global: third'\n",
      "(user) >>> \n",
      " (bot) <<< text='l3_step_3: l2_local: l1_global: fourth'\n",
      "(user) >>> \n",
      " (bot) <<< text='l4_step_4: l3_local: l2_local: l1_global: fifth'\n",
      "(user) >>> \n",
      " (bot) <<< text='l3_local: l2_local: l1_global: first'\n"
     ]
    }
   ],
   "source": [
    "pipeline = Pipeline.from_script(\n",
    "    toy_script,\n",
    "    start_label=(\"root\", \"start\"),\n",
    "    fallback_label=(\"root\", \"fallback\"),\n",
    ")\n",
    "\n",
    "if __name__ == \"__main__\":\n",
    "    check_happy_path(pipeline, happy_path)\n",
    "    if is_interactive_mode():\n",
    "        run_interactive_mode(pipeline)"
   ]
  }
 ],
 "metadata": {
  "jupytext": {
   "cell_metadata_filter": "-all",
   "main_language": "python",
   "notebook_metadata_filter": "-all",
   "text_representation": {
    "extension": ".py",
    "format_name": "percent"
   }
  },
  "language_info": {
   "codemirror_mode": {
    "name": "ipython",
    "version": 3
   },
   "file_extension": ".py",
   "mimetype": "text/x-python",
   "name": "python",
   "nbconvert_exporter": "python",
   "pygments_lexer": "ipython3",
   "version": "3.9.19"
  }
 },
 "nbformat": 4,
 "nbformat_minor": 5
}
