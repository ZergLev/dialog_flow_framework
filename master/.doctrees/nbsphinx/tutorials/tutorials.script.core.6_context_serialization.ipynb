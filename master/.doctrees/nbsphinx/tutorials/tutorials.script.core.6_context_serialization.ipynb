{
 "cells": [
  {
   "cell_type": "markdown",
   "id": "07fa2552",
   "metadata": {
    "cell_marker": "\"\"\""
   },
   "source": [
    "# Core: 6. Context serialization\n",
    "\n",
    "This tutorial shows context serialization.\n",
    "First of all, let's do all the necessary imports from DFF."
   ]
  },
  {
   "cell_type": "code",
   "execution_count": 1,
   "id": "856326cc",
   "metadata": {
    "execution": {
     "iopub.execute_input": "2024-04-18T14:45:07.443799Z",
     "iopub.status.busy": "2024-04-18T14:45:07.443194Z",
     "iopub.status.idle": "2024-04-18T14:45:09.684453Z",
     "shell.execute_reply": "2024-04-18T14:45:09.683625Z"
    }
   },
   "outputs": [
    {
     "name": "stdout",
     "output_type": "stream",
     "text": [
      "Note: you may need to restart the kernel to use updated packages.\n"
     ]
    }
   ],
   "source": [
    "# installing dependencies\n",
    "%pip install -q dff"
   ]
  },
  {
   "cell_type": "code",
   "execution_count": 2,
   "id": "d74079a1",
   "metadata": {
    "execution": {
     "iopub.execute_input": "2024-04-18T14:45:09.687721Z",
     "iopub.status.busy": "2024-04-18T14:45:09.687276Z",
     "iopub.status.idle": "2024-04-18T14:45:10.370108Z",
     "shell.execute_reply": "2024-04-18T14:45:10.369458Z"
    },
    "lines_to_next_cell": 2
   },
   "outputs": [],
   "source": [
    "import logging\n",
    "\n",
    "from dff.script import TRANSITIONS, RESPONSE, Context, Message\n",
    "import dff.script.conditions as cnd\n",
    "\n",
    "from dff.pipeline import Pipeline\n",
    "from dff.utils.testing.common import (\n",
    "    check_happy_path,\n",
    "    is_interactive_mode,\n",
    "    run_interactive_mode,\n",
    ")"
   ]
  },
  {
   "cell_type": "markdown",
   "id": "995a23f2",
   "metadata": {
    "cell_marker": "\"\"\""
   },
   "source": [
    "This function returns the user request number."
   ]
  },
  {
   "cell_type": "code",
   "execution_count": 3,
   "id": "f977bc93",
   "metadata": {
    "execution": {
     "iopub.execute_input": "2024-04-18T14:45:10.373968Z",
     "iopub.status.busy": "2024-04-18T14:45:10.373340Z",
     "iopub.status.idle": "2024-04-18T14:45:10.376958Z",
     "shell.execute_reply": "2024-04-18T14:45:10.376327Z"
    }
   },
   "outputs": [],
   "source": [
    "def response_handler(ctx: Context, _: Pipeline) -> Message:\n",
    "    return Message(f\"answer {len(ctx.requests)}\")"
   ]
  },
  {
   "cell_type": "code",
   "execution_count": 4,
   "id": "bf7c94e2",
   "metadata": {
    "execution": {
     "iopub.execute_input": "2024-04-18T14:45:10.379633Z",
     "iopub.status.busy": "2024-04-18T14:45:10.379238Z",
     "iopub.status.idle": "2024-04-18T14:45:10.383561Z",
     "shell.execute_reply": "2024-04-18T14:45:10.382922Z"
    }
   },
   "outputs": [],
   "source": [
    "# a dialog script\n",
    "toy_script = {\n",
    "    \"flow_start\": {\n",
    "        \"node_start\": {\n",
    "            RESPONSE: response_handler,\n",
    "            TRANSITIONS: {(\"flow_start\", \"node_start\"): cnd.true()},\n",
    "        }\n",
    "    }\n",
    "}\n",
    "\n",
    "# testing\n",
    "happy_path = (\n",
    "    (Message(\"hi\"), Message(\"answer 1\")),\n",
    "    (Message(\"how are you?\"), Message(\"answer 2\")),\n",
    "    (Message(\"ok\"), Message(\"answer 3\")),\n",
    "    (Message(\"good\"), Message(\"answer 4\")),\n",
    ")"
   ]
  },
  {
   "cell_type": "markdown",
   "id": "98eb0a8b",
   "metadata": {
    "cell_marker": "\"\"\""
   },
   "source": [
    "Draft function that performs serialization."
   ]
  },
  {
   "cell_type": "code",
   "execution_count": 5,
   "id": "0f2357a6",
   "metadata": {
    "execution": {
     "iopub.execute_input": "2024-04-18T14:45:10.386110Z",
     "iopub.status.busy": "2024-04-18T14:45:10.385796Z",
     "iopub.status.idle": "2024-04-18T14:45:10.390281Z",
     "shell.execute_reply": "2024-04-18T14:45:10.389548Z"
    }
   },
   "outputs": [],
   "source": [
    "def process_response(ctx: Context):\n",
    "    ctx_json = ctx.model_dump_json()\n",
    "    if isinstance(ctx_json, str):\n",
    "        logging.info(\"context serialized to json str\")\n",
    "    else:\n",
    "        raise Exception(f\"ctx={ctx_json} has to be serialized to json string\")\n",
    "\n",
    "    ctx_dict = ctx.model_dump()\n",
    "    if isinstance(ctx_dict, dict):\n",
    "        logging.info(\"context serialized to dict\")\n",
    "    else:\n",
    "        raise Exception(f\"ctx={ctx_dict} has to be serialized to dict\")\n",
    "\n",
    "    if not isinstance(ctx, Context):\n",
    "        raise Exception(f\"ctx={ctx} has to have Context type\")"
   ]
  },
  {
   "cell_type": "code",
   "execution_count": 6,
   "id": "c4b03049",
   "metadata": {
    "execution": {
     "iopub.execute_input": "2024-04-18T14:45:10.393130Z",
     "iopub.status.busy": "2024-04-18T14:45:10.392746Z",
     "iopub.status.idle": "2024-04-18T14:45:10.412595Z",
     "shell.execute_reply": "2024-04-18T14:45:10.411847Z"
    }
   },
   "outputs": [
    {
     "name": "stderr",
     "output_type": "stream",
     "text": [
      "Service 'process_response_0' execution failed!\n",
      "Traceback (most recent call last):\n",
      "  File \"/tmp/tmp0ex9ulky/dff/pipeline/service/service.py\", line 151, in _run_as_service\n",
      "    await self._run_handler(ctx, pipeline)\n",
      "  File \"/tmp/tmp0ex9ulky/dff/pipeline/service/service.py\", line 118, in _run_handler\n",
      "    await wrap_sync_function_in_async(self.handler, ctx)\n",
      "  File \"/tmp/tmp0ex9ulky/dff/pipeline/service/utils.py\", line 25, in wrap_sync_function_in_async\n",
      "    return func(*args, **kwargs)\n",
      "  File \"/tmp/ipykernel_15505/4050068440.py\", line 2, in process_response\n",
      "    ctx_json = ctx.model_dump_json()\n",
      "  File \"/tmp/tmp0ex9ulky/.venv/dff-g2VHMvEp-py3.9/lib/python3.9/site-packages/pydantic/main.py\", line 358, in model_dump_json\n",
      "    return self.__pydantic_serializer__.to_json(\n",
      "pydantic_core._pydantic_core.PydanticSerializationError: Unable to serialize unknown type: <class 'function'>\n"
     ]
    },
    {
     "name": "stderr",
     "output_type": "stream",
     "text": [
      "Service 'process_response_0' execution failed!\n",
      "Traceback (most recent call last):\n",
      "  File \"/tmp/tmp0ex9ulky/dff/pipeline/service/service.py\", line 151, in _run_as_service\n",
      "    await self._run_handler(ctx, pipeline)\n",
      "  File \"/tmp/tmp0ex9ulky/dff/pipeline/service/service.py\", line 118, in _run_handler\n",
      "    await wrap_sync_function_in_async(self.handler, ctx)\n",
      "  File \"/tmp/tmp0ex9ulky/dff/pipeline/service/utils.py\", line 25, in wrap_sync_function_in_async\n",
      "    return func(*args, **kwargs)\n",
      "  File \"/tmp/ipykernel_15505/4050068440.py\", line 2, in process_response\n",
      "    ctx_json = ctx.model_dump_json()\n",
      "  File \"/tmp/tmp0ex9ulky/.venv/dff-g2VHMvEp-py3.9/lib/python3.9/site-packages/pydantic/main.py\", line 358, in model_dump_json\n",
      "    return self.__pydantic_serializer__.to_json(\n",
      "pydantic_core._pydantic_core.PydanticSerializationError: Unable to serialize unknown type: <class 'function'>\n"
     ]
    },
    {
     "name": "stderr",
     "output_type": "stream",
     "text": [
      "Service 'process_response_0' execution failed!\n",
      "Traceback (most recent call last):\n",
      "  File \"/tmp/tmp0ex9ulky/dff/pipeline/service/service.py\", line 151, in _run_as_service\n",
      "    await self._run_handler(ctx, pipeline)\n",
      "  File \"/tmp/tmp0ex9ulky/dff/pipeline/service/service.py\", line 118, in _run_handler\n",
      "    await wrap_sync_function_in_async(self.handler, ctx)\n",
      "  File \"/tmp/tmp0ex9ulky/dff/pipeline/service/utils.py\", line 25, in wrap_sync_function_in_async\n",
      "    return func(*args, **kwargs)\n",
      "  File \"/tmp/ipykernel_15505/4050068440.py\", line 2, in process_response\n",
      "    ctx_json = ctx.model_dump_json()\n",
      "  File \"/tmp/tmp0ex9ulky/.venv/dff-g2VHMvEp-py3.9/lib/python3.9/site-packages/pydantic/main.py\", line 358, in model_dump_json\n",
      "    return self.__pydantic_serializer__.to_json(\n",
      "pydantic_core._pydantic_core.PydanticSerializationError: Unable to serialize unknown type: <class 'function'>\n"
     ]
    },
    {
     "name": "stderr",
     "output_type": "stream",
     "text": [
      "Service 'process_response_0' execution failed!\n",
      "Traceback (most recent call last):\n",
      "  File \"/tmp/tmp0ex9ulky/dff/pipeline/service/service.py\", line 151, in _run_as_service\n",
      "    await self._run_handler(ctx, pipeline)\n",
      "  File \"/tmp/tmp0ex9ulky/dff/pipeline/service/service.py\", line 118, in _run_handler\n",
      "    await wrap_sync_function_in_async(self.handler, ctx)\n",
      "  File \"/tmp/tmp0ex9ulky/dff/pipeline/service/utils.py\", line 25, in wrap_sync_function_in_async\n",
      "    return func(*args, **kwargs)\n",
      "  File \"/tmp/ipykernel_15505/4050068440.py\", line 2, in process_response\n",
      "    ctx_json = ctx.model_dump_json()\n",
      "  File \"/tmp/tmp0ex9ulky/.venv/dff-g2VHMvEp-py3.9/lib/python3.9/site-packages/pydantic/main.py\", line 358, in model_dump_json\n",
      "    return self.__pydantic_serializer__.to_json(\n",
      "pydantic_core._pydantic_core.PydanticSerializationError: Unable to serialize unknown type: <class 'function'>\n"
     ]
    },
    {
     "name": "stdout",
     "output_type": "stream",
     "text": [
      "(user) >>> text='hi'\n",
      " (bot) <<< text='answer 1'\n",
      "(user) >>> text='how are you?'\n",
      " (bot) <<< text='answer 2'\n",
      "(user) >>> text='ok'\n",
      " (bot) <<< text='answer 3'\n",
      "(user) >>> text='good'\n",
      " (bot) <<< text='answer 4'\n"
     ]
    }
   ],
   "source": [
    "pipeline = Pipeline.from_script(\n",
    "    toy_script,\n",
    "    start_label=(\"flow_start\", \"node_start\"),\n",
    "    post_services=[process_response],\n",
    ")\n",
    "\n",
    "if __name__ == \"__main__\":\n",
    "    check_happy_path(pipeline, happy_path)\n",
    "    if is_interactive_mode():\n",
    "        run_interactive_mode(pipeline)"
   ]
  }
 ],
 "metadata": {
  "jupytext": {
   "cell_metadata_filter": "-all",
   "main_language": "python",
   "notebook_metadata_filter": "-all",
   "text_representation": {
    "extension": ".py",
    "format_name": "percent"
   }
  },
  "language_info": {
   "codemirror_mode": {
    "name": "ipython",
    "version": 3
   },
   "file_extension": ".py",
   "mimetype": "text/x-python",
   "name": "python",
   "nbconvert_exporter": "python",
   "pygments_lexer": "ipython3",
   "version": "3.9.19"
  }
 },
 "nbformat": 4,
 "nbformat_minor": 5
}
