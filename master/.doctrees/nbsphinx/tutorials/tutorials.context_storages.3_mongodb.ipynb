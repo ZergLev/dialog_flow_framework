{
 "cells": [
  {
   "cell_type": "markdown",
   "id": "a44007c0",
   "metadata": {
    "cell_marker": "\"\"\""
   },
   "source": [
    "# 3. MongoDB\n",
    "\n",
    "This is a tutorial on using MongoDB.\n",
    "\n",
    "See [MongoContextStorage](../apiref/dff.context_storages.mongo.rst#dff.context_storages.mongo.MongoContextStorage) class\n",
    "for storing you users' contexts in Mongo database.\n",
    "\n",
    "DFF uses [motor](https://motor.readthedocs.io/en/stable/)\n",
    "library for asynchronous access to MongoDB."
   ]
  },
  {
   "cell_type": "code",
   "execution_count": 1,
   "id": "675e0741",
   "metadata": {
    "execution": {
     "iopub.execute_input": "2024-04-25T15:13:11.875047Z",
     "iopub.status.busy": "2024-04-25T15:13:11.874536Z",
     "iopub.status.idle": "2024-04-25T15:13:14.145774Z",
     "shell.execute_reply": "2024-04-25T15:13:14.144964Z"
    }
   },
   "outputs": [
    {
     "name": "stdout",
     "output_type": "stream",
     "text": [
      "Note: you may need to restart the kernel to use updated packages.\n"
     ]
    }
   ],
   "source": [
    "# installing dependencies\n",
    "%pip install -q dff[mongodb]"
   ]
  },
  {
   "cell_type": "code",
   "execution_count": 2,
   "id": "85ab912f",
   "metadata": {
    "execution": {
     "iopub.execute_input": "2024-04-25T15:13:14.149013Z",
     "iopub.status.busy": "2024-04-25T15:13:14.148509Z",
     "iopub.status.idle": "2024-04-25T15:13:14.821818Z",
     "shell.execute_reply": "2024-04-25T15:13:14.821064Z"
    },
    "lines_to_next_cell": 2
   },
   "outputs": [],
   "source": [
    "import os\n",
    "\n",
    "from dff.context_storages import context_storage_factory\n",
    "\n",
    "from dff.pipeline import Pipeline\n",
    "from dff.utils.testing.common import (\n",
    "    check_happy_path,\n",
    "    is_interactive_mode,\n",
    "    run_interactive_mode,\n",
    ")\n",
    "from dff.utils.testing.toy_script import TOY_SCRIPT_ARGS, HAPPY_PATH"
   ]
  },
  {
   "cell_type": "code",
   "execution_count": 3,
   "id": "b83143d4",
   "metadata": {
    "execution": {
     "iopub.execute_input": "2024-04-25T15:13:14.825393Z",
     "iopub.status.busy": "2024-04-25T15:13:14.824707Z",
     "iopub.status.idle": "2024-04-25T15:13:14.887155Z",
     "shell.execute_reply": "2024-04-25T15:13:14.886462Z"
    },
    "lines_to_next_cell": 2
   },
   "outputs": [],
   "source": [
    "db_uri = \"mongodb://{}:{}@localhost:27017/{}\".format(\n",
    "    os.environ[\"MONGO_INITDB_ROOT_USERNAME\"],\n",
    "    os.environ[\"MONGO_INITDB_ROOT_PASSWORD\"],\n",
    "    os.environ[\"MONGO_INITDB_ROOT_USERNAME\"],\n",
    ")\n",
    "db = context_storage_factory(db_uri)\n",
    "\n",
    "pipeline = Pipeline.from_script(*TOY_SCRIPT_ARGS, context_storage=db)"
   ]
  },
  {
   "cell_type": "code",
   "execution_count": 4,
   "id": "dc20ebe1",
   "metadata": {
    "execution": {
     "iopub.execute_input": "2024-04-25T15:13:14.890462Z",
     "iopub.status.busy": "2024-04-25T15:13:14.890003Z",
     "iopub.status.idle": "2024-04-25T15:13:14.928691Z",
     "shell.execute_reply": "2024-04-25T15:13:14.928009Z"
    }
   },
   "outputs": [
    {
     "name": "stdout",
     "output_type": "stream",
     "text": [
      "(user) >>> text='Hi'\n",
      " (bot) <<< text='Hi, how are you?'\n",
      "(user) >>> text='i'm fine, how are you?'\n",
      " (bot) <<< text='Good. What do you want to talk about?'\n",
      "(user) >>> text='Let's talk about music.'\n",
      " (bot) <<< text='Sorry, I can not talk about music now.'\n",
      "(user) >>> text='Ok, goodbye.'\n",
      " (bot) <<< text='bye'\n",
      "(user) >>> text='Hi'\n",
      " (bot) <<< text='Hi, how are you?'\n"
     ]
    }
   ],
   "source": [
    "if __name__ == \"__main__\":\n",
    "    check_happy_path(pipeline, HAPPY_PATH)\n",
    "    if is_interactive_mode():\n",
    "        run_interactive_mode(pipeline)"
   ]
  }
 ],
 "metadata": {
  "jupytext": {
   "cell_metadata_filter": "-all",
   "main_language": "python",
   "notebook_metadata_filter": "-all",
   "text_representation": {
    "extension": ".py",
    "format_name": "percent"
   }
  },
  "language_info": {
   "codemirror_mode": {
    "name": "ipython",
    "version": 3
   },
   "file_extension": ".py",
   "mimetype": "text/x-python",
   "name": "python",
   "nbconvert_exporter": "python",
   "pygments_lexer": "ipython3",
   "version": "3.9.19"
  }
 },
 "nbformat": 4,
 "nbformat_minor": 5
}
