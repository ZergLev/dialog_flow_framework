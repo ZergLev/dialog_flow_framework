{
 "cells": [
  {
   "cell_type": "markdown",
   "id": "28c88830",
   "metadata": {
    "cell_marker": "\"\"\"",
    "lines_to_next_cell": 2
   },
   "source": [
    "# Telegram: 3. Buttons with Callback\n",
    "\n",
    "This tutorial demonstrates, how to add an inline keyboard and utilize\n",
    "inline queries.\n",
    "\n",
    "Here, [TelegramMessage](../apiref/dff.messengers.telegram.message.rst#dff.messengers.telegram.message.TelegramMessage)\n",
    "class is used to represent telegram message,\n",
    "[TelegramUI](../apiref/dff.messengers.telegram.message.rst#dff.messengers.telegram.message.TelegramUI) and\n",
    "[RemoveKeyboard](../apiref/dff.messengers.telegram.message.rst#dff.messengers.telegram.message.RemoveKeyboard)\n",
    "classes are used for configuring additional telegram message features.\n",
    "\n",
    "Different [message](../apiref/dff.script.core.message.rst#dff.script.core.message.message)\n",
    "classes are used for representing different common message features,\n",
    "like Attachment, Audio, Button, Image, etc."
   ]
  },
  {
   "cell_type": "code",
   "execution_count": 1,
   "id": "45d0a23b",
   "metadata": {
    "execution": {
     "iopub.execute_input": "2024-04-18T11:41:15.004650Z",
     "iopub.status.busy": "2024-04-18T11:41:15.004335Z",
     "iopub.status.idle": "2024-04-18T11:41:17.285090Z",
     "shell.execute_reply": "2024-04-18T11:41:17.284178Z"
    }
   },
   "outputs": [
    {
     "name": "stdout",
     "output_type": "stream",
     "text": [
      "Note: you may need to restart the kernel to use updated packages.\n"
     ]
    }
   ],
   "source": [
    "# installing dependencies\n",
    "%pip install -q dff[telegram]"
   ]
  },
  {
   "cell_type": "code",
   "execution_count": 2,
   "id": "4ab87cd1",
   "metadata": {
    "execution": {
     "iopub.execute_input": "2024-04-18T11:41:17.289629Z",
     "iopub.status.busy": "2024-04-18T11:41:17.288557Z",
     "iopub.status.idle": "2024-04-18T11:41:18.160209Z",
     "shell.execute_reply": "2024-04-18T11:41:18.159363Z"
    },
    "lines_to_next_cell": 2
   },
   "outputs": [],
   "source": [
    "import os\n",
    "\n",
    "import dff.script.conditions as cnd\n",
    "from dff.script import TRANSITIONS, RESPONSE\n",
    "from dff.pipeline import Pipeline\n",
    "from dff.script.core.message import Button\n",
    "from dff.messengers.telegram import (\n",
    "    PollingTelegramInterface,\n",
    "    TelegramUI,\n",
    "    TelegramMessage,\n",
    ")\n",
    "from dff.messengers.telegram.message import _ClickButton\n",
    "from dff.utils.testing.common import is_interactive_mode"
   ]
  },
  {
   "cell_type": "markdown",
   "id": "9d073bfa",
   "metadata": {
    "cell_marker": "\"\"\"",
    "lines_to_next_cell": 2
   },
   "source": [
    "If you want to send an inline keyboard to your Telegram chat,\n",
    "set `is_inline` field of the `TelegramUI` instance to `True`\n",
    "(note that it is inline by default, so you could also omit it).\n",
    "\n",
    "Pushing a button of an inline keyboard results in a callback\n",
    "query being sent to your bot. The data of the query\n",
    "is stored in the `callback_query` field of a user `TelegramMessage`."
   ]
  },
  {
   "cell_type": "code",
   "execution_count": 3,
   "id": "b65d3c23",
   "metadata": {
    "execution": {
     "iopub.execute_input": "2024-04-18T11:41:18.164062Z",
     "iopub.status.busy": "2024-04-18T11:41:18.163503Z",
     "iopub.status.idle": "2024-04-18T11:41:18.175129Z",
     "shell.execute_reply": "2024-04-18T11:41:18.174371Z"
    },
    "lines_to_next_cell": 2
   },
   "outputs": [],
   "source": [
    "script = {\n",
    "    \"root\": {\n",
    "        \"start\": {\n",
    "            TRANSITIONS: {\n",
    "                (\"general\", \"keyboard\"): (\n",
    "                    lambda ctx, _: ctx.last_request.text\n",
    "                    in (\"/start\", \"/restart\")\n",
    "                ),\n",
    "            },\n",
    "        },\n",
    "        \"fallback\": {\n",
    "            RESPONSE: TelegramMessage(\n",
    "                text=\"Finishing test, send /restart command to restart\"\n",
    "            ),\n",
    "            TRANSITIONS: {\n",
    "                (\"general\", \"keyboard\"): (\n",
    "                    lambda ctx, _: ctx.last_request.text\n",
    "                    in (\"/start\", \"/restart\")\n",
    "                )\n",
    "            },\n",
    "        },\n",
    "    },\n",
    "    \"general\": {\n",
    "        \"keyboard\": {\n",
    "            RESPONSE: TelegramMessage(\n",
    "                **{\n",
    "                    \"text\": \"Starting test! What's 9 + 10?\",\n",
    "                    \"ui\": TelegramUI(\n",
    "                        buttons=[\n",
    "                            Button(text=\"19\", payload=\"correct\"),\n",
    "                            Button(text=\"21\", payload=\"wrong\"),\n",
    "                        ],\n",
    "                        is_inline=True,\n",
    "                    ),\n",
    "                }\n",
    "            ),\n",
    "            TRANSITIONS: {\n",
    "                (\"general\", \"success\"): cnd.exact_match(\n",
    "                    TelegramMessage(callback_query=\"correct\")\n",
    "                ),\n",
    "                (\"general\", \"fail\"): cnd.exact_match(\n",
    "                    TelegramMessage(callback_query=\"wrong\")\n",
    "                ),\n",
    "            },\n",
    "        },\n",
    "        \"success\": {\n",
    "            RESPONSE: TelegramMessage(text=\"Success!\"),\n",
    "            TRANSITIONS: {(\"root\", \"fallback\"): cnd.true()},\n",
    "        },\n",
    "        \"fail\": {\n",
    "            RESPONSE: TelegramMessage(\n",
    "                text=\"Incorrect answer, type anything to try again\"\n",
    "            ),\n",
    "            TRANSITIONS: {(\"general\", \"keyboard\"): cnd.true()},\n",
    "        },\n",
    "    },\n",
    "}\n",
    "\n",
    "# this variable is only for testing\n",
    "happy_path = (\n",
    "    (\n",
    "        TelegramMessage(text=\"/start\"),\n",
    "        TelegramMessage(\n",
    "            text=\"Starting test! What's 9 + 10?\",\n",
    "            ui=TelegramUI(\n",
    "                buttons=[\n",
    "                    Button(text=\"19\", payload=\"correct\"),\n",
    "                    Button(text=\"21\", payload=\"wrong\"),\n",
    "                ],\n",
    "            ),\n",
    "        ),\n",
    "    ),\n",
    "    (\n",
    "        TelegramMessage(callback_query=_ClickButton(button_index=1)),\n",
    "        TelegramMessage(text=\"Incorrect answer, type anything to try again\"),\n",
    "    ),\n",
    "    (\n",
    "        TelegramMessage(text=\"try again\"),\n",
    "        TelegramMessage(\n",
    "            text=\"Starting test! What's 9 + 10?\",\n",
    "            ui=TelegramUI(\n",
    "                buttons=[\n",
    "                    Button(text=\"19\", payload=\"correct\"),\n",
    "                    Button(text=\"21\", payload=\"wrong\"),\n",
    "                ],\n",
    "            ),\n",
    "        ),\n",
    "    ),\n",
    "    (\n",
    "        TelegramMessage(callback_query=_ClickButton(button_index=0)),\n",
    "        TelegramMessage(text=\"Success!\"),\n",
    "    ),\n",
    "    (\n",
    "        TelegramMessage(text=\"Yay!\"),\n",
    "        TelegramMessage(\n",
    "            text=\"Finishing test, send /restart command to restart\"\n",
    "        ),\n",
    "    ),\n",
    "    (\n",
    "        TelegramMessage(text=\"/restart\"),\n",
    "        TelegramMessage(\n",
    "            text=\"Starting test! What's 9 + 10?\",\n",
    "            ui=TelegramUI(\n",
    "                buttons=[\n",
    "                    Button(text=\"19\", payload=\"correct\"),\n",
    "                    Button(text=\"21\", payload=\"wrong\"),\n",
    "                ],\n",
    "            ),\n",
    "        ),\n",
    "    ),\n",
    ")\n",
    "\n",
    "interface = PollingTelegramInterface(token=os.environ[\"TG_BOT_TOKEN\"])"
   ]
  },
  {
   "cell_type": "code",
   "execution_count": 4,
   "id": "251ec88a",
   "metadata": {
    "execution": {
     "iopub.execute_input": "2024-04-18T11:41:18.178010Z",
     "iopub.status.busy": "2024-04-18T11:41:18.177593Z",
     "iopub.status.idle": "2024-04-18T11:41:18.182120Z",
     "shell.execute_reply": "2024-04-18T11:41:18.181404Z"
    }
   },
   "outputs": [],
   "source": [
    "pipeline = Pipeline.from_script(\n",
    "    script=script,\n",
    "    start_label=(\"root\", \"start\"),\n",
    "    fallback_label=(\"root\", \"fallback\"),\n",
    "    messenger_interface=interface,\n",
    ")\n",
    "\n",
    "\n",
    "def main():\n",
    "    pipeline.run()\n",
    "\n",
    "\n",
    "if __name__ == \"__main__\" and is_interactive_mode():\n",
    "    # prevent run during doc building\n",
    "    main()"
   ]
  }
 ],
 "metadata": {
  "jupytext": {
   "cell_metadata_filter": "-all",
   "main_language": "python",
   "notebook_metadata_filter": "-all",
   "text_representation": {
    "extension": ".py",
    "format_name": "percent"
   }
  },
  "language_info": {
   "codemirror_mode": {
    "name": "ipython",
    "version": 3
   },
   "file_extension": ".py",
   "mimetype": "text/x-python",
   "name": "python",
   "nbconvert_exporter": "python",
   "pygments_lexer": "ipython3",
   "version": "3.9.19"
  }
 },
 "nbformat": 4,
 "nbformat_minor": 5
}
