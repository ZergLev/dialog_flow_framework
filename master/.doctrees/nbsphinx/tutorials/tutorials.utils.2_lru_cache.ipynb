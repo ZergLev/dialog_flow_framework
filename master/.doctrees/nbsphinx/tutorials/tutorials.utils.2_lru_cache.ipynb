{
 "cells": [
  {
   "cell_type": "markdown",
   "id": "e7e89074",
   "metadata": {
    "cell_marker": "\"\"\""
   },
   "source": [
    "# 2. LRU Cache\n",
    "\n",
    "In this tutorial use of\n",
    "[lru_cache](../apiref/dff.utils.turn_caching.singleton_turn_caching.rst#dff.utils.turn_caching.singleton_turn_caching.lru_cache)\n",
    "function is demonstrated.\n",
    "\n",
    "This function is used a lot like `functools.lru_cache` function and\n",
    "helps by saving results of heavy function execution and avoiding recalculation.\n",
    "\n",
    "Caches are kept in a library-wide singleton\n",
    "and are cleared at the end of each turn.\n",
    "\n",
    "Maximum size parameter limits the amount of function execution results cached."
   ]
  },
  {
   "cell_type": "code",
   "execution_count": 1,
   "id": "d0748a28",
   "metadata": {
    "execution": {
     "iopub.execute_input": "2024-04-18T14:45:58.346515Z",
     "iopub.status.busy": "2024-04-18T14:45:58.345834Z",
     "iopub.status.idle": "2024-04-18T14:46:00.517783Z",
     "shell.execute_reply": "2024-04-18T14:46:00.516974Z"
    }
   },
   "outputs": [
    {
     "name": "stdout",
     "output_type": "stream",
     "text": [
      "Note: you may need to restart the kernel to use updated packages.\n"
     ]
    }
   ],
   "source": [
    "# installing dependencies\n",
    "%pip install -q dff"
   ]
  },
  {
   "cell_type": "code",
   "execution_count": 2,
   "id": "721c9cb7",
   "metadata": {
    "execution": {
     "iopub.execute_input": "2024-04-18T14:46:00.521034Z",
     "iopub.status.busy": "2024-04-18T14:46:00.520561Z",
     "iopub.status.idle": "2024-04-18T14:46:01.193859Z",
     "shell.execute_reply": "2024-04-18T14:46:01.193184Z"
    }
   },
   "outputs": [],
   "source": [
    "from dff.script.conditions import true\n",
    "from dff.script import Context, TRANSITIONS, RESPONSE, Message\n",
    "from dff.script.labels import repeat\n",
    "from dff.pipeline import Pipeline\n",
    "from dff.utils.turn_caching import lru_cache\n",
    "from dff.utils.testing.common import (\n",
    "    check_happy_path,\n",
    "    is_interactive_mode,\n",
    "    run_interactive_mode,\n",
    ")\n",
    "\n",
    "external_data = {\"counter\": 0}"
   ]
  },
  {
   "cell_type": "code",
   "execution_count": 3,
   "id": "52773697",
   "metadata": {
    "execution": {
     "iopub.execute_input": "2024-04-18T14:46:01.197180Z",
     "iopub.status.busy": "2024-04-18T14:46:01.196634Z",
     "iopub.status.idle": "2024-04-18T14:46:01.201775Z",
     "shell.execute_reply": "2024-04-18T14:46:01.201182Z"
    }
   },
   "outputs": [],
   "source": [
    "@lru_cache(maxsize=2)\n",
    "def cached_response(_):\n",
    "    \"\"\"\n",
    "    This function will work exactly the same as the one from previous\n",
    "    tutorial with only one exception.\n",
    "    Only 2 results will be stored;\n",
    "    when the function will be executed with third arguments set,\n",
    "    the least recent result will be deleted.\n",
    "    \"\"\"\n",
    "    external_data[\"counter\"] += 1\n",
    "    return external_data[\"counter\"]\n",
    "\n",
    "\n",
    "def response(ctx: Context, _, *__, **___) -> Message:\n",
    "    if ctx.validation:\n",
    "        return Message()\n",
    "    return Message(\n",
    "        text=f\"{cached_response(1)}-{cached_response(2)}-{cached_response(3)}-\"\n",
    "        f\"{cached_response(2)}-{cached_response(1)}\"\n",
    "    )"
   ]
  },
  {
   "cell_type": "code",
   "execution_count": 4,
   "id": "97c34043",
   "metadata": {
    "execution": {
     "iopub.execute_input": "2024-04-18T14:46:01.204389Z",
     "iopub.status.busy": "2024-04-18T14:46:01.203987Z",
     "iopub.status.idle": "2024-04-18T14:46:01.208511Z",
     "shell.execute_reply": "2024-04-18T14:46:01.207931Z"
    }
   },
   "outputs": [],
   "source": [
    "toy_script = {\n",
    "    \"flow\": {\"node1\": {TRANSITIONS: {repeat(): true()}, RESPONSE: response}}\n",
    "}\n",
    "\n",
    "happy_path = (\n",
    "    (Message(), Message(\"1-2-3-2-4\")),\n",
    "    (Message(), Message(\"5-6-7-6-8\")),\n",
    "    (Message(), Message(\"9-10-11-10-12\")),\n",
    ")\n",
    "\n",
    "pipeline = Pipeline.from_script(toy_script, start_label=(\"flow\", \"node1\"))"
   ]
  },
  {
   "cell_type": "code",
   "execution_count": 5,
   "id": "2f55c479",
   "metadata": {
    "execution": {
     "iopub.execute_input": "2024-04-18T14:46:01.211314Z",
     "iopub.status.busy": "2024-04-18T14:46:01.210887Z",
     "iopub.status.idle": "2024-04-18T14:46:01.221825Z",
     "shell.execute_reply": "2024-04-18T14:46:01.221141Z"
    }
   },
   "outputs": [
    {
     "name": "stdout",
     "output_type": "stream",
     "text": [
      "(user) >>> \n",
      " (bot) <<< text='1-2-3-2-4'\n",
      "(user) >>> \n",
      " (bot) <<< text='5-6-7-6-8'\n",
      "(user) >>> \n",
      " (bot) <<< text='9-10-11-10-12'\n"
     ]
    }
   ],
   "source": [
    "if __name__ == \"__main__\":\n",
    "    check_happy_path(pipeline, happy_path)\n",
    "    if is_interactive_mode():\n",
    "        run_interactive_mode(pipeline)"
   ]
  }
 ],
 "metadata": {
  "jupytext": {
   "cell_metadata_filter": "-all",
   "main_language": "python",
   "notebook_metadata_filter": "-all",
   "text_representation": {
    "extension": ".py",
    "format_name": "percent"
   }
  },
  "language_info": {
   "codemirror_mode": {
    "name": "ipython",
    "version": 3
   },
   "file_extension": ".py",
   "mimetype": "text/x-python",
   "name": "python",
   "nbconvert_exporter": "python",
   "pygments_lexer": "ipython3",
   "version": "3.9.19"
  }
 },
 "nbformat": 4,
 "nbformat_minor": 5
}
