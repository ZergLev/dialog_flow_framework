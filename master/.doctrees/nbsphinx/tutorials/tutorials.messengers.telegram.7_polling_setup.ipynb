{
 "cells": [
  {
   "cell_type": "markdown",
   "id": "a8af72b3",
   "metadata": {
    "cell_marker": "\"\"\""
   },
   "source": [
    "# Telegram: 7. Polling Setup\n",
    "\n",
    "The following tutorial shows how to configure `PollingTelegramInterface`.\n",
    "\n",
    "See [PollingTelegramInterface](../apiref/dff.messengers.telegram.interface.rst#dff.messengers.telegram.interface.PollingTelegramInterface)\n",
    "for more information."
   ]
  },
  {
   "cell_type": "code",
   "execution_count": 1,
   "id": "ce03f0d0",
   "metadata": {
    "execution": {
     "iopub.execute_input": "2024-05-02T08:51:14.590819Z",
     "iopub.status.busy": "2024-05-02T08:51:14.590590Z",
     "iopub.status.idle": "2024-05-02T08:51:16.762501Z",
     "shell.execute_reply": "2024-05-02T08:51:16.761630Z"
    }
   },
   "outputs": [
    {
     "name": "stdout",
     "output_type": "stream",
     "text": [
      "Note: you may need to restart the kernel to use updated packages.\n"
     ]
    }
   ],
   "source": [
    "# installing dependencies\n",
    "%pip install -q dff[telegram]"
   ]
  },
  {
   "cell_type": "code",
   "execution_count": 2,
   "id": "1662b44f",
   "metadata": {
    "execution": {
     "iopub.execute_input": "2024-05-02T08:51:16.765770Z",
     "iopub.status.busy": "2024-05-02T08:51:16.765282Z",
     "iopub.status.idle": "2024-05-02T08:51:17.503547Z",
     "shell.execute_reply": "2024-05-02T08:51:17.502880Z"
    },
    "lines_to_next_cell": 2
   },
   "outputs": [],
   "source": [
    "import os\n",
    "\n",
    "from dff.messengers.telegram.interface import PollingTelegramInterface\n",
    "from dff.pipeline import Pipeline\n",
    "\n",
    "from dff.utils.testing.common import is_interactive_mode\n",
    "from dff.utils.testing.toy_script import TOY_SCRIPT_ARGS, HAPPY_PATH\n",
    "from telebot.util import update_types"
   ]
  },
  {
   "cell_type": "markdown",
   "id": "88fee5d8",
   "metadata": {
    "cell_marker": "\"\"\"",
    "lines_to_next_cell": 2
   },
   "source": [
    "`PollingTelegramInterface` can be configured with the same parameters\n",
    "that are used in the `pytelegrambotapi` library, specifically:\n",
    "\n",
    "* interval - time between calls to the API.\n",
    "* allowed updates - updates that should be fetched.\n",
    "* timeout - general timeout.\n",
    "* long polling timeout - timeout for polling."
   ]
  },
  {
   "cell_type": "code",
   "execution_count": 3,
   "id": "7f7d4d5b",
   "metadata": {
    "execution": {
     "iopub.execute_input": "2024-05-02T08:51:17.507301Z",
     "iopub.status.busy": "2024-05-02T08:51:17.506725Z",
     "iopub.status.idle": "2024-05-02T08:51:17.510460Z",
     "shell.execute_reply": "2024-05-02T08:51:17.509896Z"
    },
    "lines_to_next_cell": 2
   },
   "outputs": [],
   "source": [
    "interface = PollingTelegramInterface(\n",
    "    token=os.environ[\"TG_BOT_TOKEN\"],\n",
    "    interval=2,\n",
    "    allowed_updates=update_types,\n",
    "    timeout=30,\n",
    "    long_polling_timeout=30,\n",
    ")\n",
    "\n",
    "\n",
    "# testing\n",
    "happy_path = HAPPY_PATH"
   ]
  },
  {
   "cell_type": "code",
   "execution_count": 4,
   "id": "908c8d8a",
   "metadata": {
    "execution": {
     "iopub.execute_input": "2024-05-02T08:51:17.513141Z",
     "iopub.status.busy": "2024-05-02T08:51:17.512750Z",
     "iopub.status.idle": "2024-05-02T08:51:17.516908Z",
     "shell.execute_reply": "2024-05-02T08:51:17.516277Z"
    }
   },
   "outputs": [],
   "source": [
    "pipeline = Pipeline.from_script(\n",
    "    *TOY_SCRIPT_ARGS,\n",
    "    messenger_interface=interface,\n",
    "    # The interface can be passed as a pipeline argument\n",
    ")\n",
    "\n",
    "\n",
    "def main():\n",
    "    pipeline.run()\n",
    "\n",
    "\n",
    "if __name__ == \"__main__\" and is_interactive_mode():\n",
    "    # prevent run during doc building\n",
    "    main()"
   ]
  }
 ],
 "metadata": {
  "jupytext": {
   "cell_metadata_filter": "-all",
   "main_language": "python",
   "notebook_metadata_filter": "-all",
   "text_representation": {
    "extension": ".py",
    "format_name": "percent"
   }
  },
  "language_info": {
   "codemirror_mode": {
    "name": "ipython",
    "version": 3
   },
   "file_extension": ".py",
   "mimetype": "text/x-python",
   "name": "python",
   "nbconvert_exporter": "python",
   "pygments_lexer": "ipython3",
   "version": "3.9.19"
  }
 },
 "nbformat": 4,
 "nbformat_minor": 5
}
