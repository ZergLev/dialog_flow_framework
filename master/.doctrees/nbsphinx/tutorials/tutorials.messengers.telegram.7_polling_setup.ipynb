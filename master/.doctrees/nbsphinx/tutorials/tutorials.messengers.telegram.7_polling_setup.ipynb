{
 "cells": [
  {
   "cell_type": "markdown",
   "id": "2bab3879",
   "metadata": {
    "cell_marker": "\"\"\""
   },
   "source": [
    "# Telegram: 7. Polling Setup\n",
    "\n",
    "The following tutorial shows how to configure `PollingTelegramInterface`.\n",
    "\n",
    "See [PollingTelegramInterface](../apiref/dff.messengers.telegram.interface.rst#dff.messengers.telegram.interface.PollingTelegramInterface)\n",
    "for more information."
   ]
  },
  {
   "cell_type": "code",
   "execution_count": 1,
   "id": "364d7139",
   "metadata": {
    "execution": {
     "iopub.execute_input": "2024-04-21T05:20:49.711283Z",
     "iopub.status.busy": "2024-04-21T05:20:49.711078Z",
     "iopub.status.idle": "2024-04-21T05:20:51.892813Z",
     "shell.execute_reply": "2024-04-21T05:20:51.891915Z"
    }
   },
   "outputs": [
    {
     "name": "stdout",
     "output_type": "stream",
     "text": [
      "Note: you may need to restart the kernel to use updated packages.\n"
     ]
    }
   ],
   "source": [
    "# installing dependencies\n",
    "%pip install -q dff[telegram]"
   ]
  },
  {
   "cell_type": "code",
   "execution_count": 2,
   "id": "8382d0f4",
   "metadata": {
    "execution": {
     "iopub.execute_input": "2024-04-21T05:20:51.895997Z",
     "iopub.status.busy": "2024-04-21T05:20:51.895547Z",
     "iopub.status.idle": "2024-04-21T05:20:52.640537Z",
     "shell.execute_reply": "2024-04-21T05:20:52.639886Z"
    },
    "lines_to_next_cell": 2
   },
   "outputs": [],
   "source": [
    "import os\n",
    "\n",
    "from dff.messengers.telegram.interface import PollingTelegramInterface\n",
    "from dff.pipeline import Pipeline\n",
    "\n",
    "from dff.utils.testing.common import is_interactive_mode\n",
    "from dff.utils.testing.toy_script import TOY_SCRIPT_ARGS, HAPPY_PATH\n",
    "from telebot.util import update_types"
   ]
  },
  {
   "cell_type": "markdown",
   "id": "a9d54094",
   "metadata": {
    "cell_marker": "\"\"\"",
    "lines_to_next_cell": 2
   },
   "source": [
    "`PollingTelegramInterface` can be configured with the same parameters\n",
    "that are used in the `pytelegrambotapi` library, specifically:\n",
    "\n",
    "* interval - time between calls to the API.\n",
    "* allowed updates - updates that should be fetched.\n",
    "* timeout - general timeout.\n",
    "* long polling timeout - timeout for polling."
   ]
  },
  {
   "cell_type": "code",
   "execution_count": 3,
   "id": "997918f9",
   "metadata": {
    "execution": {
     "iopub.execute_input": "2024-04-21T05:20:52.643891Z",
     "iopub.status.busy": "2024-04-21T05:20:52.643417Z",
     "iopub.status.idle": "2024-04-21T05:20:52.647037Z",
     "shell.execute_reply": "2024-04-21T05:20:52.646378Z"
    },
    "lines_to_next_cell": 2
   },
   "outputs": [],
   "source": [
    "interface = PollingTelegramInterface(\n",
    "    token=os.environ[\"TG_BOT_TOKEN\"],\n",
    "    interval=2,\n",
    "    allowed_updates=update_types,\n",
    "    timeout=30,\n",
    "    long_polling_timeout=30,\n",
    ")\n",
    "\n",
    "\n",
    "# testing\n",
    "happy_path = HAPPY_PATH"
   ]
  },
  {
   "cell_type": "code",
   "execution_count": 4,
   "id": "a74589d8",
   "metadata": {
    "execution": {
     "iopub.execute_input": "2024-04-21T05:20:52.649629Z",
     "iopub.status.busy": "2024-04-21T05:20:52.649237Z",
     "iopub.status.idle": "2024-04-21T05:20:52.653337Z",
     "shell.execute_reply": "2024-04-21T05:20:52.652668Z"
    }
   },
   "outputs": [],
   "source": [
    "pipeline = Pipeline.from_script(\n",
    "    *TOY_SCRIPT_ARGS,\n",
    "    messenger_interface=interface,\n",
    "    # The interface can be passed as a pipeline argument\n",
    ")\n",
    "\n",
    "\n",
    "def main():\n",
    "    pipeline.run()\n",
    "\n",
    "\n",
    "if __name__ == \"__main__\" and is_interactive_mode():\n",
    "    # prevent run during doc building\n",
    "    main()"
   ]
  }
 ],
 "metadata": {
  "jupytext": {
   "cell_metadata_filter": "-all",
   "main_language": "python",
   "notebook_metadata_filter": "-all",
   "text_representation": {
    "extension": ".py",
    "format_name": "percent"
   }
  },
  "language_info": {
   "codemirror_mode": {
    "name": "ipython",
    "version": 3
   },
   "file_extension": ".py",
   "mimetype": "text/x-python",
   "name": "python",
   "nbconvert_exporter": "python",
   "pygments_lexer": "ipython3",
   "version": "3.9.19"
  }
 },
 "nbformat": 4,
 "nbformat_minor": 5
}
