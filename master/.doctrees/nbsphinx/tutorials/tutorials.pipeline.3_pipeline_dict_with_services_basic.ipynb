{
 "cells": [
  {
   "cell_type": "markdown",
   "id": "fd721add",
   "metadata": {
    "cell_marker": "\"\"\""
   },
   "source": [
    "# 3. Pipeline dict with services (basic)\n",
    "\n",
    "The following tutorial shows `pipeline` creation from\n",
    "dict and most important pipeline components.\n",
    "\n",
    "Here, [Service](../apiref/dff.pipeline.service.service.rst#dff.pipeline.service.service.Service)\n",
    "class, that can be used for pre- and postprocessing of messages is shown.\n",
    "\n",
    "Pipeline's [from_dict](../apiref/dff.pipeline.pipeline.pipeline.rst#dff.pipeline.pipeline.pipeline.Pipeline.from_dict)\n",
    "static method is used for pipeline creation (from dictionary)."
   ]
  },
  {
   "cell_type": "code",
   "execution_count": 1,
   "id": "a191ea36",
   "metadata": {
    "execution": {
     "iopub.execute_input": "2024-04-27T03:41:28.694199Z",
     "iopub.status.busy": "2024-04-27T03:41:28.693705Z",
     "iopub.status.idle": "2024-04-27T03:41:30.808278Z",
     "shell.execute_reply": "2024-04-27T03:41:30.807455Z"
    }
   },
   "outputs": [
    {
     "name": "stdout",
     "output_type": "stream",
     "text": [
      "Note: you may need to restart the kernel to use updated packages.\n"
     ]
    }
   ],
   "source": [
    "# installing dependencies\n",
    "%pip install -q dff"
   ]
  },
  {
   "cell_type": "code",
   "execution_count": 2,
   "id": "04f7238e",
   "metadata": {
    "execution": {
     "iopub.execute_input": "2024-04-27T03:41:30.811300Z",
     "iopub.status.busy": "2024-04-27T03:41:30.810903Z",
     "iopub.status.idle": "2024-04-27T03:41:31.439370Z",
     "shell.execute_reply": "2024-04-27T03:41:31.438719Z"
    },
    "lines_to_next_cell": 2
   },
   "outputs": [],
   "source": [
    "import logging\n",
    "\n",
    "from dff.pipeline import Service, Pipeline, ACTOR\n",
    "\n",
    "from dff.utils.testing.common import (\n",
    "    check_happy_path,\n",
    "    is_interactive_mode,\n",
    "    run_interactive_mode,\n",
    ")\n",
    "from dff.utils.testing.toy_script import HAPPY_PATH, TOY_SCRIPT\n",
    "\n",
    "logger = logging.getLogger(__name__)"
   ]
  },
  {
   "cell_type": "markdown",
   "id": "c654242e",
   "metadata": {
    "cell_marker": "\"\"\""
   },
   "source": [
    "When Pipeline is created using `from_dict` method,\n",
    "pipeline should be defined as a dictionary.\n",
    "It should contain `services` - a `ServiceGroupBuilder` object,\n",
    "basically a list of `ServiceBuilder` or `ServiceGroupBuilder` objects,\n",
    "see tutorial 4.\n",
    "\n",
    "On pipeline execution services from `services`\n",
    "list are run without difference between pre- and postprocessors.\n",
    "Actor constant \"ACTOR\" is required to be passed as one of the services.\n",
    "ServiceBuilder object can be defined either with callable\n",
    "(see tutorial 2) or with dict / object.\n",
    "It should contain `handler` - a ServiceBuilder object.\n",
    "\n",
    "Not only Pipeline can be run using `__call__` method,\n",
    "for most cases `run` method should be used.\n",
    "It starts pipeline asynchronously and connects to provided messenger interface.\n",
    "\n",
    "Here, the pipeline contains 4 services,\n",
    "defined in 4 different ways with different signatures."
   ]
  },
  {
   "cell_type": "code",
   "execution_count": 3,
   "id": "235a2077",
   "metadata": {
    "execution": {
     "iopub.execute_input": "2024-04-27T03:41:31.443140Z",
     "iopub.status.busy": "2024-04-27T03:41:31.442378Z",
     "iopub.status.idle": "2024-04-27T03:41:31.446618Z",
     "shell.execute_reply": "2024-04-27T03:41:31.446019Z"
    }
   },
   "outputs": [],
   "source": [
    "def prepreprocess(_):\n",
    "    logger.info(\n",
    "        \"preprocession intent-detection Service running (defined as a dict)\"\n",
    "    )\n",
    "\n",
    "\n",
    "def preprocess(_):\n",
    "    logger.info(\n",
    "        \"another preprocession web-based annotator Service \"\n",
    "        \"(defined as a callable)\"\n",
    "    )\n",
    "\n",
    "\n",
    "def postprocess(_):\n",
    "    logger.info(\"postprocession Service (defined as an object)\")"
   ]
  },
  {
   "cell_type": "code",
   "execution_count": 4,
   "id": "51f8085b",
   "metadata": {
    "execution": {
     "iopub.execute_input": "2024-04-27T03:41:31.449488Z",
     "iopub.status.busy": "2024-04-27T03:41:31.448967Z",
     "iopub.status.idle": "2024-04-27T03:41:31.452758Z",
     "shell.execute_reply": "2024-04-27T03:41:31.452152Z"
    }
   },
   "outputs": [],
   "source": [
    "pipeline_dict = {\n",
    "    \"script\": TOY_SCRIPT,\n",
    "    \"start_label\": (\"greeting_flow\", \"start_node\"),\n",
    "    \"fallback_label\": (\"greeting_flow\", \"fallback_node\"),\n",
    "    \"components\": [\n",
    "        {\n",
    "            \"handler\": prepreprocess,\n",
    "        },\n",
    "        preprocess,\n",
    "        ACTOR,\n",
    "        Service(\n",
    "            handler=postprocess,\n",
    "        ),\n",
    "    ],\n",
    "}"
   ]
  },
  {
   "cell_type": "code",
   "execution_count": 5,
   "id": "72adb696",
   "metadata": {
    "execution": {
     "iopub.execute_input": "2024-04-27T03:41:31.455289Z",
     "iopub.status.busy": "2024-04-27T03:41:31.454900Z",
     "iopub.status.idle": "2024-04-27T03:41:31.471305Z",
     "shell.execute_reply": "2024-04-27T03:41:31.470744Z"
    }
   },
   "outputs": [
    {
     "name": "stdout",
     "output_type": "stream",
     "text": [
      "(user) >>> text='Hi'\n",
      " (bot) <<< text='Hi, how are you?'\n",
      "(user) >>> text='i'm fine, how are you?'\n",
      " (bot) <<< text='Good. What do you want to talk about?'\n",
      "(user) >>> text='Let's talk about music.'\n",
      " (bot) <<< text='Sorry, I can not talk about music now.'\n",
      "(user) >>> text='Ok, goodbye.'\n",
      " (bot) <<< text='bye'\n",
      "(user) >>> text='Hi'\n",
      " (bot) <<< text='Hi, how are you?'\n"
     ]
    }
   ],
   "source": [
    "pipeline = Pipeline.from_dict(pipeline_dict)\n",
    "\n",
    "if __name__ == \"__main__\":\n",
    "    check_happy_path(pipeline, HAPPY_PATH)\n",
    "    if is_interactive_mode():\n",
    "        run_interactive_mode(pipeline)  # This runs tutorial in interactive mode"
   ]
  }
 ],
 "metadata": {
  "jupytext": {
   "cell_metadata_filter": "-all",
   "main_language": "python",
   "notebook_metadata_filter": "-all",
   "text_representation": {
    "extension": ".py",
    "format_name": "percent"
   }
  },
  "language_info": {
   "codemirror_mode": {
    "name": "ipython",
    "version": 3
   },
   "file_extension": ".py",
   "mimetype": "text/x-python",
   "name": "python",
   "nbconvert_exporter": "python",
   "pygments_lexer": "ipython3",
   "version": "3.9.19"
  }
 },
 "nbformat": 4,
 "nbformat_minor": 5
}
