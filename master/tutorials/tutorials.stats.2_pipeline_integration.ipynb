{
 "cells": [
  {
   "cell_type": "markdown",
   "id": "d36a7b55",
   "metadata": {
    "cell_marker": "\"\"\""
   },
   "source": [
    "# 2. Pipeline Integration\n",
    "\n",
    "In the DFF ecosystem, extractor functions act as regular extra handlers (\n",
    "[see the pipeline module documentation](\n",
    "../tutorials/tutorials.pipeline.6_extra_handlers_basic.py\n",
    ")\n",
    ").\n",
    "Hence, you can decorate any part of your pipeline, including services,\n",
    "service groups and the pipeline as a whole, to obtain the statistics\n",
    "specific for that component. Some examples of this functionality\n",
    "are showcased in this tutorial.\n",
    "\n",
    "<div class=\"alert alert-info\">\n",
    "\n",
    "Both the Opentelemetry collector and the Clickhouse instance must be running\n",
    "during statistics collection.\n",
    "If you cloned the DFF repo, launch them using `docker compose`:\n",
    "```bash\n",
    "docker compose --profile stats up\n",
    "```\n",
    "\n",
    "</div>"
   ]
  },
  {
   "cell_type": "code",
   "execution_count": 1,
   "id": "cbec68b9",
   "metadata": {
    "execution": {
     "iopub.execute_input": "2024-04-19T12:53:05.354110Z",
     "iopub.status.busy": "2024-04-19T12:53:05.353900Z",
     "iopub.status.idle": "2024-04-19T12:53:07.638483Z",
     "shell.execute_reply": "2024-04-19T12:53:07.637642Z"
    }
   },
   "outputs": [
    {
     "name": "stdout",
     "output_type": "stream",
     "text": [
      "Note: you may need to restart the kernel to use updated packages.\n"
     ]
    }
   ],
   "source": [
    "# installing dependencies\n",
    "%pip install -q dff[stats]"
   ]
  },
  {
   "cell_type": "code",
   "execution_count": 2,
   "id": "0c83d050",
   "metadata": {
    "execution": {
     "iopub.execute_input": "2024-04-19T12:53:07.641608Z",
     "iopub.status.busy": "2024-04-19T12:53:07.641192Z",
     "iopub.status.idle": "2024-04-19T12:53:08.480959Z",
     "shell.execute_reply": "2024-04-19T12:53:08.480312Z"
    }
   },
   "outputs": [],
   "source": [
    "import asyncio\n",
    "\n",
    "from dff.script import Context\n",
    "from dff.pipeline import (\n",
    "    Pipeline,\n",
    "    ACTOR,\n",
    "    Service,\n",
    "    ExtraHandlerRuntimeInfo,\n",
    "    ServiceGroup,\n",
    "    GlobalExtraHandlerType,\n",
    ")\n",
    "from dff.utils.testing.toy_script import TOY_SCRIPT, HAPPY_PATH\n",
    "from dff.stats import (\n",
    "    OtelInstrumentor,\n",
    "    set_logger_destination,\n",
    "    set_tracer_destination,\n",
    ")\n",
    "from dff.stats import OTLPLogExporter, OTLPSpanExporter\n",
    "from dff.stats import default_extractors\n",
    "from dff.utils.testing import is_interactive_mode, check_happy_path"
   ]
  },
  {
   "cell_type": "code",
   "execution_count": 3,
   "id": "2f72a152",
   "metadata": {
    "execution": {
     "iopub.execute_input": "2024-04-19T12:53:08.484325Z",
     "iopub.status.busy": "2024-04-19T12:53:08.483986Z",
     "iopub.status.idle": "2024-04-19T12:53:08.491571Z",
     "shell.execute_reply": "2024-04-19T12:53:08.491048Z"
    },
    "lines_to_next_cell": 2
   },
   "outputs": [],
   "source": [
    "set_logger_destination(OTLPLogExporter(\"grpc://localhost:4317\", insecure=True))\n",
    "set_tracer_destination(OTLPSpanExporter(\"grpc://localhost:4317\", insecure=True))\n",
    "dff_instrumentor = OtelInstrumentor()\n",
    "dff_instrumentor.instrument()\n",
    "\n",
    "\n",
    "# example extractor function\n",
    "@dff_instrumentor\n",
    "async def get_service_state(ctx: Context, _, info: ExtraHandlerRuntimeInfo):\n",
    "    # extract execution state of service from info\n",
    "    data = {\n",
    "        \"execution_state\": info.component.execution_state,\n",
    "    }\n",
    "    # return a record to save into connected database\n",
    "    return data"
   ]
  },
  {
   "cell_type": "code",
   "execution_count": 4,
   "id": "e23f84ba",
   "metadata": {
    "execution": {
     "iopub.execute_input": "2024-04-19T12:53:08.494341Z",
     "iopub.status.busy": "2024-04-19T12:53:08.493834Z",
     "iopub.status.idle": "2024-04-19T12:53:08.497392Z",
     "shell.execute_reply": "2024-04-19T12:53:08.496698Z"
    },
    "lines_to_next_cell": 2
   },
   "outputs": [],
   "source": [
    "# example service\n",
    "async def heavy_service(ctx: Context):\n",
    "    _ = ctx  # get something from ctx if needed\n",
    "    await asyncio.sleep(0.02)"
   ]
  },
  {
   "cell_type": "markdown",
   "id": "334252f6",
   "metadata": {
    "cell_marker": "\"\"\"",
    "lines_to_next_cell": 0
   },
   "source": [
    "\n",
    "The many ways in which you can use extractor functions are shown in\n",
    "the following pipeline definition. The functions are used to obtain\n",
    "statistics from respective components:\n",
    "\n",
    "* A service group of two `heavy_service` instances.\n",
    "* An `Actor` service.\n",
    "* The pipeline as a whole.\n",
    "\n",
    "As is the case with the regular extra handler functions,\n",
    "you can wire the extractors to run either before or after the target service.\n",
    "As a result, you can compare the pre-service and post-service states\n",
    "of the context to measure the performance of various components, etc.\n",
    "\n",
    "Some extractors, like `get_current_label`, have restrictions in terms of their\n",
    "run stage: for instance, `get_current_label` needs to only be used as an\n",
    "`after_handler` to function correctly."
   ]
  },
  {
   "cell_type": "code",
   "execution_count": 5,
   "id": "bc2c7eda",
   "metadata": {
    "execution": {
     "iopub.execute_input": "2024-04-19T12:53:08.500084Z",
     "iopub.status.busy": "2024-04-19T12:53:08.499551Z",
     "iopub.status.idle": "2024-04-19T12:53:08.635538Z",
     "shell.execute_reply": "2024-04-19T12:53:08.634793Z"
    }
   },
   "outputs": [
    {
     "name": "stdout",
     "output_type": "stream",
     "text": [
      "(user) >>> text='Hi'\n",
      " (bot) <<< text='Hi, how are you?'\n",
      "(user) >>> text='i'm fine, how are you?'\n",
      " (bot) <<< text='Good. What do you want to talk about?'\n",
      "(user) >>> text='Let's talk about music.'\n",
      " (bot) <<< text='Sorry, I can not talk about music now.'\n",
      "(user) >>> text='Ok, goodbye.'\n",
      " (bot) <<< text='bye'\n",
      "(user) >>> text='Hi'\n",
      " (bot) <<< text='Hi, how are you?'\n"
     ]
    }
   ],
   "source": [
    "pipeline = Pipeline.from_dict(\n",
    "    {\n",
    "        \"script\": TOY_SCRIPT,\n",
    "        \"start_label\": (\"greeting_flow\", \"start_node\"),\n",
    "        \"fallback_label\": (\"greeting_flow\", \"fallback_node\"),\n",
    "        \"components\": [\n",
    "            ServiceGroup(\n",
    "                before_handler=[default_extractors.get_timing_before],\n",
    "                after_handler=[\n",
    "                    get_service_state,\n",
    "                    default_extractors.get_timing_after,\n",
    "                ],\n",
    "                components=[\n",
    "                    {\"handler\": heavy_service},\n",
    "                    {\"handler\": heavy_service},\n",
    "                ],\n",
    "            ),\n",
    "            Service(\n",
    "                handler=ACTOR,\n",
    "                before_handler=[\n",
    "                    default_extractors.get_timing_before,\n",
    "                ],\n",
    "                after_handler=[\n",
    "                    get_service_state,\n",
    "                    default_extractors.get_current_label,\n",
    "                    default_extractors.get_timing_after,\n",
    "                ],\n",
    "            ),\n",
    "        ],\n",
    "    }\n",
    ")\n",
    "pipeline.add_global_handler(\n",
    "    GlobalExtraHandlerType.BEFORE_ALL, default_extractors.get_timing_before\n",
    ")\n",
    "pipeline.add_global_handler(\n",
    "    GlobalExtraHandlerType.AFTER_ALL, default_extractors.get_timing_after\n",
    ")\n",
    "pipeline.add_global_handler(GlobalExtraHandlerType.AFTER_ALL, get_service_state)\n",
    "\n",
    "if __name__ == \"__main__\":\n",
    "    check_happy_path(pipeline, HAPPY_PATH)\n",
    "    if is_interactive_mode():\n",
    "        pipeline.run()"
   ]
  }
 ],
 "metadata": {
  "jupytext": {
   "cell_metadata_filter": "-all",
   "main_language": "python",
   "notebook_metadata_filter": "-all",
   "text_representation": {
    "extension": ".py",
    "format_name": "percent"
   }
  },
  "language_info": {
   "codemirror_mode": {
    "name": "ipython",
    "version": 3
   },
   "file_extension": ".py",
   "mimetype": "text/x-python",
   "name": "python",
   "nbconvert_exporter": "python",
   "pygments_lexer": "ipython3",
   "version": "3.9.19"
  }
 },
 "nbformat": 4,
 "nbformat_minor": 5
}
