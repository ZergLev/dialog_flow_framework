{
 "cells": [
  {
   "cell_type": "markdown",
   "id": "f57eeba8",
   "metadata": {
    "cell_marker": "\"\"\""
   },
   "source": [
    "# 5. MySQL\n",
    "\n",
    "This is a tutorial on using MySQL.\n",
    "\n",
    "See [SQLContextStorage](../apiref/dff.context_storages.sql.rst#dff.context_storages.sql.SQLContextStorage) class\n",
    "for storing you users' contexts in SQL databases.\n",
    "\n",
    "DFF uses [sqlalchemy](https://docs.sqlalchemy.org/en/20/)\n",
    "and [asyncmy](https://github.com/long2ice/asyncmy)\n",
    "libraries for asynchronous access to MySQL DB."
   ]
  },
  {
   "cell_type": "code",
   "execution_count": 1,
   "id": "e1be7f78",
   "metadata": {
    "execution": {
     "iopub.execute_input": "2024-04-18T16:16:28.230613Z",
     "iopub.status.busy": "2024-04-18T16:16:28.229932Z",
     "iopub.status.idle": "2024-04-18T16:16:30.514133Z",
     "shell.execute_reply": "2024-04-18T16:16:30.513261Z"
    }
   },
   "outputs": [
    {
     "name": "stdout",
     "output_type": "stream",
     "text": [
      "Note: you may need to restart the kernel to use updated packages.\n"
     ]
    }
   ],
   "source": [
    "# installing dependencies\n",
    "%pip install -q dff[mysql]"
   ]
  },
  {
   "cell_type": "code",
   "execution_count": 2,
   "id": "0a6470c2",
   "metadata": {
    "execution": {
     "iopub.execute_input": "2024-04-18T16:16:30.517466Z",
     "iopub.status.busy": "2024-04-18T16:16:30.517039Z",
     "iopub.status.idle": "2024-04-18T16:16:31.191758Z",
     "shell.execute_reply": "2024-04-18T16:16:31.191066Z"
    },
    "lines_to_next_cell": 2
   },
   "outputs": [],
   "source": [
    "import os\n",
    "\n",
    "from dff.context_storages import context_storage_factory\n",
    "\n",
    "from dff.pipeline import Pipeline\n",
    "from dff.utils.testing.common import (\n",
    "    check_happy_path,\n",
    "    is_interactive_mode,\n",
    "    run_interactive_mode,\n",
    ")\n",
    "from dff.utils.testing.toy_script import TOY_SCRIPT_ARGS, HAPPY_PATH"
   ]
  },
  {
   "cell_type": "code",
   "execution_count": 3,
   "id": "d946579e",
   "metadata": {
    "execution": {
     "iopub.execute_input": "2024-04-18T16:16:31.195214Z",
     "iopub.status.busy": "2024-04-18T16:16:31.194704Z",
     "iopub.status.idle": "2024-04-18T16:16:31.281061Z",
     "shell.execute_reply": "2024-04-18T16:16:31.280350Z"
    },
    "lines_to_next_cell": 2
   },
   "outputs": [],
   "source": [
    "db_uri = \"mysql+asyncmy://{}:{}@localhost:3307/{}\".format(\n",
    "    os.environ[\"MYSQL_USERNAME\"],\n",
    "    os.environ[\"MYSQL_PASSWORD\"],\n",
    "    os.environ[\"MYSQL_DATABASE\"],\n",
    ")\n",
    "db = context_storage_factory(db_uri)\n",
    "\n",
    "\n",
    "pipeline = Pipeline.from_script(*TOY_SCRIPT_ARGS, context_storage=db)"
   ]
  },
  {
   "cell_type": "code",
   "execution_count": 4,
   "id": "300885fa",
   "metadata": {
    "execution": {
     "iopub.execute_input": "2024-04-18T16:16:31.284353Z",
     "iopub.status.busy": "2024-04-18T16:16:31.283808Z",
     "iopub.status.idle": "2024-04-18T16:16:31.323487Z",
     "shell.execute_reply": "2024-04-18T16:16:31.322703Z"
    }
   },
   "outputs": [
    {
     "name": "stdout",
     "output_type": "stream",
     "text": [
      "(user) >>> text='Hi'\n",
      " (bot) <<< text='Hi, how are you?'\n",
      "(user) >>> text='i'm fine, how are you?'\n",
      " (bot) <<< text='Good. What do you want to talk about?'\n",
      "(user) >>> text='Let's talk about music.'\n",
      " (bot) <<< text='Sorry, I can not talk about music now.'\n",
      "(user) >>> text='Ok, goodbye.'\n",
      " (bot) <<< text='bye'\n",
      "(user) >>> text='Hi'\n",
      " (bot) <<< text='Hi, how are you?'\n"
     ]
    }
   ],
   "source": [
    "if __name__ == \"__main__\":\n",
    "    check_happy_path(pipeline, HAPPY_PATH)\n",
    "    if is_interactive_mode():\n",
    "        run_interactive_mode(pipeline)"
   ]
  }
 ],
 "metadata": {
  "jupytext": {
   "cell_metadata_filter": "-all",
   "main_language": "python",
   "notebook_metadata_filter": "-all",
   "text_representation": {
    "extension": ".py",
    "format_name": "percent"
   }
  },
  "language_info": {
   "codemirror_mode": {
    "name": "ipython",
    "version": 3
   },
   "file_extension": ".py",
   "mimetype": "text/x-python",
   "name": "python",
   "nbconvert_exporter": "python",
   "pygments_lexer": "ipython3",
   "version": "3.9.19"
  }
 },
 "nbformat": 4,
 "nbformat_minor": 5
}
