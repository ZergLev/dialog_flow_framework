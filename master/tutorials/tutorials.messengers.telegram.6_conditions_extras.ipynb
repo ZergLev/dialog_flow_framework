{
 "cells": [
  {
   "cell_type": "markdown",
   "id": "5945b160",
   "metadata": {
    "cell_marker": "\"\"\"",
    "lines_to_next_cell": 2
   },
   "source": [
    "# Telegram: 6. Conditions Extras\n",
    "\n",
    "This tutorial shows how to use additional update filters\n",
    "inherited from the `pytelegrambotapi` library.\n",
    "\n",
    "[telegram_condition](../apiref/dff.messengers.telegram.messenger.rst#dff.messengers.telegram.messenger.telegram_condition)\n",
    "function and different types of\n",
    "[UpdateType](../apiref/dff.messengers.telegram.messenger.rst#dff.messengers.telegram.messenger.UpdateType)\n",
    "are used for telegram message type checking."
   ]
  },
  {
   "cell_type": "code",
   "execution_count": 1,
   "id": "efa8983c",
   "metadata": {
    "execution": {
     "iopub.execute_input": "2024-04-18T11:41:29.419744Z",
     "iopub.status.busy": "2024-04-18T11:41:29.419455Z",
     "iopub.status.idle": "2024-04-18T11:41:31.995461Z",
     "shell.execute_reply": "2024-04-18T11:41:31.994472Z"
    }
   },
   "outputs": [
    {
     "name": "stdout",
     "output_type": "stream",
     "text": [
      "Note: you may need to restart the kernel to use updated packages.\n"
     ]
    }
   ],
   "source": [
    "# installing dependencies\n",
    "%pip install -q dff[telegram]"
   ]
  },
  {
   "cell_type": "code",
   "execution_count": 2,
   "id": "c108ab5f",
   "metadata": {
    "execution": {
     "iopub.execute_input": "2024-04-18T11:41:31.999224Z",
     "iopub.status.busy": "2024-04-18T11:41:31.998983Z",
     "iopub.status.idle": "2024-04-18T11:41:32.852114Z",
     "shell.execute_reply": "2024-04-18T11:41:32.851324Z"
    },
    "lines_to_next_cell": 2
   },
   "outputs": [],
   "source": [
    "import os\n",
    "\n",
    "from dff.script import TRANSITIONS, RESPONSE, GLOBAL\n",
    "import dff.script.conditions as cnd\n",
    "from dff.messengers.telegram import (\n",
    "    PollingTelegramInterface,\n",
    "    TelegramMessage,\n",
    "    telegram_condition,\n",
    "    UpdateType,\n",
    ")\n",
    "from dff.pipeline import Pipeline\n",
    "from dff.utils.testing.common import is_interactive_mode"
   ]
  },
  {
   "cell_type": "markdown",
   "id": "903a80a0",
   "metadata": {
    "cell_marker": "\"\"\"",
    "lines_to_next_cell": 2
   },
   "source": [
    "In our Telegram module, we adopted the system of filters\n",
    "available in the `pytelegrambotapi` library.\n",
    "\n",
    "Aside from `MESSAGE` you can use\n",
    "other triggers to interact with the api. In this tutorial, we use\n",
    "handlers of other type as global conditions that trigger a response\n",
    "from the bot.\n",
    "\n",
    "Here, we use the following triggers:\n",
    "\n",
    "* `chat_join_request`: join request is sent to the chat where the bot is.\n",
    "* `my_chat_member`: triggered when the bot is invited to a chat.\n",
    "* `inline_query`: triggered when an inline query is being sent to the bot.\n",
    "\n",
    "The other available conditions are:\n",
    "\n",
    "* `channel_post`: new post is created in a channel the bot is subscribed to;\n",
    "* `edited_channel_post`: post is edited in a channel the bot is subscribed to;\n",
    "* `shipping_query`: shipping query is sent by the user;\n",
    "* `pre_checkout_query`: order confirmation is sent by the user;\n",
    "* `poll`: poll is sent to the chat;\n",
    "* `poll_answer`: users answered the poll sent by the bot.\n",
    "\n",
    "You can read more on those in the Telegram documentation\n",
    "or in the docs for the `telebot` library."
   ]
  },
  {
   "cell_type": "code",
   "execution_count": 3,
   "id": "26185159",
   "metadata": {
    "execution": {
     "iopub.execute_input": "2024-04-18T11:41:32.856007Z",
     "iopub.status.busy": "2024-04-18T11:41:32.855503Z",
     "iopub.status.idle": "2024-04-18T11:41:32.861842Z",
     "shell.execute_reply": "2024-04-18T11:41:32.861108Z"
    },
    "lines_to_next_cell": 2
   },
   "outputs": [],
   "source": [
    "script = {\n",
    "    GLOBAL: {\n",
    "        TRANSITIONS: {\n",
    "            (\"greeting_flow\", \"node1\"): cnd.any(\n",
    "                [\n",
    "                    # say hi when invited to a chat\n",
    "                    telegram_condition(\n",
    "                        update_type=UpdateType.CHAT_JOIN_REQUEST,\n",
    "                        func=lambda x: True,\n",
    "                    ),\n",
    "                    # say hi when someone enters the chat\n",
    "                    telegram_condition(\n",
    "                        update_type=UpdateType.MY_CHAT_MEMBER,\n",
    "                        func=lambda x: True,\n",
    "                    ),\n",
    "                ]\n",
    "            ),\n",
    "            # send a message when inline query is received\n",
    "            (\"greeting_flow\", \"node2\"): telegram_condition(\n",
    "                update_type=UpdateType.INLINE_QUERY,\n",
    "            ),\n",
    "        },\n",
    "    },\n",
    "    \"greeting_flow\": {\n",
    "        \"start_node\": {\n",
    "            TRANSITIONS: {\n",
    "                \"node1\": telegram_condition(commands=[\"start\", \"restart\"])\n",
    "            },\n",
    "        },\n",
    "        \"node1\": {\n",
    "            RESPONSE: TelegramMessage(text=\"Hi\"),\n",
    "            TRANSITIONS: {\"start_node\": cnd.true()},\n",
    "        },\n",
    "        \"node2\": {\n",
    "            RESPONSE: TelegramMessage(text=\"Inline query received.\"),\n",
    "            TRANSITIONS: {\"start_node\": cnd.true()},\n",
    "        },\n",
    "        \"fallback_node\": {\n",
    "            RESPONSE: TelegramMessage(text=\"Ooops\"),\n",
    "        },\n",
    "    },\n",
    "}"
   ]
  },
  {
   "cell_type": "code",
   "execution_count": 4,
   "id": "2da401ca",
   "metadata": {
    "execution": {
     "iopub.execute_input": "2024-04-18T11:41:32.864947Z",
     "iopub.status.busy": "2024-04-18T11:41:32.864750Z",
     "iopub.status.idle": "2024-04-18T11:41:32.868260Z",
     "shell.execute_reply": "2024-04-18T11:41:32.867564Z"
    },
    "lines_to_next_cell": 2
   },
   "outputs": [],
   "source": [
    "interface = PollingTelegramInterface(token=os.environ[\"TG_BOT_TOKEN\"])"
   ]
  },
  {
   "cell_type": "code",
   "execution_count": 5,
   "id": "b6da4783",
   "metadata": {
    "execution": {
     "iopub.execute_input": "2024-04-18T11:41:32.871007Z",
     "iopub.status.busy": "2024-04-18T11:41:32.870805Z",
     "iopub.status.idle": "2024-04-18T11:41:32.876176Z",
     "shell.execute_reply": "2024-04-18T11:41:32.875431Z"
    }
   },
   "outputs": [],
   "source": [
    "pipeline = Pipeline.from_script(\n",
    "    script=script,\n",
    "    start_label=(\"greeting_flow\", \"start_node\"),\n",
    "    fallback_label=(\"greeting_flow\", \"fallback_node\"),\n",
    "    messenger_interface=interface,\n",
    ")\n",
    "\n",
    "\n",
    "def main():\n",
    "    pipeline.run()\n",
    "\n",
    "\n",
    "if __name__ == \"__main__\" and is_interactive_mode():\n",
    "    # prevent run during doc building\n",
    "    main()"
   ]
  }
 ],
 "metadata": {
  "jupytext": {
   "cell_metadata_filter": "-all",
   "main_language": "python",
   "notebook_metadata_filter": "-all",
   "text_representation": {
    "extension": ".py",
    "format_name": "percent"
   }
  },
  "language_info": {
   "codemirror_mode": {
    "name": "ipython",
    "version": 3
   },
   "file_extension": ".py",
   "mimetype": "text/x-python",
   "name": "python",
   "nbconvert_exporter": "python",
   "pygments_lexer": "ipython3",
   "version": "3.9.19"
  }
 },
 "nbformat": 4,
 "nbformat_minor": 5
}
