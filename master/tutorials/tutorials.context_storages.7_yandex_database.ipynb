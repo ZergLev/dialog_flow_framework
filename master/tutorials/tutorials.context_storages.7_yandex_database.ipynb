{
 "cells": [
  {
   "cell_type": "markdown",
   "id": "5819d7d9",
   "metadata": {
    "cell_marker": "\"\"\""
   },
   "source": [
    "# 7. Yandex DataBase\n",
    "\n",
    "This is a tutorial on how to use Yandex DataBase.\n",
    "\n",
    "See [YDBContextStorage](../apiref/dff.context_storages.ydb.rst#dff.context_storages.ydb.YDBContextStorage) class\n",
    "for storing you users' contexts in Yandex database.\n",
    "\n",
    "DFF uses [ydb.aio](https://ydb.tech/en/docs/)\n",
    "library for asynchronous access to Yandex DB."
   ]
  },
  {
   "cell_type": "code",
   "execution_count": 1,
   "id": "7ac6a8f2",
   "metadata": {
    "execution": {
     "iopub.execute_input": "2024-05-02T08:50:31.291701Z",
     "iopub.status.busy": "2024-05-02T08:50:31.291213Z",
     "iopub.status.idle": "2024-05-02T08:50:33.546944Z",
     "shell.execute_reply": "2024-05-02T08:50:33.545920Z"
    }
   },
   "outputs": [
    {
     "name": "stdout",
     "output_type": "stream",
     "text": [
      "Note: you may need to restart the kernel to use updated packages.\n"
     ]
    }
   ],
   "source": [
    "# installing dependencies\n",
    "%pip install -q dff[ydb]"
   ]
  },
  {
   "cell_type": "code",
   "execution_count": 2,
   "id": "93f405f3",
   "metadata": {
    "execution": {
     "iopub.execute_input": "2024-05-02T08:50:33.550794Z",
     "iopub.status.busy": "2024-05-02T08:50:33.550322Z",
     "iopub.status.idle": "2024-05-02T08:50:34.215032Z",
     "shell.execute_reply": "2024-05-02T08:50:34.214164Z"
    },
    "lines_to_next_cell": 2
   },
   "outputs": [],
   "source": [
    "import os\n",
    "\n",
    "from dff.context_storages import context_storage_factory\n",
    "\n",
    "from dff.pipeline import Pipeline\n",
    "from dff.utils.testing.common import (\n",
    "    check_happy_path,\n",
    "    run_interactive_mode,\n",
    "    is_interactive_mode,\n",
    ")\n",
    "from dff.utils.testing.toy_script import TOY_SCRIPT_ARGS, HAPPY_PATH"
   ]
  },
  {
   "cell_type": "code",
   "execution_count": 3,
   "id": "ec00f3f9",
   "metadata": {
    "execution": {
     "iopub.execute_input": "2024-05-02T08:50:34.218458Z",
     "iopub.status.busy": "2024-05-02T08:50:34.217960Z",
     "iopub.status.idle": "2024-05-02T08:50:34.248225Z",
     "shell.execute_reply": "2024-05-02T08:50:34.247588Z"
    },
    "lines_to_next_cell": 2
   },
   "outputs": [],
   "source": [
    "# ##### Connecting to yandex cloud\n",
    "# https://github.com/zinal/ydb-python-sdk/blob/ex_basic-example_p1/examples/basic_example_v1/README.md\n",
    "# export YDB_SERVICE_ACCOUNT_KEY_FILE_CREDENTIALS=$HOME/key-ydb-sa-0.json\n",
    "# export YDB_ENDPOINT=grpcs://ydb.serverless.yandexcloud.net:2135\n",
    "# export YDB_DATABASE=/ru-central1/qwertyuiopasdfgh/123456789qwertyui\n",
    "# ##### or use local-ydb with variables from .env_file\n",
    "# db_uri=\"grpc://localhost:2136/local\"\n",
    "\n",
    "db_uri = \"{}{}\".format(\n",
    "    os.environ[\"YDB_ENDPOINT\"],\n",
    "    os.environ[\"YDB_DATABASE\"],\n",
    ")\n",
    "db = context_storage_factory(db_uri)\n",
    "\n",
    "pipeline = Pipeline.from_script(*TOY_SCRIPT_ARGS, context_storage=db)"
   ]
  },
  {
   "cell_type": "code",
   "execution_count": 4,
   "id": "88f16fe2",
   "metadata": {
    "execution": {
     "iopub.execute_input": "2024-05-02T08:50:34.251886Z",
     "iopub.status.busy": "2024-05-02T08:50:34.251453Z",
     "iopub.status.idle": "2024-05-02T08:50:34.303887Z",
     "shell.execute_reply": "2024-05-02T08:50:34.303085Z"
    }
   },
   "outputs": [
    {
     "name": "stdout",
     "output_type": "stream",
     "text": [
      "(user) >>> text='Hi'\n",
      " (bot) <<< text='Hi, how are you?'\n",
      "(user) >>> text='i'm fine, how are you?'\n",
      " (bot) <<< text='Good. What do you want to talk about?'\n",
      "(user) >>> text='Let's talk about music.'\n",
      " (bot) <<< text='Sorry, I can not talk about music now.'\n",
      "(user) >>> text='Ok, goodbye.'\n",
      " (bot) <<< text='bye'\n",
      "(user) >>> text='Hi'\n",
      " (bot) <<< text='Hi, how are you?'\n"
     ]
    }
   ],
   "source": [
    "if __name__ == \"__main__\":\n",
    "    check_happy_path(pipeline, HAPPY_PATH)\n",
    "    if is_interactive_mode():\n",
    "        run_interactive_mode(pipeline)"
   ]
  }
 ],
 "metadata": {
  "jupytext": {
   "cell_metadata_filter": "-all",
   "main_language": "python",
   "notebook_metadata_filter": "-all",
   "text_representation": {
    "extension": ".py",
    "format_name": "percent"
   }
  },
  "language_info": {
   "codemirror_mode": {
    "name": "ipython",
    "version": 3
   },
   "file_extension": ".py",
   "mimetype": "text/x-python",
   "name": "python",
   "nbconvert_exporter": "python",
   "pygments_lexer": "ipython3",
   "version": "3.9.19"
  }
 },
 "nbformat": 4,
 "nbformat_minor": 5
}
