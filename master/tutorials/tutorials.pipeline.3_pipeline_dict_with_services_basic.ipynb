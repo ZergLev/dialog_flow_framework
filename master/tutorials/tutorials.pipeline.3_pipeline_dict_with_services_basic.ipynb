{
 "cells": [
  {
   "cell_type": "markdown",
   "id": "83768c40",
   "metadata": {
    "cell_marker": "\"\"\""
   },
   "source": [
    "# 3. Pipeline dict with services (basic)\n",
    "\n",
    "The following tutorial shows `pipeline` creation from\n",
    "dict and most important pipeline components.\n",
    "\n",
    "Here, [Service](../apiref/dff.pipeline.service.service.rst#dff.pipeline.service.service.Service)\n",
    "class, that can be used for pre- and postprocessing of messages is shown.\n",
    "\n",
    "Pipeline's [from_dict](../apiref/dff.pipeline.pipeline.pipeline.rst#dff.pipeline.pipeline.pipeline.Pipeline.from_dict)\n",
    "static method is used for pipeline creation (from dictionary)."
   ]
  },
  {
   "cell_type": "code",
   "execution_count": 1,
   "id": "befe4589",
   "metadata": {
    "execution": {
     "iopub.execute_input": "2024-04-18T12:51:28.809411Z",
     "iopub.status.busy": "2024-04-18T12:51:28.808836Z",
     "iopub.status.idle": "2024-04-18T12:51:31.177649Z",
     "shell.execute_reply": "2024-04-18T12:51:31.176556Z"
    }
   },
   "outputs": [
    {
     "name": "stdout",
     "output_type": "stream",
     "text": [
      "Note: you may need to restart the kernel to use updated packages.\n"
     ]
    }
   ],
   "source": [
    "# installing dependencies\n",
    "%pip install -q dff"
   ]
  },
  {
   "cell_type": "code",
   "execution_count": 2,
   "id": "5fe69ceb",
   "metadata": {
    "execution": {
     "iopub.execute_input": "2024-04-18T12:51:31.181487Z",
     "iopub.status.busy": "2024-04-18T12:51:31.180959Z",
     "iopub.status.idle": "2024-04-18T12:51:31.906770Z",
     "shell.execute_reply": "2024-04-18T12:51:31.905910Z"
    },
    "lines_to_next_cell": 2
   },
   "outputs": [],
   "source": [
    "import logging\n",
    "\n",
    "from dff.pipeline import Service, Pipeline, ACTOR\n",
    "\n",
    "from dff.utils.testing.common import (\n",
    "    check_happy_path,\n",
    "    is_interactive_mode,\n",
    "    run_interactive_mode,\n",
    ")\n",
    "from dff.utils.testing.toy_script import HAPPY_PATH, TOY_SCRIPT\n",
    "\n",
    "logger = logging.getLogger(__name__)"
   ]
  },
  {
   "cell_type": "markdown",
   "id": "6b6375e8",
   "metadata": {
    "cell_marker": "\"\"\""
   },
   "source": [
    "When Pipeline is created using `from_dict` method,\n",
    "pipeline should be defined as a dictionary.\n",
    "It should contain `services` - a `ServiceGroupBuilder` object,\n",
    "basically a list of `ServiceBuilder` or `ServiceGroupBuilder` objects,\n",
    "see tutorial 4.\n",
    "\n",
    "On pipeline execution services from `services`\n",
    "list are run without difference between pre- and postprocessors.\n",
    "Actor constant \"ACTOR\" is required to be passed as one of the services.\n",
    "ServiceBuilder object can be defined either with callable\n",
    "(see tutorial 2) or with dict / object.\n",
    "It should contain `handler` - a ServiceBuilder object.\n",
    "\n",
    "Not only Pipeline can be run using `__call__` method,\n",
    "for most cases `run` method should be used.\n",
    "It starts pipeline asynchronously and connects to provided messenger interface.\n",
    "\n",
    "Here, the pipeline contains 4 services,\n",
    "defined in 4 different ways with different signatures."
   ]
  },
  {
   "cell_type": "code",
   "execution_count": 3,
   "id": "d75de4d0",
   "metadata": {
    "execution": {
     "iopub.execute_input": "2024-04-18T12:51:31.910591Z",
     "iopub.status.busy": "2024-04-18T12:51:31.909916Z",
     "iopub.status.idle": "2024-04-18T12:51:31.914476Z",
     "shell.execute_reply": "2024-04-18T12:51:31.913738Z"
    }
   },
   "outputs": [],
   "source": [
    "def prepreprocess(_):\n",
    "    logger.info(\n",
    "        \"preprocession intent-detection Service running (defined as a dict)\"\n",
    "    )\n",
    "\n",
    "\n",
    "def preprocess(_):\n",
    "    logger.info(\n",
    "        \"another preprocession web-based annotator Service \"\n",
    "        \"(defined as a callable)\"\n",
    "    )\n",
    "\n",
    "\n",
    "def postprocess(_):\n",
    "    logger.info(\"postprocession Service (defined as an object)\")"
   ]
  },
  {
   "cell_type": "code",
   "execution_count": 4,
   "id": "7de4c28b",
   "metadata": {
    "execution": {
     "iopub.execute_input": "2024-04-18T12:51:31.917753Z",
     "iopub.status.busy": "2024-04-18T12:51:31.917138Z",
     "iopub.status.idle": "2024-04-18T12:51:31.922239Z",
     "shell.execute_reply": "2024-04-18T12:51:31.921406Z"
    }
   },
   "outputs": [],
   "source": [
    "pipeline_dict = {\n",
    "    \"script\": TOY_SCRIPT,\n",
    "    \"start_label\": (\"greeting_flow\", \"start_node\"),\n",
    "    \"fallback_label\": (\"greeting_flow\", \"fallback_node\"),\n",
    "    \"components\": [\n",
    "        {\n",
    "            \"handler\": prepreprocess,\n",
    "        },\n",
    "        preprocess,\n",
    "        ACTOR,\n",
    "        Service(\n",
    "            handler=postprocess,\n",
    "        ),\n",
    "    ],\n",
    "}"
   ]
  },
  {
   "cell_type": "code",
   "execution_count": 5,
   "id": "deef2107",
   "metadata": {
    "execution": {
     "iopub.execute_input": "2024-04-18T12:51:31.925266Z",
     "iopub.status.busy": "2024-04-18T12:51:31.924803Z",
     "iopub.status.idle": "2024-04-18T12:51:31.945612Z",
     "shell.execute_reply": "2024-04-18T12:51:31.944865Z"
    }
   },
   "outputs": [
    {
     "name": "stdout",
     "output_type": "stream",
     "text": [
      "(user) >>> text='Hi'\n",
      " (bot) <<< text='Hi, how are you?'\n",
      "(user) >>> text='i'm fine, how are you?'\n",
      " (bot) <<< text='Good. What do you want to talk about?'\n",
      "(user) >>> text='Let's talk about music.'\n",
      " (bot) <<< text='Sorry, I can not talk about music now.'\n",
      "(user) >>> text='Ok, goodbye.'\n",
      " (bot) <<< text='bye'\n",
      "(user) >>> text='Hi'\n",
      " (bot) <<< text='Hi, how are you?'\n"
     ]
    }
   ],
   "source": [
    "pipeline = Pipeline.from_dict(pipeline_dict)\n",
    "\n",
    "if __name__ == \"__main__\":\n",
    "    check_happy_path(pipeline, HAPPY_PATH)\n",
    "    if is_interactive_mode():\n",
    "        run_interactive_mode(pipeline)  # This runs tutorial in interactive mode"
   ]
  }
 ],
 "metadata": {
  "jupytext": {
   "cell_metadata_filter": "-all",
   "main_language": "python",
   "notebook_metadata_filter": "-all",
   "text_representation": {
    "extension": ".py",
    "format_name": "percent"
   }
  },
  "language_info": {
   "codemirror_mode": {
    "name": "ipython",
    "version": 3
   },
   "file_extension": ".py",
   "mimetype": "text/x-python",
   "name": "python",
   "nbconvert_exporter": "python",
   "pygments_lexer": "ipython3",
   "version": "3.9.19"
  }
 },
 "nbformat": 4,
 "nbformat_minor": 5
}
