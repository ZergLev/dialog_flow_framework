{
 "cells": [
  {
   "cell_type": "markdown",
   "id": "e02f201c",
   "metadata": {
    "cell_marker": "\"\"\"",
    "lines_to_next_cell": 2
   },
   "source": [
    "# Telegram: 2. Buttons\n",
    "\n",
    "This tutorial shows how to display and hide a basic keyboard in Telegram.\n",
    "\n",
    "Here, [TelegramMessage](../apiref/dff.messengers.telegram.message.rst#dff.messengers.telegram.message.TelegramMessage)\n",
    "class is used to represent telegram message,\n",
    "[TelegramUI](../apiref/dff.messengers.telegram.message.rst#dff.messengers.telegram.message.TelegramUI) and\n",
    "[RemoveKeyboard](../apiref/dff.messengers.telegram.message.rst#dff.messengers.telegram.message.RemoveKeyboard)\n",
    "classes are used for configuring additional telegram message features.\n",
    "\n",
    "Different [message](../apiref/dff.script.core.message.rst#dff.script.core.message.message)\n",
    "classes are used for representing different common message features,\n",
    "like Attachment, Audio, Button, Image, etc."
   ]
  },
  {
   "cell_type": "code",
   "execution_count": 1,
   "id": "83145bad",
   "metadata": {
    "execution": {
     "iopub.execute_input": "2024-04-21T11:22:22.909107Z",
     "iopub.status.busy": "2024-04-21T11:22:22.908293Z",
     "iopub.status.idle": "2024-04-21T11:22:25.049962Z",
     "shell.execute_reply": "2024-04-21T11:22:25.049072Z"
    }
   },
   "outputs": [
    {
     "name": "stdout",
     "output_type": "stream",
     "text": [
      "Note: you may need to restart the kernel to use updated packages.\n"
     ]
    }
   ],
   "source": [
    "# installing dependencies\n",
    "%pip install -q dff[telegram]"
   ]
  },
  {
   "cell_type": "code",
   "execution_count": 2,
   "id": "34466a2c",
   "metadata": {
    "execution": {
     "iopub.execute_input": "2024-04-21T11:22:25.053111Z",
     "iopub.status.busy": "2024-04-21T11:22:25.052649Z",
     "iopub.status.idle": "2024-04-21T11:22:25.773739Z",
     "shell.execute_reply": "2024-04-21T11:22:25.773011Z"
    },
    "lines_to_next_cell": 2
   },
   "outputs": [],
   "source": [
    "import os\n",
    "\n",
    "import dff.script.conditions as cnd\n",
    "from dff.script import TRANSITIONS, RESPONSE\n",
    "from dff.script.core.message import Button\n",
    "from dff.pipeline import Pipeline\n",
    "from dff.messengers.telegram import (\n",
    "    PollingTelegramInterface,\n",
    "    TelegramUI,\n",
    "    TelegramMessage,\n",
    "    RemoveKeyboard,\n",
    ")\n",
    "from dff.utils.testing.common import is_interactive_mode"
   ]
  },
  {
   "cell_type": "markdown",
   "id": "8d74b3c7",
   "metadata": {
    "cell_marker": "\"\"\"",
    "lines_to_next_cell": 2
   },
   "source": [
    "To display or hide a keyboard, you can utilize the `ui` field of the\n",
    "`TelegramMessage` class. It can be initialized either with\n",
    "a `TelegramUI` instance or with a custom telebot keyboard.\n",
    "\n",
    "Passing an instance of `RemoveKeyboard` to the `ui` field\n",
    "will indicate that the keyboard should be removed."
   ]
  },
  {
   "cell_type": "code",
   "execution_count": 3,
   "id": "e3af248e",
   "metadata": {
    "execution": {
     "iopub.execute_input": "2024-04-21T11:22:25.777222Z",
     "iopub.status.busy": "2024-04-21T11:22:25.776630Z",
     "iopub.status.idle": "2024-04-21T11:22:25.787629Z",
     "shell.execute_reply": "2024-04-21T11:22:25.787019Z"
    },
    "lines_to_next_cell": 2
   },
   "outputs": [],
   "source": [
    "script = {\n",
    "    \"root\": {\n",
    "        \"start\": {\n",
    "            TRANSITIONS: {\n",
    "                (\"general\", \"native_keyboard\"): (\n",
    "                    lambda ctx, _: ctx.last_request.text\n",
    "                    in (\"/start\", \"/restart\")\n",
    "                ),\n",
    "            },\n",
    "        },\n",
    "        \"fallback\": {\n",
    "            RESPONSE: TelegramMessage(\n",
    "                text=\"Finishing test, send /restart command to restart\"\n",
    "            ),\n",
    "            TRANSITIONS: {\n",
    "                (\"general\", \"native_keyboard\"): (\n",
    "                    lambda ctx, _: ctx.last_request.text\n",
    "                    in (\"/start\", \"/restart\")\n",
    "                ),\n",
    "            },\n",
    "        },\n",
    "    },\n",
    "    \"general\": {\n",
    "        \"native_keyboard\": {\n",
    "            RESPONSE: TelegramMessage(\n",
    "                text=\"Question: What's 2 + 2?\",\n",
    "                # In this case, we use telegram-specific classes.\n",
    "                # They derive from the generic ones and include more options,\n",
    "                # e.g. simple keyboard or inline keyboard.\n",
    "                ui=TelegramUI(\n",
    "                    buttons=[\n",
    "                        Button(text=\"5\"),\n",
    "                        Button(text=\"4\"),\n",
    "                    ],\n",
    "                    is_inline=False,\n",
    "                    row_width=4,\n",
    "                ),\n",
    "            ),\n",
    "            TRANSITIONS: {\n",
    "                (\"general\", \"success\"): cnd.exact_match(\n",
    "                    TelegramMessage(text=\"4\")\n",
    "                ),\n",
    "                (\"general\", \"fail\"): cnd.true(),\n",
    "            },\n",
    "        },\n",
    "        \"success\": {\n",
    "            RESPONSE: TelegramMessage(\n",
    "                **{\"text\": \"Success!\", \"ui\": RemoveKeyboard()}\n",
    "            ),\n",
    "            TRANSITIONS: {(\"root\", \"fallback\"): cnd.true()},\n",
    "        },\n",
    "        \"fail\": {\n",
    "            RESPONSE: TelegramMessage(\n",
    "                **{\n",
    "                    \"text\": \"Incorrect answer, type anything to try again\",\n",
    "                    \"ui\": RemoveKeyboard(),\n",
    "                }\n",
    "            ),\n",
    "            TRANSITIONS: {(\"general\", \"native_keyboard\"): cnd.true()},\n",
    "        },\n",
    "    },\n",
    "}\n",
    "\n",
    "interface = PollingTelegramInterface(token=os.environ[\"TG_BOT_TOKEN\"])\n",
    "\n",
    "# this variable is only for testing\n",
    "happy_path = (\n",
    "    (\n",
    "        TelegramMessage(text=\"/start\"),\n",
    "        TelegramMessage(\n",
    "            text=\"Question: What's 2 + 2?\",\n",
    "            ui=TelegramUI(\n",
    "                buttons=[\n",
    "                    Button(text=\"5\"),\n",
    "                    Button(text=\"4\"),\n",
    "                ],\n",
    "                is_inline=False,\n",
    "                row_width=4,\n",
    "            ),\n",
    "        ),\n",
    "    ),\n",
    "    (\n",
    "        TelegramMessage(text=\"5\"),\n",
    "        TelegramMessage(\n",
    "            text=\"Incorrect answer, type anything to try again\",\n",
    "            ui=RemoveKeyboard(),\n",
    "        ),\n",
    "    ),\n",
    "    (\n",
    "        TelegramMessage(text=\"ok\"),\n",
    "        TelegramMessage(\n",
    "            text=\"Question: What's 2 + 2?\",\n",
    "            ui=TelegramUI(\n",
    "                buttons=[\n",
    "                    Button(text=\"5\"),\n",
    "                    Button(text=\"4\"),\n",
    "                ],\n",
    "                is_inline=False,\n",
    "                row_width=4,\n",
    "            ),\n",
    "        ),\n",
    "    ),\n",
    "    (\n",
    "        TelegramMessage(text=\"4\"),\n",
    "        TelegramMessage(text=\"Success!\", ui=RemoveKeyboard()),\n",
    "    ),\n",
    "    (\n",
    "        TelegramMessage(text=\"Yay!\"),\n",
    "        TelegramMessage(\n",
    "            text=\"Finishing test, send /restart command to restart\"\n",
    "        ),\n",
    "    ),\n",
    "    (\n",
    "        TelegramMessage(text=\"/start\"),\n",
    "        TelegramMessage(\n",
    "            text=\"Question: What's 2 + 2?\",\n",
    "            ui=TelegramUI(\n",
    "                buttons=[\n",
    "                    Button(text=\"5\"),\n",
    "                    Button(text=\"4\"),\n",
    "                ],\n",
    "                is_inline=False,\n",
    "                row_width=4,\n",
    "            ),\n",
    "        ),\n",
    "    ),\n",
    ")"
   ]
  },
  {
   "cell_type": "code",
   "execution_count": 4,
   "id": "559fd4fe",
   "metadata": {
    "execution": {
     "iopub.execute_input": "2024-04-21T11:22:25.790281Z",
     "iopub.status.busy": "2024-04-21T11:22:25.790074Z",
     "iopub.status.idle": "2024-04-21T11:22:25.794168Z",
     "shell.execute_reply": "2024-04-21T11:22:25.793588Z"
    }
   },
   "outputs": [],
   "source": [
    "pipeline = Pipeline.from_script(\n",
    "    script=script,\n",
    "    start_label=(\"root\", \"start\"),\n",
    "    fallback_label=(\"root\", \"fallback\"),\n",
    "    messenger_interface=interface,\n",
    ")\n",
    "\n",
    "\n",
    "def main():\n",
    "    pipeline.run()\n",
    "\n",
    "\n",
    "if __name__ == \"__main__\" and is_interactive_mode():\n",
    "    # prevent run during doc building\n",
    "    main()"
   ]
  }
 ],
 "metadata": {
  "jupytext": {
   "cell_metadata_filter": "-all",
   "main_language": "python",
   "notebook_metadata_filter": "-all",
   "text_representation": {
    "extension": ".py",
    "format_name": "percent"
   }
  },
  "language_info": {
   "codemirror_mode": {
    "name": "ipython",
    "version": 3
   },
   "file_extension": ".py",
   "mimetype": "text/x-python",
   "name": "python",
   "nbconvert_exporter": "python",
   "pygments_lexer": "ipython3",
   "version": "3.9.19"
  }
 },
 "nbformat": 4,
 "nbformat_minor": 5
}
