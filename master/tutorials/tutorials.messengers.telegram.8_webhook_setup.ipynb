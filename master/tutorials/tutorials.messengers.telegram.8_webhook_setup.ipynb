{
 "cells": [
  {
   "cell_type": "markdown",
   "id": "df4c84c3",
   "metadata": {
    "cell_marker": "\"\"\""
   },
   "source": [
    "# Telegram: 8. Webhook Setup\n",
    "\n",
    "The following tutorial shows how to use `CallbackTelegramInterface`\n",
    "that makes your bot accessible through a public webhook.\n",
    "\n",
    "See [CallbackMessengerInterface](../apiref/dff.messengers.common.interface.rst#dff.messengers.common.interface.CallbackMessengerInterface)\n",
    "for more information."
   ]
  },
  {
   "cell_type": "code",
   "execution_count": 1,
   "id": "6a740b45",
   "metadata": {
    "execution": {
     "iopub.execute_input": "2024-04-18T16:17:25.010540Z",
     "iopub.status.busy": "2024-04-18T16:17:25.009865Z",
     "iopub.status.idle": "2024-04-18T16:17:27.224352Z",
     "shell.execute_reply": "2024-04-18T16:17:27.223576Z"
    }
   },
   "outputs": [
    {
     "name": "stdout",
     "output_type": "stream",
     "text": [
      "Note: you may need to restart the kernel to use updated packages.\n"
     ]
    }
   ],
   "source": [
    "# installing dependencies\n",
    "%pip install -q dff[telegram] flask"
   ]
  },
  {
   "cell_type": "code",
   "execution_count": 2,
   "id": "5deaf504",
   "metadata": {
    "execution": {
     "iopub.execute_input": "2024-04-18T16:17:27.227700Z",
     "iopub.status.busy": "2024-04-18T16:17:27.227262Z",
     "iopub.status.idle": "2024-04-18T16:17:27.988164Z",
     "shell.execute_reply": "2024-04-18T16:17:27.987498Z"
    },
    "lines_to_next_cell": 2
   },
   "outputs": [],
   "source": [
    "import os\n",
    "\n",
    "from dff.messengers.telegram import (\n",
    "    CallbackTelegramInterface,\n",
    ")\n",
    "from dff.pipeline import Pipeline\n",
    "from dff.utils.testing.toy_script import TOY_SCRIPT_ARGS, HAPPY_PATH\n",
    "from dff.utils.testing.common import is_interactive_mode"
   ]
  },
  {
   "cell_type": "markdown",
   "id": "1ff88ea6",
   "metadata": {
    "cell_marker": "\"\"\"",
    "lines_to_next_cell": 2
   },
   "source": [
    "To set up a webhook, you need a messenger and a web application instance.\n",
    "This class can be configured with the following parameters:\n",
    "\n",
    "* app - Flask application. You can pass an application with an arbitrary\n",
    "    number of pre-configured routes. Created automatically if not set.\n",
    "* host - application host.\n",
    "* port - application port.\n",
    "* endpoint - bot access endpoint.\n",
    "* full_uri - full public address of the endpoint. HTTPS should be enabled\n",
    "    for successful configuration."
   ]
  },
  {
   "cell_type": "code",
   "execution_count": 3,
   "id": "50b60c10",
   "metadata": {
    "execution": {
     "iopub.execute_input": "2024-04-18T16:17:27.991586Z",
     "iopub.status.busy": "2024-04-18T16:17:27.991070Z",
     "iopub.status.idle": "2024-04-18T16:17:27.995867Z",
     "shell.execute_reply": "2024-04-18T16:17:27.995238Z"
    },
    "lines_to_next_cell": 2
   },
   "outputs": [],
   "source": [
    "interface = CallbackTelegramInterface(token=os.environ[\"TG_BOT_TOKEN\"])"
   ]
  },
  {
   "cell_type": "code",
   "execution_count": 4,
   "id": "ae2b846c",
   "metadata": {
    "execution": {
     "iopub.execute_input": "2024-04-18T16:17:27.998634Z",
     "iopub.status.busy": "2024-04-18T16:17:27.998247Z",
     "iopub.status.idle": "2024-04-18T16:17:28.002671Z",
     "shell.execute_reply": "2024-04-18T16:17:28.001902Z"
    }
   },
   "outputs": [],
   "source": [
    "pipeline = Pipeline.from_script(\n",
    "    *TOY_SCRIPT_ARGS,\n",
    "    messenger_interface=interface,\n",
    "    # The interface can be passed as a pipeline argument\n",
    ")\n",
    "\n",
    "# testing\n",
    "happy_path = HAPPY_PATH\n",
    "\n",
    "\n",
    "def main():\n",
    "    pipeline.run()\n",
    "\n",
    "\n",
    "if __name__ == \"__main__\" and is_interactive_mode():\n",
    "    # prevent run during doc building\n",
    "    main()"
   ]
  }
 ],
 "metadata": {
  "jupytext": {
   "cell_metadata_filter": "-all",
   "main_language": "python",
   "notebook_metadata_filter": "-all",
   "text_representation": {
    "extension": ".py",
    "format_name": "percent"
   }
  },
  "language_info": {
   "codemirror_mode": {
    "name": "ipython",
    "version": 3
   },
   "file_extension": ".py",
   "mimetype": "text/x-python",
   "name": "python",
   "nbconvert_exporter": "python",
   "pygments_lexer": "ipython3",
   "version": "3.9.19"
  }
 },
 "nbformat": 4,
 "nbformat_minor": 5
}
