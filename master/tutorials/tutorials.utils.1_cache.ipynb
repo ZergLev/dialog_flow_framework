{
 "cells": [
  {
   "cell_type": "markdown",
   "id": "5404ba16",
   "metadata": {
    "cell_marker": "\"\"\""
   },
   "source": [
    "# 1. Cache\n",
    "\n",
    "In this tutorial use of\n",
    "[cache](../apiref/dff.utils.turn_caching.singleton_turn_caching.rst#dff.utils.turn_caching.singleton_turn_caching.cache)\n",
    "function is demonstrated.\n",
    "\n",
    "This function is used a lot like `functools.cache` function and\n",
    "helps by saving results of heavy function execution and avoiding recalculation.\n",
    "\n",
    "Caches are kept in a library-wide singleton\n",
    "and are cleared at the end of each turn."
   ]
  },
  {
   "cell_type": "code",
   "execution_count": 1,
   "id": "f2917884",
   "metadata": {
    "execution": {
     "iopub.execute_input": "2024-04-25T15:16:30.984881Z",
     "iopub.status.busy": "2024-04-25T15:16:30.984300Z",
     "iopub.status.idle": "2024-04-25T15:16:33.173836Z",
     "shell.execute_reply": "2024-04-25T15:16:33.172978Z"
    }
   },
   "outputs": [
    {
     "name": "stdout",
     "output_type": "stream",
     "text": [
      "Note: you may need to restart the kernel to use updated packages.\n"
     ]
    }
   ],
   "source": [
    "# installing dependencies\n",
    "%pip install -q dff"
   ]
  },
  {
   "cell_type": "code",
   "execution_count": 2,
   "id": "91e58fb8",
   "metadata": {
    "execution": {
     "iopub.execute_input": "2024-04-25T15:16:33.176701Z",
     "iopub.status.busy": "2024-04-25T15:16:33.176483Z",
     "iopub.status.idle": "2024-04-25T15:16:33.848613Z",
     "shell.execute_reply": "2024-04-25T15:16:33.847858Z"
    }
   },
   "outputs": [],
   "source": [
    "from dff.script.conditions import true\n",
    "from dff.script import Context, TRANSITIONS, RESPONSE, Message\n",
    "from dff.script.labels import repeat\n",
    "from dff.pipeline import Pipeline\n",
    "from dff.utils.turn_caching import cache\n",
    "from dff.utils.testing.common import (\n",
    "    check_happy_path,\n",
    "    is_interactive_mode,\n",
    "    run_interactive_mode,\n",
    ")\n",
    "\n",
    "\n",
    "external_data = {\"counter\": 0}"
   ]
  },
  {
   "cell_type": "code",
   "execution_count": 3,
   "id": "e98f15ef",
   "metadata": {
    "execution": {
     "iopub.execute_input": "2024-04-25T15:16:33.852220Z",
     "iopub.status.busy": "2024-04-25T15:16:33.851604Z",
     "iopub.status.idle": "2024-04-25T15:16:33.856498Z",
     "shell.execute_reply": "2024-04-25T15:16:33.855949Z"
    }
   },
   "outputs": [],
   "source": [
    "@cache\n",
    "def cached_response(_):\n",
    "    \"\"\"\n",
    "    This function execution result will be saved\n",
    "    for any set of given argument(s).\n",
    "    If the function will be called again\n",
    "    with the same arguments it will prevent it from execution.\n",
    "    The cached values will be used instead.\n",
    "    The cache is stored in a library-wide singleton,\n",
    "    that is cleared in the end of execution of actor and/or pipeline.\n",
    "    \"\"\"\n",
    "    external_data[\"counter\"] += 1\n",
    "    return external_data[\"counter\"]\n",
    "\n",
    "\n",
    "def response(ctx: Context, _, *__, **___) -> Message:\n",
    "    if ctx.validation:\n",
    "        return Message()\n",
    "    return Message(\n",
    "        text=f\"{cached_response(1)}-{cached_response(2)}-\"\n",
    "        f\"{cached_response(1)}-{cached_response(2)}\"\n",
    "    )"
   ]
  },
  {
   "cell_type": "code",
   "execution_count": 4,
   "id": "0b4f24e1",
   "metadata": {
    "execution": {
     "iopub.execute_input": "2024-04-25T15:16:33.859156Z",
     "iopub.status.busy": "2024-04-25T15:16:33.858743Z",
     "iopub.status.idle": "2024-04-25T15:16:33.863531Z",
     "shell.execute_reply": "2024-04-25T15:16:33.862864Z"
    },
    "lines_to_next_cell": 2
   },
   "outputs": [],
   "source": [
    "toy_script = {\n",
    "    \"flow\": {\"node1\": {TRANSITIONS: {repeat(): true()}, RESPONSE: response}}\n",
    "}\n",
    "\n",
    "happy_path = (\n",
    "    (Message(), Message(\"1-2-1-2\")),\n",
    "    (Message(), Message(\"3-4-3-4\")),\n",
    "    (Message(), Message(\"5-6-5-6\")),\n",
    ")\n",
    "\n",
    "pipeline = Pipeline.from_script(toy_script, start_label=(\"flow\", \"node1\"))"
   ]
  },
  {
   "cell_type": "code",
   "execution_count": 5,
   "id": "ac325c42",
   "metadata": {
    "execution": {
     "iopub.execute_input": "2024-04-25T15:16:33.866182Z",
     "iopub.status.busy": "2024-04-25T15:16:33.865704Z",
     "iopub.status.idle": "2024-04-25T15:16:33.877439Z",
     "shell.execute_reply": "2024-04-25T15:16:33.876801Z"
    }
   },
   "outputs": [
    {
     "name": "stdout",
     "output_type": "stream",
     "text": [
      "(user) >>> \n",
      " (bot) <<< text='1-2-1-2'\n",
      "(user) >>> \n",
      " (bot) <<< text='3-4-3-4'\n",
      "(user) >>> \n",
      " (bot) <<< text='5-6-5-6'\n"
     ]
    }
   ],
   "source": [
    "if __name__ == \"__main__\":\n",
    "    check_happy_path(pipeline, happy_path)\n",
    "    if is_interactive_mode():\n",
    "        run_interactive_mode(pipeline)"
   ]
  }
 ],
 "metadata": {
  "jupytext": {
   "cell_metadata_filter": "-all",
   "main_language": "python",
   "notebook_metadata_filter": "-all",
   "text_representation": {
    "extension": ".py",
    "format_name": "percent"
   }
  },
  "language_info": {
   "codemirror_mode": {
    "name": "ipython",
    "version": 3
   },
   "file_extension": ".py",
   "mimetype": "text/x-python",
   "name": "python",
   "nbconvert_exporter": "python",
   "pygments_lexer": "ipython3",
   "version": "3.9.19"
  }
 },
 "nbformat": 4,
 "nbformat_minor": 5
}
