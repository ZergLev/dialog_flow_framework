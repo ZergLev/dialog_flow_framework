{
 "cells": [
  {
   "cell_type": "markdown",
   "id": "d37285a1",
   "metadata": {
    "cell_marker": "\"\"\""
   },
   "source": [
    "# 6. Extra Handlers (basic)\n",
    "\n",
    "The following tutorial shows extra handlers possibilities and use cases.\n",
    "\n",
    "Here, extra handlers [BeforeHandler](../apiref/dff.pipeline.service.extra.rst#dff.pipeline.service.extra.BeforeHandler)\n",
    "and [AfterHandler](../apiref/dff.pipeline.service.extra.rst#dff.pipeline.service.extra.AfterHandler)\n",
    "are shown as additional means of data processing, attached to services."
   ]
  },
  {
   "cell_type": "code",
   "execution_count": 1,
   "id": "e88ab4b9",
   "metadata": {
    "execution": {
     "iopub.execute_input": "2024-04-19T12:52:11.747183Z",
     "iopub.status.busy": "2024-04-19T12:52:11.746731Z",
     "iopub.status.idle": "2024-04-19T12:52:13.895174Z",
     "shell.execute_reply": "2024-04-19T12:52:13.894374Z"
    }
   },
   "outputs": [
    {
     "name": "stdout",
     "output_type": "stream",
     "text": [
      "Note: you may need to restart the kernel to use updated packages.\n"
     ]
    }
   ],
   "source": [
    "# installing dependencies\n",
    "%pip install -q dff"
   ]
  },
  {
   "cell_type": "code",
   "execution_count": 2,
   "id": "15ccd36b",
   "metadata": {
    "execution": {
     "iopub.execute_input": "2024-04-19T12:52:13.898297Z",
     "iopub.status.busy": "2024-04-19T12:52:13.897868Z",
     "iopub.status.idle": "2024-04-19T12:52:14.577213Z",
     "shell.execute_reply": "2024-04-19T12:52:14.576573Z"
    }
   },
   "outputs": [],
   "source": [
    "import asyncio\n",
    "import json\n",
    "import logging\n",
    "import random\n",
    "from datetime import datetime\n",
    "\n",
    "from dff.script import Context\n",
    "\n",
    "from dff.pipeline import Pipeline, ServiceGroup, ExtraHandlerRuntimeInfo, ACTOR\n",
    "\n",
    "from dff.utils.testing.common import (\n",
    "    check_happy_path,\n",
    "    is_interactive_mode,\n",
    "    run_interactive_mode,\n",
    ")\n",
    "from dff.utils.testing.toy_script import HAPPY_PATH, TOY_SCRIPT\n",
    "\n",
    "logger = logging.getLogger(__name__)"
   ]
  },
  {
   "cell_type": "markdown",
   "id": "46878780",
   "metadata": {
    "cell_marker": "\"\"\""
   },
   "source": [
    "Extra handlers are additional function\n",
    "    lists (before-functions and/or after-functions)\n",
    "    that can be added to any `pipeline` components (service and service groups).\n",
    "Extra handlers main purpose should be service\n",
    "and service groups statistics collection.\n",
    "Extra handlers can be attached to pipeline component using\n",
    "`before_handler` and `after_handler` constructor parameter.\n",
    "\n",
    "Here 5 `heavy_service`s are run in single asynchronous service group.\n",
    "Each of them sleeps for random amount of seconds (between 0 and 0.05).\n",
    "To each of them (as well as to group)\n",
    "    time measurement extra handler is attached,\n",
    "    that writes execution time to `ctx.misc`.\n",
    "In the end `ctx.misc` is logged to info channel."
   ]
  },
  {
   "cell_type": "code",
   "execution_count": 3,
   "id": "5fc10be4",
   "metadata": {
    "execution": {
     "iopub.execute_input": "2024-04-19T12:52:14.580757Z",
     "iopub.status.busy": "2024-04-19T12:52:14.580141Z",
     "iopub.status.idle": "2024-04-19T12:52:14.585286Z",
     "shell.execute_reply": "2024-04-19T12:52:14.584601Z"
    }
   },
   "outputs": [],
   "source": [
    "def collect_timestamp_before(ctx: Context, _, info: ExtraHandlerRuntimeInfo):\n",
    "    ctx.misc.update({f\"{info.component.name}\": datetime.now()})\n",
    "\n",
    "\n",
    "def collect_timestamp_after(ctx: Context, _, info: ExtraHandlerRuntimeInfo):\n",
    "    ctx.misc.update(\n",
    "        {\n",
    "            f\"{info.component.name}\": datetime.now()\n",
    "            - ctx.misc[f\"{info.component.name}\"]\n",
    "        }\n",
    "    )\n",
    "\n",
    "\n",
    "async def heavy_service(_):\n",
    "    await asyncio.sleep(random.randint(0, 5) / 100)\n",
    "\n",
    "\n",
    "def logging_service(ctx: Context):\n",
    "    logger.info(f\"Context misc: {json.dumps(ctx.misc, indent=4, default=str)}\")"
   ]
  },
  {
   "cell_type": "code",
   "execution_count": 4,
   "id": "e9b11973",
   "metadata": {
    "execution": {
     "iopub.execute_input": "2024-04-19T12:52:14.587970Z",
     "iopub.status.busy": "2024-04-19T12:52:14.587503Z",
     "iopub.status.idle": "2024-04-19T12:52:14.592788Z",
     "shell.execute_reply": "2024-04-19T12:52:14.592111Z"
    }
   },
   "outputs": [],
   "source": [
    "pipeline_dict = {\n",
    "    \"script\": TOY_SCRIPT,\n",
    "    \"start_label\": (\"greeting_flow\", \"start_node\"),\n",
    "    \"fallback_label\": (\"greeting_flow\", \"fallback_node\"),\n",
    "    \"components\": [\n",
    "        ServiceGroup(\n",
    "            before_handler=[collect_timestamp_before],\n",
    "            after_handler=[collect_timestamp_after],\n",
    "            components=[\n",
    "                {\n",
    "                    \"handler\": heavy_service,\n",
    "                    \"before_handler\": [collect_timestamp_before],\n",
    "                    \"after_handler\": [collect_timestamp_after],\n",
    "                },\n",
    "                {\n",
    "                    \"handler\": heavy_service,\n",
    "                    \"before_handler\": [collect_timestamp_before],\n",
    "                    \"after_handler\": [collect_timestamp_after],\n",
    "                },\n",
    "                {\n",
    "                    \"handler\": heavy_service,\n",
    "                    \"before_handler\": [collect_timestamp_before],\n",
    "                    \"after_handler\": [collect_timestamp_after],\n",
    "                },\n",
    "                {\n",
    "                    \"handler\": heavy_service,\n",
    "                    \"before_handler\": [collect_timestamp_before],\n",
    "                    \"after_handler\": [collect_timestamp_after],\n",
    "                },\n",
    "                {\n",
    "                    \"handler\": heavy_service,\n",
    "                    \"before_handler\": [collect_timestamp_before],\n",
    "                    \"after_handler\": [collect_timestamp_after],\n",
    "                },\n",
    "            ],\n",
    "        ),\n",
    "        ACTOR,\n",
    "        logging_service,\n",
    "    ],\n",
    "}"
   ]
  },
  {
   "cell_type": "code",
   "execution_count": 5,
   "id": "7388c26c",
   "metadata": {
    "execution": {
     "iopub.execute_input": "2024-04-19T12:52:14.595322Z",
     "iopub.status.busy": "2024-04-19T12:52:14.594959Z",
     "iopub.status.idle": "2024-04-19T12:52:14.803855Z",
     "shell.execute_reply": "2024-04-19T12:52:14.803117Z"
    }
   },
   "outputs": [
    {
     "name": "stdout",
     "output_type": "stream",
     "text": [
      "(user) >>> text='Hi'\n",
      " (bot) <<< text='Hi, how are you?'\n",
      "(user) >>> text='i'm fine, how are you?'\n",
      " (bot) <<< text='Good. What do you want to talk about?'\n",
      "(user) >>> text='Let's talk about music.'\n",
      " (bot) <<< text='Sorry, I can not talk about music now.'\n",
      "(user) >>> text='Ok, goodbye.'\n",
      " (bot) <<< text='bye'\n",
      "(user) >>> text='Hi'\n",
      " (bot) <<< text='Hi, how are you?'\n"
     ]
    }
   ],
   "source": [
    "pipeline = Pipeline(**pipeline_dict)\n",
    "\n",
    "if __name__ == \"__main__\":\n",
    "    check_happy_path(pipeline, HAPPY_PATH)\n",
    "    if is_interactive_mode():\n",
    "        run_interactive_mode(pipeline)"
   ]
  }
 ],
 "metadata": {
  "jupytext": {
   "cell_metadata_filter": "-all",
   "main_language": "python",
   "notebook_metadata_filter": "-all",
   "text_representation": {
    "extension": ".py",
    "format_name": "percent"
   }
  },
  "language_info": {
   "codemirror_mode": {
    "name": "ipython",
    "version": 3
   },
   "file_extension": ".py",
   "mimetype": "text/x-python",
   "name": "python",
   "nbconvert_exporter": "python",
   "pygments_lexer": "ipython3",
   "version": "3.9.19"
  }
 },
 "nbformat": 4,
 "nbformat_minor": 5
}
