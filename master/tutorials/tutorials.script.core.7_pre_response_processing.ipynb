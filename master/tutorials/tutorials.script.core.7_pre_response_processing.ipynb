{
 "cells": [
  {
   "cell_type": "markdown",
   "id": "0241823b",
   "metadata": {
    "cell_marker": "\"\"\""
   },
   "source": [
    "# Core: 7. Pre-response processing\n",
    "\n",
    "This tutorial shows pre-response processing feature.\n",
    "\n",
    "Here, [PRE_RESPONSE_PROCESSING](../apiref/dff.script.core.keywords.rst#dff.script.core.keywords.Keywords.PRE_RESPONSE_PROCESSING)\n",
    "is demonstrated which can be used for\n",
    "additional context processing before response handlers.\n",
    "\n",
    "There are also some other [Keywords](../apiref/dff.script.core.keywords.rst#dff.script.core.keywords.Keywords)\n",
    "worth attention used in this tutorial.\n",
    "\n",
    "First of all, let's do all the necessary imports from DFF."
   ]
  },
  {
   "cell_type": "code",
   "execution_count": 1,
   "id": "54f29f3d",
   "metadata": {
    "execution": {
     "iopub.execute_input": "2024-04-18T14:45:12.043812Z",
     "iopub.status.busy": "2024-04-18T14:45:12.042303Z",
     "iopub.status.idle": "2024-04-18T14:45:14.183286Z",
     "shell.execute_reply": "2024-04-18T14:45:14.182290Z"
    }
   },
   "outputs": [
    {
     "name": "stdout",
     "output_type": "stream",
     "text": [
      "Note: you may need to restart the kernel to use updated packages.\n"
     ]
    }
   ],
   "source": [
    "# installing dependencies\n",
    "%pip install -q dff"
   ]
  },
  {
   "cell_type": "code",
   "execution_count": 2,
   "id": "a4cd3b46",
   "metadata": {
    "execution": {
     "iopub.execute_input": "2024-04-18T14:45:14.186669Z",
     "iopub.status.busy": "2024-04-18T14:45:14.186179Z",
     "iopub.status.idle": "2024-04-18T14:45:14.897217Z",
     "shell.execute_reply": "2024-04-18T14:45:14.896559Z"
    }
   },
   "outputs": [],
   "source": [
    "from dff.script import (\n",
    "    GLOBAL,\n",
    "    LOCAL,\n",
    "    RESPONSE,\n",
    "    TRANSITIONS,\n",
    "    PRE_RESPONSE_PROCESSING,\n",
    "    Context,\n",
    "    Message,\n",
    ")\n",
    "import dff.script.labels as lbl\n",
    "import dff.script.conditions as cnd\n",
    "\n",
    "from dff.pipeline import Pipeline\n",
    "from dff.utils.testing.common import (\n",
    "    check_happy_path,\n",
    "    is_interactive_mode,\n",
    "    run_interactive_mode,\n",
    ")"
   ]
  },
  {
   "cell_type": "code",
   "execution_count": 3,
   "id": "75dddd52",
   "metadata": {
    "execution": {
     "iopub.execute_input": "2024-04-18T14:45:14.900504Z",
     "iopub.status.busy": "2024-04-18T14:45:14.899990Z",
     "iopub.status.idle": "2024-04-18T14:45:14.904137Z",
     "shell.execute_reply": "2024-04-18T14:45:14.903503Z"
    }
   },
   "outputs": [],
   "source": [
    "def add_prefix(prefix):\n",
    "    def add_prefix_processing(ctx: Context, _: Pipeline):\n",
    "        processed_node = ctx.current_node\n",
    "        processed_node.response = Message(\n",
    "            text=f\"{prefix}: {processed_node.response.text}\"\n",
    "        )\n",
    "\n",
    "    return add_prefix_processing"
   ]
  },
  {
   "cell_type": "markdown",
   "id": "c8ba13e0",
   "metadata": {
    "cell_marker": "\"\"\"",
    "lines_to_next_cell": 2
   },
   "source": [
    "`PRE_RESPONSE_PROCESSING` is a keyword that\n",
    "can be used in `GLOBAL`, `LOCAL` or nodes."
   ]
  },
  {
   "cell_type": "code",
   "execution_count": 4,
   "id": "c1648f06",
   "metadata": {
    "execution": {
     "iopub.execute_input": "2024-04-18T14:45:14.906836Z",
     "iopub.status.busy": "2024-04-18T14:45:14.906410Z",
     "iopub.status.idle": "2024-04-18T14:45:14.914547Z",
     "shell.execute_reply": "2024-04-18T14:45:14.913862Z"
    },
    "lines_to_next_cell": 2
   },
   "outputs": [],
   "source": [
    "toy_script = {\n",
    "    \"root\": {\n",
    "        \"start\": {\n",
    "            RESPONSE: Message(),\n",
    "            TRANSITIONS: {(\"flow\", \"step_0\"): cnd.true()},\n",
    "        },\n",
    "        \"fallback\": {RESPONSE: Message(\"the end\")},\n",
    "    },\n",
    "    GLOBAL: {\n",
    "        PRE_RESPONSE_PROCESSING: {\n",
    "            \"proc_name_1\": add_prefix(\"l1_global\"),\n",
    "            \"proc_name_2\": add_prefix(\"l2_global\"),\n",
    "        }\n",
    "    },\n",
    "    \"flow\": {\n",
    "        LOCAL: {\n",
    "            PRE_RESPONSE_PROCESSING: {\n",
    "                \"proc_name_2\": add_prefix(\"l2_local\"),\n",
    "                \"proc_name_3\": add_prefix(\"l3_local\"),\n",
    "            }\n",
    "        },\n",
    "        \"step_0\": {\n",
    "            RESPONSE: Message(\"first\"),\n",
    "            TRANSITIONS: {lbl.forward(): cnd.true()},\n",
    "        },\n",
    "        \"step_1\": {\n",
    "            PRE_RESPONSE_PROCESSING: {\"proc_name_1\": add_prefix(\"l1_step_1\")},\n",
    "            RESPONSE: Message(\"second\"),\n",
    "            TRANSITIONS: {lbl.forward(): cnd.true()},\n",
    "        },\n",
    "        \"step_2\": {\n",
    "            PRE_RESPONSE_PROCESSING: {\"proc_name_2\": add_prefix(\"l2_step_2\")},\n",
    "            RESPONSE: Message(\"third\"),\n",
    "            TRANSITIONS: {lbl.forward(): cnd.true()},\n",
    "        },\n",
    "        \"step_3\": {\n",
    "            PRE_RESPONSE_PROCESSING: {\"proc_name_3\": add_prefix(\"l3_step_3\")},\n",
    "            RESPONSE: Message(\"fourth\"),\n",
    "            TRANSITIONS: {lbl.forward(): cnd.true()},\n",
    "        },\n",
    "        \"step_4\": {\n",
    "            PRE_RESPONSE_PROCESSING: {\"proc_name_4\": add_prefix(\"l4_step_4\")},\n",
    "            RESPONSE: Message(\"fifth\"),\n",
    "            TRANSITIONS: {\"step_0\": cnd.true()},\n",
    "        },\n",
    "    },\n",
    "}\n",
    "\n",
    "\n",
    "# testing\n",
    "happy_path = (\n",
    "    (Message(), Message(\"l3_local: l2_local: l1_global: first\")),\n",
    "    (Message(), Message(\"l3_local: l2_local: l1_step_1: second\")),\n",
    "    (Message(), Message(\"l3_local: l2_step_2: l1_global: third\")),\n",
    "    (Message(), Message(\"l3_step_3: l2_local: l1_global: fourth\")),\n",
    "    (\n",
    "        Message(),\n",
    "        Message(\"l4_step_4: l3_local: l2_local: l1_global: fifth\"),\n",
    "    ),\n",
    "    (Message(), Message(\"l3_local: l2_local: l1_global: first\")),\n",
    ")"
   ]
  },
  {
   "cell_type": "code",
   "execution_count": 5,
   "id": "aa3ea6d2",
   "metadata": {
    "execution": {
     "iopub.execute_input": "2024-04-18T14:45:14.917581Z",
     "iopub.status.busy": "2024-04-18T14:45:14.917062Z",
     "iopub.status.idle": "2024-04-18T14:45:14.933827Z",
     "shell.execute_reply": "2024-04-18T14:45:14.933115Z"
    }
   },
   "outputs": [
    {
     "name": "stdout",
     "output_type": "stream",
     "text": [
      "(user) >>> \n",
      " (bot) <<< text='l3_local: l2_local: l1_global: first'\n",
      "(user) >>> \n",
      " (bot) <<< text='l3_local: l2_local: l1_step_1: second'\n",
      "(user) >>> \n",
      " (bot) <<< text='l3_local: l2_step_2: l1_global: third'\n",
      "(user) >>> \n",
      " (bot) <<< text='l3_step_3: l2_local: l1_global: fourth'\n",
      "(user) >>> \n",
      " (bot) <<< text='l4_step_4: l3_local: l2_local: l1_global: fifth'\n",
      "(user) >>> \n",
      " (bot) <<< text='l3_local: l2_local: l1_global: first'\n"
     ]
    }
   ],
   "source": [
    "pipeline = Pipeline.from_script(\n",
    "    toy_script,\n",
    "    start_label=(\"root\", \"start\"),\n",
    "    fallback_label=(\"root\", \"fallback\"),\n",
    ")\n",
    "\n",
    "if __name__ == \"__main__\":\n",
    "    check_happy_path(pipeline, happy_path)\n",
    "    if is_interactive_mode():\n",
    "        run_interactive_mode(pipeline)"
   ]
  }
 ],
 "metadata": {
  "jupytext": {
   "cell_metadata_filter": "-all",
   "main_language": "python",
   "notebook_metadata_filter": "-all",
   "text_representation": {
    "extension": ".py",
    "format_name": "percent"
   }
  },
  "language_info": {
   "codemirror_mode": {
    "name": "ipython",
    "version": 3
   },
   "file_extension": ".py",
   "mimetype": "text/x-python",
   "name": "python",
   "nbconvert_exporter": "python",
   "pygments_lexer": "ipython3",
   "version": "3.9.19"
  }
 },
 "nbformat": 4,
 "nbformat_minor": 5
}
