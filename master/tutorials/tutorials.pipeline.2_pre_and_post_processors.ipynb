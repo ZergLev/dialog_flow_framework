{
 "cells": [
  {
   "cell_type": "markdown",
   "id": "b91e150d",
   "metadata": {
    "cell_marker": "\"\"\""
   },
   "source": [
    "# 2. Pre- and postprocessors\n",
    "\n",
    "The following tutorial shows more advanced usage of `pipeline`\n",
    "module as an extension to `dff.script.core`.\n",
    "\n",
    "Here, [misc](../apiref/dff.script.core.context.rst#dff.script.core.context.Context.misc)\n",
    "dictionary of context is used for storing additional data."
   ]
  },
  {
   "cell_type": "code",
   "execution_count": 1,
   "id": "c908716c",
   "metadata": {
    "execution": {
     "iopub.execute_input": "2024-04-27T03:41:24.226650Z",
     "iopub.status.busy": "2024-04-27T03:41:24.226432Z",
     "iopub.status.idle": "2024-04-27T03:41:26.378228Z",
     "shell.execute_reply": "2024-04-27T03:41:26.377406Z"
    }
   },
   "outputs": [
    {
     "name": "stdout",
     "output_type": "stream",
     "text": [
      "Note: you may need to restart the kernel to use updated packages.\n"
     ]
    }
   ],
   "source": [
    "# installing dependencies\n",
    "%pip install -q dff"
   ]
  },
  {
   "cell_type": "code",
   "execution_count": 2,
   "id": "e9f6cb2e",
   "metadata": {
    "execution": {
     "iopub.execute_input": "2024-04-27T03:41:26.381088Z",
     "iopub.status.busy": "2024-04-27T03:41:26.380861Z",
     "iopub.status.idle": "2024-04-27T03:41:27.038011Z",
     "shell.execute_reply": "2024-04-27T03:41:27.037384Z"
    },
    "lines_to_next_cell": 2
   },
   "outputs": [],
   "source": [
    "import logging\n",
    "\n",
    "from dff.messengers.common import CLIMessengerInterface\n",
    "from dff.script import Context, Message\n",
    "\n",
    "from dff.pipeline import Pipeline\n",
    "\n",
    "from dff.utils.testing import (\n",
    "    check_happy_path,\n",
    "    is_interactive_mode,\n",
    "    HAPPY_PATH,\n",
    "    TOY_SCRIPT_ARGS,\n",
    ")\n",
    "\n",
    "logger = logging.getLogger(__name__)"
   ]
  },
  {
   "cell_type": "markdown",
   "id": "75b2a98d",
   "metadata": {
    "cell_marker": "\"\"\""
   },
   "source": [
    "When Pipeline is created with `from_script` method, additional pre-\n",
    "and postprocessors can be defined.\n",
    "These can be any `ServiceBuilder` objects (defined in `types` module)\n",
    "- callables, objects or dicts.\n",
    "They are being turned into special `Service` objects (see tutorial 3),\n",
    "that will be run before or after `Actor` respectively.\n",
    "These services can be used to access external APIs, annotate user input, etc.\n",
    "\n",
    "Service callable signature can be one of the following:\n",
    "`[ctx]`, `[ctx, pipeline]` or `[ctx, actor, info]` (see tutorial 3),\n",
    "where:\n",
    "\n",
    "* `ctx` - Context of the current dialog.\n",
    "* `pipeline` - The current pipeline.\n",
    "* `info` - dictionary, containing information about\n",
    "        current service and pipeline execution state (see tutorial 4).\n",
    "\n",
    "Here a preprocessor (\"ping\") and a postprocessor (\"pong\") are added to pipeline.\n",
    "They share data in `context.misc` -\n",
    "a common place for sharing data between services and actor."
   ]
  },
  {
   "cell_type": "code",
   "execution_count": 3,
   "id": "e1549e0b",
   "metadata": {
    "execution": {
     "iopub.execute_input": "2024-04-27T03:41:27.041207Z",
     "iopub.status.busy": "2024-04-27T03:41:27.040744Z",
     "iopub.status.idle": "2024-04-27T03:41:27.044535Z",
     "shell.execute_reply": "2024-04-27T03:41:27.043816Z"
    }
   },
   "outputs": [],
   "source": [
    "def ping_processor(ctx: Context):\n",
    "    ctx.misc[\"ping\"] = True\n",
    "\n",
    "\n",
    "def pong_processor(ctx: Context):\n",
    "    ping = ctx.misc.get(\"ping\", False)\n",
    "    ctx.misc[\"pong\"] = ping"
   ]
  },
  {
   "cell_type": "code",
   "execution_count": 4,
   "id": "62f8cc9b",
   "metadata": {
    "execution": {
     "iopub.execute_input": "2024-04-27T03:41:27.047301Z",
     "iopub.status.busy": "2024-04-27T03:41:27.046920Z",
     "iopub.status.idle": "2024-04-27T03:41:27.065019Z",
     "shell.execute_reply": "2024-04-27T03:41:27.064358Z"
    }
   },
   "outputs": [
    {
     "name": "stdout",
     "output_type": "stream",
     "text": [
      "(user) >>> text='Hi'\n",
      " (bot) <<< text='Hi, how are you?'\n",
      "(user) >>> text='i'm fine, how are you?'\n",
      " (bot) <<< text='Good. What do you want to talk about?'\n",
      "(user) >>> text='Let's talk about music.'\n",
      " (bot) <<< text='Sorry, I can not talk about music now.'\n",
      "(user) >>> text='Ok, goodbye.'\n",
      " (bot) <<< text='bye'\n",
      "(user) >>> text='Hi'\n",
      " (bot) <<< text='Hi, how are you?'\n"
     ]
    }
   ],
   "source": [
    "pipeline = Pipeline.from_script(\n",
    "    *TOY_SCRIPT_ARGS,\n",
    "    context_storage={},  # `context_storage` - a dictionary or\n",
    "    # a `DBContextStorage` instance,\n",
    "    # a place to store dialog contexts\n",
    "    messenger_interface=CLIMessengerInterface(),\n",
    "    # `messenger_interface` - a message channel adapter,\n",
    "    # it's not used in this tutorial\n",
    "    pre_services=[ping_processor],\n",
    "    post_services=[pong_processor],\n",
    ")\n",
    "\n",
    "\n",
    "if __name__ == \"__main__\":\n",
    "    check_happy_path(pipeline, HAPPY_PATH)\n",
    "    if is_interactive_mode():\n",
    "        ctx_id = 0  # 0 will be current dialog (context) identification.\n",
    "        while True:\n",
    "            message = Message(input(\"Send request: \"))\n",
    "            ctx: Context = pipeline(message, ctx_id)\n",
    "            print(f\"Response: {ctx.last_response}\")\n",
    "            ping_pong = ctx.misc.get(\"ping\", False) and ctx.misc.get(\n",
    "                \"pong\", False\n",
    "            )\n",
    "            print(\n",
    "                f\"Ping-pong exchange: {'completed' if ping_pong else 'failed'}.\"\n",
    "            )\n",
    "            logger.info(f\"Context misc: {ctx.misc}\")"
   ]
  }
 ],
 "metadata": {
  "jupytext": {
   "cell_metadata_filter": "-all",
   "main_language": "python",
   "notebook_metadata_filter": "-all",
   "text_representation": {
    "extension": ".py",
    "format_name": "percent"
   }
  },
  "language_info": {
   "codemirror_mode": {
    "name": "ipython",
    "version": 3
   },
   "file_extension": ".py",
   "mimetype": "text/x-python",
   "name": "python",
   "nbconvert_exporter": "python",
   "pygments_lexer": "ipython3",
   "version": "3.9.19"
  }
 },
 "nbformat": 4,
 "nbformat_minor": 5
}
