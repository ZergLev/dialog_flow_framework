{
 "cells": [
  {
   "cell_type": "markdown",
   "id": "57002987",
   "metadata": {
    "cell_marker": "\"\"\""
   },
   "source": [
    "# 2. Pre- and postprocessors\n",
    "\n",
    "The following tutorial shows more advanced usage of `pipeline`\n",
    "module as an extension to `dff.script.core`.\n",
    "\n",
    "Here, [misc](../apiref/dff.script.core.context.rst#dff.script.core.context.Context.misc)\n",
    "dictionary of context is used for storing additional data."
   ]
  },
  {
   "cell_type": "code",
   "execution_count": 1,
   "id": "9c17fc08",
   "metadata": {
    "execution": {
     "iopub.execute_input": "2024-04-18T12:51:23.377044Z",
     "iopub.status.busy": "2024-04-18T12:51:23.376261Z",
     "iopub.status.idle": "2024-04-18T12:51:25.921334Z",
     "shell.execute_reply": "2024-04-18T12:51:25.920513Z"
    }
   },
   "outputs": [
    {
     "name": "stdout",
     "output_type": "stream",
     "text": [
      "Note: you may need to restart the kernel to use updated packages.\n"
     ]
    }
   ],
   "source": [
    "# installing dependencies\n",
    "%pip install -q dff"
   ]
  },
  {
   "cell_type": "code",
   "execution_count": 2,
   "id": "7ccd1547",
   "metadata": {
    "execution": {
     "iopub.execute_input": "2024-04-18T12:51:25.925108Z",
     "iopub.status.busy": "2024-04-18T12:51:25.924857Z",
     "iopub.status.idle": "2024-04-18T12:51:26.680450Z",
     "shell.execute_reply": "2024-04-18T12:51:26.679655Z"
    },
    "lines_to_next_cell": 2
   },
   "outputs": [],
   "source": [
    "import logging\n",
    "\n",
    "from dff.messengers.common import CLIMessengerInterface\n",
    "from dff.script import Context, Message\n",
    "\n",
    "from dff.pipeline import Pipeline\n",
    "\n",
    "from dff.utils.testing import (\n",
    "    check_happy_path,\n",
    "    is_interactive_mode,\n",
    "    HAPPY_PATH,\n",
    "    TOY_SCRIPT_ARGS,\n",
    ")\n",
    "\n",
    "logger = logging.getLogger(__name__)"
   ]
  },
  {
   "cell_type": "markdown",
   "id": "18a18a35",
   "metadata": {
    "cell_marker": "\"\"\""
   },
   "source": [
    "When Pipeline is created with `from_script` method, additional pre-\n",
    "and postprocessors can be defined.\n",
    "These can be any `ServiceBuilder` objects (defined in `types` module)\n",
    "- callables, objects or dicts.\n",
    "They are being turned into special `Service` objects (see tutorial 3),\n",
    "that will be run before or after `Actor` respectively.\n",
    "These services can be used to access external APIs, annotate user input, etc.\n",
    "\n",
    "Service callable signature can be one of the following:\n",
    "`[ctx]`, `[ctx, pipeline]` or `[ctx, actor, info]` (see tutorial 3),\n",
    "where:\n",
    "\n",
    "* `ctx` - Context of the current dialog.\n",
    "* `pipeline` - The current pipeline.\n",
    "* `info` - dictionary, containing information about\n",
    "        current service and pipeline execution state (see tutorial 4).\n",
    "\n",
    "Here a preprocessor (\"ping\") and a postprocessor (\"pong\") are added to pipeline.\n",
    "They share data in `context.misc` -\n",
    "a common place for sharing data between services and actor."
   ]
  },
  {
   "cell_type": "code",
   "execution_count": 3,
   "id": "39fb9442",
   "metadata": {
    "execution": {
     "iopub.execute_input": "2024-04-18T12:51:26.684361Z",
     "iopub.status.busy": "2024-04-18T12:51:26.683736Z",
     "iopub.status.idle": "2024-04-18T12:51:26.688895Z",
     "shell.execute_reply": "2024-04-18T12:51:26.688150Z"
    }
   },
   "outputs": [],
   "source": [
    "def ping_processor(ctx: Context):\n",
    "    ctx.misc[\"ping\"] = True\n",
    "\n",
    "\n",
    "def pong_processor(ctx: Context):\n",
    "    ping = ctx.misc.get(\"ping\", False)\n",
    "    ctx.misc[\"pong\"] = ping"
   ]
  },
  {
   "cell_type": "code",
   "execution_count": 4,
   "id": "3a49fb7c",
   "metadata": {
    "execution": {
     "iopub.execute_input": "2024-04-18T12:51:26.691786Z",
     "iopub.status.busy": "2024-04-18T12:51:26.691575Z",
     "iopub.status.idle": "2024-04-18T12:51:26.711734Z",
     "shell.execute_reply": "2024-04-18T12:51:26.710887Z"
    }
   },
   "outputs": [
    {
     "name": "stdout",
     "output_type": "stream",
     "text": [
      "(user) >>> text='Hi'\n",
      " (bot) <<< text='Hi, how are you?'\n",
      "(user) >>> text='i'm fine, how are you?'\n",
      " (bot) <<< text='Good. What do you want to talk about?'\n",
      "(user) >>> text='Let's talk about music.'\n",
      " (bot) <<< text='Sorry, I can not talk about music now.'\n",
      "(user) >>> text='Ok, goodbye.'\n",
      " (bot) <<< text='bye'\n",
      "(user) >>> text='Hi'\n",
      " (bot) <<< text='Hi, how are you?'\n"
     ]
    }
   ],
   "source": [
    "pipeline = Pipeline.from_script(\n",
    "    *TOY_SCRIPT_ARGS,\n",
    "    context_storage={},  # `context_storage` - a dictionary or\n",
    "    # a `DBContextStorage` instance,\n",
    "    # a place to store dialog contexts\n",
    "    messenger_interface=CLIMessengerInterface(),\n",
    "    # `messenger_interface` - a message channel adapter,\n",
    "    # it's not used in this tutorial\n",
    "    pre_services=[ping_processor],\n",
    "    post_services=[pong_processor],\n",
    ")\n",
    "\n",
    "\n",
    "if __name__ == \"__main__\":\n",
    "    check_happy_path(pipeline, HAPPY_PATH)\n",
    "    if is_interactive_mode():\n",
    "        ctx_id = 0  # 0 will be current dialog (context) identification.\n",
    "        while True:\n",
    "            message = Message(input(\"Send request: \"))\n",
    "            ctx: Context = pipeline(message, ctx_id)\n",
    "            print(f\"Response: {ctx.last_response}\")\n",
    "            ping_pong = ctx.misc.get(\"ping\", False) and ctx.misc.get(\n",
    "                \"pong\", False\n",
    "            )\n",
    "            print(\n",
    "                f\"Ping-pong exchange: {'completed' if ping_pong else 'failed'}.\"\n",
    "            )\n",
    "            logger.info(f\"Context misc: {ctx.misc}\")"
   ]
  }
 ],
 "metadata": {
  "jupytext": {
   "cell_metadata_filter": "-all",
   "main_language": "python",
   "notebook_metadata_filter": "-all",
   "text_representation": {
    "extension": ".py",
    "format_name": "percent"
   }
  },
  "language_info": {
   "codemirror_mode": {
    "name": "ipython",
    "version": 3
   },
   "file_extension": ".py",
   "mimetype": "text/x-python",
   "name": "python",
   "nbconvert_exporter": "python",
   "pygments_lexer": "ipython3",
   "version": "3.9.19"
  }
 },
 "nbformat": 4,
 "nbformat_minor": 5
}
