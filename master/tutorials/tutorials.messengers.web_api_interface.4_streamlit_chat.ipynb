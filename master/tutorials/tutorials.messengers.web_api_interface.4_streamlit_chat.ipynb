{
 "cells": [
  {
   "cell_type": "markdown",
   "id": "50699cf0",
   "metadata": {},
   "source": [
    "# Web API: 4. Streamlit chat interface\n",
    "\n",
    "This tutorial shows how to use an API endpoint created in the FastAPI tutorial\n",
    "in a Streamlit chat.\n",
    "\n",
    "A demonstration of the chat:\n",
    "![demo](https://user-images.githubusercontent.com/61429541/238721597-ef88261d-e9e6-497d-ba68-0bcc9a765808.png)"
   ]
  },
  {
   "cell_type": "code",
   "execution_count": 1,
   "id": "4b7bdf73",
   "metadata": {
    "execution": {
     "iopub.execute_input": "2024-05-02T10:27:27.135271Z",
     "iopub.status.busy": "2024-05-02T10:27:27.134628Z",
     "iopub.status.idle": "2024-05-02T10:27:29.390350Z",
     "shell.execute_reply": "2024-05-02T10:27:29.389581Z"
    }
   },
   "outputs": [
    {
     "name": "stdout",
     "output_type": "stream",
     "text": [
      "Note: you may need to restart the kernel to use updated packages.\n"
     ]
    }
   ],
   "source": [
    "# installing dependencies\n",
    "%pip install -q dff streamlit streamlit-chat"
   ]
  },
  {
   "cell_type": "markdown",
   "id": "d6b989a3",
   "metadata": {
    "lines_to_next_cell": 2
   },
   "source": [
    "## Running Streamlit:\n",
    "\n",
    "```bash\n",
    "streamlit run {file_name}\n",
    "```"
   ]
  },
  {
   "cell_type": "markdown",
   "id": "8230604a",
   "metadata": {
    "lines_to_next_cell": 2
   },
   "source": [
    "## Module and package import"
   ]
  },
  {
   "cell_type": "code",
   "execution_count": 2,
   "id": "5ce5b169",
   "metadata": {
    "execution": {
     "iopub.execute_input": "2024-05-02T10:27:29.393742Z",
     "iopub.status.busy": "2024-05-02T10:27:29.393143Z",
     "iopub.status.idle": "2024-05-02T10:27:29.397132Z",
     "shell.execute_reply": "2024-05-02T10:27:29.396595Z"
    },
    "lines_to_next_cell": 2
   },
   "outputs": [],
   "source": [
    "###########################################################\n",
    "# This patch is only needed to import Message from dff.\n",
    "# Streamlit Chat interface can be written without using it.\n",
    "import asyncio\n",
    "\n",
    "loop = asyncio.new_event_loop()\n",
    "asyncio.set_event_loop(loop)\n",
    "###########################################################"
   ]
  },
  {
   "cell_type": "code",
   "execution_count": 3,
   "id": "1f54c913",
   "metadata": {
    "execution": {
     "iopub.execute_input": "2024-05-02T10:27:29.399566Z",
     "iopub.status.busy": "2024-05-02T10:27:29.399220Z",
     "iopub.status.idle": "2024-05-02T10:27:30.380657Z",
     "shell.execute_reply": "2024-05-02T10:27:30.380055Z"
    },
    "lines_to_next_cell": 2
   },
   "outputs": [],
   "source": [
    "import uuid\n",
    "import itertools\n",
    "\n",
    "import requests\n",
    "import streamlit as st\n",
    "from streamlit_chat import message\n",
    "import streamlit.components.v1 as components\n",
    "from dff.script import Message"
   ]
  },
  {
   "cell_type": "markdown",
   "id": "071255d6",
   "metadata": {
    "lines_to_next_cell": 2
   },
   "source": [
    "## API configuration\n",
    "\n",
    "Here we define methods to contact the API endpoint."
   ]
  },
  {
   "cell_type": "code",
   "execution_count": 4,
   "id": "ac359bc4",
   "metadata": {
    "execution": {
     "iopub.execute_input": "2024-05-02T10:27:30.384060Z",
     "iopub.status.busy": "2024-05-02T10:27:30.383370Z",
     "iopub.status.idle": "2024-05-02T10:27:30.387466Z",
     "shell.execute_reply": "2024-05-02T10:27:30.386837Z"
    },
    "lines_to_next_cell": 2
   },
   "outputs": [],
   "source": [
    "API_URL = \"http://localhost:8000/chat\"\n",
    "\n",
    "\n",
    "def query(payload, user_id) -> requests.Response:\n",
    "    response = requests.post(\n",
    "        API_URL + f\"?user_id={user_id}\",\n",
    "        headers={\n",
    "            \"accept\": \"application/json\",\n",
    "            \"Content-Type\": \"application/json\",\n",
    "        },\n",
    "        json=payload,\n",
    "    )\n",
    "    return response"
   ]
  },
  {
   "cell_type": "markdown",
   "id": "9a9e7d40",
   "metadata": {
    "lines_to_next_cell": 2
   },
   "source": [
    "## Streamlit configuration\n",
    "\n",
    "Here we configure Streamlit page and initialize some session variables:\n",
    "\n",
    "1. `user_id` -- stores user_id to be used in pipeline.\n",
    "2. `bot_responses` -- a list of bot responses.\n",
    "3. `user_requests` -- a list of user requests."
   ]
  },
  {
   "cell_type": "code",
   "execution_count": 5,
   "id": "a15aa93a",
   "metadata": {
    "execution": {
     "iopub.execute_input": "2024-05-02T10:27:30.390078Z",
     "iopub.status.busy": "2024-05-02T10:27:30.389723Z",
     "iopub.status.idle": "2024-05-02T10:27:30.690776Z",
     "shell.execute_reply": "2024-05-02T10:27:30.690117Z"
    },
    "lines_to_next_cell": 2
   },
   "outputs": [
    {
     "name": "stderr",
     "output_type": "stream",
     "text": [
      "2024-05-02 10:27:30.686 \n",
      "  \u001b[33m\u001b[1mWarning:\u001b[0m to view this Streamlit app on a browser, run it with the following\n",
      "  command:\n",
      "\n",
      "    streamlit run /tmp/tmpdiqbvm36/.venv/dff-QbSmYMOo-py3.9/lib/python3.9/site-packages/ipykernel_launcher.py [ARGUMENTS]\n"
     ]
    },
    {
     "name": "stderr",
     "output_type": "stream",
     "text": [
      "2024-05-02 10:27:30.687 Session state does not function when running a script without `streamlit run`\n"
     ]
    }
   ],
   "source": [
    "st.set_page_config(page_title=\"Streamlit DFF Chat\", page_icon=\":robot:\")\n",
    "\n",
    "st.header(\"Streamlit DFF Chat\")\n",
    "\n",
    "if \"user_id\" not in st.session_state:\n",
    "    st.session_state[\"user_id\"] = str(uuid.uuid4())\n",
    "\n",
    "if \"bot_responses\" not in st.session_state:\n",
    "    st.session_state[\"bot_responses\"] = []\n",
    "\n",
    "if \"user_requests\" not in st.session_state:\n",
    "    st.session_state[\"user_requests\"] = []"
   ]
  },
  {
   "cell_type": "markdown",
   "id": "38149233",
   "metadata": {
    "lines_to_next_cell": 2
   },
   "source": [
    "## UI setup\n",
    "\n",
    "Here we configure elements that will be used\n",
    "in Streamlit to interact with the API.\n",
    "\n",
    "First we define a text input field which\n",
    "a user is supposed to type his requests into.\n",
    "Then we define a button that sends a query\n",
    "to the API, logs requests and responses,\n",
    "and clears the text field."
   ]
  },
  {
   "cell_type": "code",
   "execution_count": 6,
   "id": "5b6417bc",
   "metadata": {
    "execution": {
     "iopub.execute_input": "2024-05-02T10:27:30.693801Z",
     "iopub.status.busy": "2024-05-02T10:27:30.693301Z",
     "iopub.status.idle": "2024-05-02T10:27:30.698432Z",
     "shell.execute_reply": "2024-05-02T10:27:30.697870Z"
    }
   },
   "outputs": [],
   "source": [
    "def send_and_receive():\n",
    "    \"\"\"\n",
    "    Send text inside the input field. Receive response from API endpoint.\n",
    "\n",
    "    Add both the request and response to `user_requests` and `bot_responses`.\n",
    "\n",
    "    We do not call this function inside the `text_input.on_change` because then\n",
    "    we'd call it whenever the text field loses focus\n",
    "    (e.g. when a browser tab is switched).\n",
    "    \"\"\"\n",
    "    user_request = st.session_state[\"input\"]\n",
    "\n",
    "    if user_request == \"\":\n",
    "        return\n",
    "\n",
    "    st.session_state[\"user_requests\"].append(user_request)\n",
    "\n",
    "    bot_response = query(\n",
    "        Message(user_request).model_dump(),\n",
    "        user_id=st.session_state[\"user_id\"],\n",
    "    )\n",
    "    bot_response.raise_for_status()\n",
    "\n",
    "    bot_message = Message.model_validate(bot_response.json()[\"response\"]).text\n",
    "\n",
    "    # # Implementation without using Message:\n",
    "    # bot_response = query(\n",
    "    #     {\"text\": user_request},\n",
    "    #     user_id=st.session_state[\"user_id\"]\n",
    "    # )\n",
    "    # bot_response.raise_for_status()\n",
    "    #\n",
    "    # bot_message = bot_response.json()[\"response\"][\"text\"]\n",
    "\n",
    "    st.session_state[\"bot_responses\"].append(bot_message)\n",
    "\n",
    "    st.session_state[\"input\"] = \"\""
   ]
  },
  {
   "cell_type": "code",
   "execution_count": 7,
   "id": "6f9dfb9a",
   "metadata": {
    "execution": {
     "iopub.execute_input": "2024-05-02T10:27:30.700794Z",
     "iopub.status.busy": "2024-05-02T10:27:30.700596Z",
     "iopub.status.idle": "2024-05-02T10:27:30.707508Z",
     "shell.execute_reply": "2024-05-02T10:27:30.706870Z"
    },
    "lines_to_next_cell": 2
   },
   "outputs": [
    {
     "data": {
      "text/plain": [
       "False"
      ]
     },
     "execution_count": 7,
     "metadata": {},
     "output_type": "execute_result"
    }
   ],
   "source": [
    "st.text_input(\"You: \", key=\"input\")\n",
    "st.button(\"Send\", on_click=send_and_receive)"
   ]
  },
  {
   "cell_type": "markdown",
   "id": "6d0faa8f",
   "metadata": {
    "lines_to_next_cell": 2
   },
   "source": [
    "### Component patch\n",
    "\n",
    "Here we add a component that presses the\n",
    "`Send` button whenever user presses the `Enter` key."
   ]
  },
  {
   "cell_type": "code",
   "execution_count": 8,
   "id": "7367115b",
   "metadata": {
    "execution": {
     "iopub.execute_input": "2024-05-02T10:27:30.709937Z",
     "iopub.status.busy": "2024-05-02T10:27:30.709729Z",
     "iopub.status.idle": "2024-05-02T10:27:30.715632Z",
     "shell.execute_reply": "2024-05-02T10:27:30.714922Z"
    },
    "lines_to_next_cell": 2
   },
   "outputs": [
    {
     "data": {
      "text/plain": [
       "DeltaGenerator()"
      ]
     },
     "execution_count": 8,
     "metadata": {},
     "output_type": "execute_result"
    }
   ],
   "source": [
    "components.html(\n",
    "    \"\"\"\n",
    "<script>\n",
    "const doc = window.parent.document;\n",
    "buttons = Array.from(doc.querySelectorAll('button[kind=secondary]'));\n",
    "const send_button = buttons.find(el => el.innerText === 'Send');\n",
    "doc.addEventListener('keypress', function(e) {\n",
    "    switch (e.keyCode) {\n",
    "        case 13: // (13 = Enter key)\n",
    "            send_button.click();\n",
    "            break;\n",
    "    }\n",
    "});\n",
    "</script>\n",
    "\"\"\",\n",
    "    height=0,\n",
    "    width=0,\n",
    ")"
   ]
  },
  {
   "cell_type": "markdown",
   "id": "068f2ca9",
   "metadata": {
    "lines_to_next_cell": 2
   },
   "source": [
    "### Message display\n",
    "\n",
    "Here we use the `streamlit-chat` package to\n",
    "display user requests and bot responses."
   ]
  },
  {
   "cell_type": "code",
   "execution_count": 9,
   "id": "423524c0",
   "metadata": {
    "execution": {
     "iopub.execute_input": "2024-05-02T10:27:30.718228Z",
     "iopub.status.busy": "2024-05-02T10:27:30.717810Z",
     "iopub.status.idle": "2024-05-02T10:27:30.721804Z",
     "shell.execute_reply": "2024-05-02T10:27:30.721231Z"
    }
   },
   "outputs": [],
   "source": [
    "for i, bot_response, user_request in zip(\n",
    "    itertools.count(0),\n",
    "    st.session_state.get(\"bot_responses\", []),\n",
    "    st.session_state.get(\"user_requests\", []),\n",
    "):\n",
    "    message(user_request, key=f\"{i}_user\", is_user=True)\n",
    "    message(bot_response, key=f\"{i}_bot\")"
   ]
  }
 ],
 "metadata": {
  "jupytext": {
   "cell_metadata_filter": "-all",
   "main_language": "python",
   "notebook_metadata_filter": "-all",
   "text_representation": {
    "extension": ".py",
    "format_name": "percent"
   }
  },
  "language_info": {
   "codemirror_mode": {
    "name": "ipython",
    "version": 3
   },
   "file_extension": ".py",
   "mimetype": "text/x-python",
   "name": "python",
   "nbconvert_exporter": "python",
   "pygments_lexer": "ipython3",
   "version": "3.9.19"
  }
 },
 "nbformat": 4,
 "nbformat_minor": 5
}
