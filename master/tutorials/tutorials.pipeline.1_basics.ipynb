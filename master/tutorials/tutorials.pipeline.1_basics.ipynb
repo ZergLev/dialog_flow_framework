{
 "cells": [
  {
   "cell_type": "markdown",
   "id": "de8dc166",
   "metadata": {
    "cell_marker": "\"\"\""
   },
   "source": [
    "# 1. Basics\n",
    "\n",
    "The following tutorial shows basic usage of `pipeline`\n",
    "module as an extension to `dff.script.core`.\n",
    "\n",
    "Here, `__call__` (same as\n",
    "[run](../apiref/dff.pipeline.pipeline.pipeline.rst#dff.pipeline.pipeline.pipeline.Pipeline.run))\n",
    "method is used to execute pipeline once."
   ]
  },
  {
   "cell_type": "code",
   "execution_count": 1,
   "id": "777ed585",
   "metadata": {
    "execution": {
     "iopub.execute_input": "2024-04-18T14:43:51.715938Z",
     "iopub.status.busy": "2024-04-18T14:43:51.715719Z",
     "iopub.status.idle": "2024-04-18T14:43:53.895477Z",
     "shell.execute_reply": "2024-04-18T14:43:53.894588Z"
    }
   },
   "outputs": [
    {
     "name": "stdout",
     "output_type": "stream",
     "text": [
      "Note: you may need to restart the kernel to use updated packages.\n"
     ]
    }
   ],
   "source": [
    "# installing dependencies\n",
    "%pip install -q dff"
   ]
  },
  {
   "cell_type": "code",
   "execution_count": 2,
   "id": "1031bc29",
   "metadata": {
    "execution": {
     "iopub.execute_input": "2024-04-18T14:43:53.898641Z",
     "iopub.status.busy": "2024-04-18T14:43:53.898206Z",
     "iopub.status.idle": "2024-04-18T14:43:54.543917Z",
     "shell.execute_reply": "2024-04-18T14:43:54.543261Z"
    },
    "lines_to_next_cell": 2
   },
   "outputs": [],
   "source": [
    "from dff.script import Context, Message\n",
    "\n",
    "from dff.pipeline import Pipeline\n",
    "\n",
    "from dff.utils.testing import (\n",
    "    check_happy_path,\n",
    "    is_interactive_mode,\n",
    "    HAPPY_PATH,\n",
    "    TOY_SCRIPT,\n",
    "    TOY_SCRIPT_ARGS,\n",
    ")"
   ]
  },
  {
   "cell_type": "markdown",
   "id": "9b7148d7",
   "metadata": {
    "cell_marker": "\"\"\""
   },
   "source": [
    "`Pipeline` is an object, that automates script execution and context management.\n",
    "`from_script` method can be used to create\n",
    "a pipeline of the most basic structure:\n",
    "\"preprocessors -> actor -> postprocessors\"\n",
    "as well as to define `context_storage` and `messenger_interface`.\n",
    "Actor is a component of :py:class:`.Pipeline`, that contains the\n",
    ":py:class:`.Script` and handles it. It is responsible for processing\n",
    "user input and determining the appropriate response based on the\n",
    "current state of the conversation and the script.\n",
    "These parameters usage will be shown in tutorials 2, 3 and 6.\n",
    "\n",
    "Here only required parameters are provided to pipeline.\n",
    "`context_storage` will default to simple Python dict and\n",
    "`messenger_interface` will never be used.\n",
    "pre- and postprocessors lists are empty.\n",
    "`Pipeline` object can be called with user input\n",
    "as first argument and dialog id (any immutable object).\n",
    "This call will return `Context`,\n",
    "its `last_response` property will be actors response."
   ]
  },
  {
   "cell_type": "code",
   "execution_count": 3,
   "id": "7d5bbbf4",
   "metadata": {
    "execution": {
     "iopub.execute_input": "2024-04-18T14:43:54.547186Z",
     "iopub.status.busy": "2024-04-18T14:43:54.546743Z",
     "iopub.status.idle": "2024-04-18T14:43:54.550558Z",
     "shell.execute_reply": "2024-04-18T14:43:54.549896Z"
    },
    "lines_to_next_cell": 2
   },
   "outputs": [],
   "source": [
    "pipeline = Pipeline.from_script(\n",
    "    TOY_SCRIPT,\n",
    "    # Pipeline script object, defined in `dff.utils.testing.toy_script`\n",
    "    start_label=(\"greeting_flow\", \"start_node\"),\n",
    "    fallback_label=(\"greeting_flow\", \"fallback_node\"),\n",
    ")"
   ]
  },
  {
   "cell_type": "markdown",
   "id": "18673f19",
   "metadata": {
    "cell_marker": "\"\"\""
   },
   "source": [
    "For the sake of brevity, other tutorials\n",
    "might use `TOY_SCRIPT_ARGS` to initialize pipeline:"
   ]
  },
  {
   "cell_type": "code",
   "execution_count": 4,
   "id": "ff5ad998",
   "metadata": {
    "execution": {
     "iopub.execute_input": "2024-04-18T14:43:54.553150Z",
     "iopub.status.busy": "2024-04-18T14:43:54.552746Z",
     "iopub.status.idle": "2024-04-18T14:43:54.555988Z",
     "shell.execute_reply": "2024-04-18T14:43:54.555391Z"
    },
    "lines_to_next_cell": 2
   },
   "outputs": [],
   "source": [
    "assert TOY_SCRIPT_ARGS == (\n",
    "    TOY_SCRIPT,\n",
    "    (\"greeting_flow\", \"start_node\"),\n",
    "    (\"greeting_flow\", \"fallback_node\"),\n",
    ")"
   ]
  },
  {
   "cell_type": "code",
   "execution_count": 5,
   "id": "48cd6767",
   "metadata": {
    "execution": {
     "iopub.execute_input": "2024-04-18T14:43:54.558504Z",
     "iopub.status.busy": "2024-04-18T14:43:54.558081Z",
     "iopub.status.idle": "2024-04-18T14:43:54.572074Z",
     "shell.execute_reply": "2024-04-18T14:43:54.571349Z"
    }
   },
   "outputs": [
    {
     "name": "stdout",
     "output_type": "stream",
     "text": [
      "(user) >>> text='Hi'\n",
      " (bot) <<< text='Hi, how are you?'\n",
      "(user) >>> text='i'm fine, how are you?'\n",
      " (bot) <<< text='Good. What do you want to talk about?'\n",
      "(user) >>> text='Let's talk about music.'\n",
      " (bot) <<< text='Sorry, I can not talk about music now.'\n",
      "(user) >>> text='Ok, goodbye.'\n",
      " (bot) <<< text='bye'\n",
      "(user) >>> text='Hi'\n",
      " (bot) <<< text='Hi, how are you?'\n"
     ]
    }
   ],
   "source": [
    "if __name__ == \"__main__\":\n",
    "    check_happy_path(pipeline, HAPPY_PATH)\n",
    "    # a function for automatic tutorial running (testing) with HAPPY_PATH\n",
    "\n",
    "    # This runs tutorial in interactive mode if not in IPython env\n",
    "    # and if `DISABLE_INTERACTIVE_MODE` is not set\n",
    "    if is_interactive_mode():\n",
    "        ctx_id = 0  # 0 will be current dialog (context) identification.\n",
    "        while True:\n",
    "            message = Message(input(\"Send request: \"))\n",
    "            ctx: Context = pipeline(message, ctx_id)\n",
    "            print(ctx.last_response)"
   ]
  }
 ],
 "metadata": {
  "jupytext": {
   "cell_metadata_filter": "-all",
   "main_language": "python",
   "notebook_metadata_filter": "-all",
   "text_representation": {
    "extension": ".py",
    "format_name": "percent"
   }
  },
  "language_info": {
   "codemirror_mode": {
    "name": "ipython",
    "version": 3
   },
   "file_extension": ".py",
   "mimetype": "text/x-python",
   "name": "python",
   "nbconvert_exporter": "python",
   "pygments_lexer": "ipython3",
   "version": "3.9.19"
  }
 },
 "nbformat": 4,
 "nbformat_minor": 5
}
