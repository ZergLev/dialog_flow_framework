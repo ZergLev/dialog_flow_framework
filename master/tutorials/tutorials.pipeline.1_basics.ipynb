{
 "cells": [
  {
   "cell_type": "markdown",
   "id": "06032fd5",
   "metadata": {
    "cell_marker": "\"\"\""
   },
   "source": [
    "# 1. Basics\n",
    "\n",
    "The following tutorial shows basic usage of `pipeline`\n",
    "module as an extension to `dff.script.core`.\n",
    "\n",
    "Here, `__call__` (same as\n",
    "[run](../apiref/dff.pipeline.pipeline.pipeline.rst#dff.pipeline.pipeline.pipeline.Pipeline.run))\n",
    "method is used to execute pipeline once."
   ]
  },
  {
   "cell_type": "code",
   "execution_count": 1,
   "id": "f38bf09d",
   "metadata": {
    "execution": {
     "iopub.execute_input": "2024-04-18T11:42:07.385170Z",
     "iopub.status.busy": "2024-04-18T11:42:07.384626Z",
     "iopub.status.idle": "2024-04-18T11:42:09.664186Z",
     "shell.execute_reply": "2024-04-18T11:42:09.663358Z"
    }
   },
   "outputs": [
    {
     "name": "stdout",
     "output_type": "stream",
     "text": [
      "Note: you may need to restart the kernel to use updated packages.\n"
     ]
    }
   ],
   "source": [
    "# installing dependencies\n",
    "%pip install -q dff"
   ]
  },
  {
   "cell_type": "code",
   "execution_count": 2,
   "id": "af27c6b5",
   "metadata": {
    "execution": {
     "iopub.execute_input": "2024-04-18T11:42:09.667836Z",
     "iopub.status.busy": "2024-04-18T11:42:09.667617Z",
     "iopub.status.idle": "2024-04-18T11:42:10.450127Z",
     "shell.execute_reply": "2024-04-18T11:42:10.449381Z"
    },
    "lines_to_next_cell": 2
   },
   "outputs": [],
   "source": [
    "from dff.script import Context, Message\n",
    "\n",
    "from dff.pipeline import Pipeline\n",
    "\n",
    "from dff.utils.testing import (\n",
    "    check_happy_path,\n",
    "    is_interactive_mode,\n",
    "    HAPPY_PATH,\n",
    "    TOY_SCRIPT,\n",
    "    TOY_SCRIPT_ARGS,\n",
    ")"
   ]
  },
  {
   "cell_type": "markdown",
   "id": "97c28ada",
   "metadata": {
    "cell_marker": "\"\"\""
   },
   "source": [
    "`Pipeline` is an object, that automates script execution and context management.\n",
    "`from_script` method can be used to create\n",
    "a pipeline of the most basic structure:\n",
    "\"preprocessors -> actor -> postprocessors\"\n",
    "as well as to define `context_storage` and `messenger_interface`.\n",
    "Actor is a component of :py:class:`.Pipeline`, that contains the\n",
    ":py:class:`.Script` and handles it. It is responsible for processing\n",
    "user input and determining the appropriate response based on the\n",
    "current state of the conversation and the script.\n",
    "These parameters usage will be shown in tutorials 2, 3 and 6.\n",
    "\n",
    "Here only required parameters are provided to pipeline.\n",
    "`context_storage` will default to simple Python dict and\n",
    "`messenger_interface` will never be used.\n",
    "pre- and postprocessors lists are empty.\n",
    "`Pipeline` object can be called with user input\n",
    "as first argument and dialog id (any immutable object).\n",
    "This call will return `Context`,\n",
    "its `last_response` property will be actors response."
   ]
  },
  {
   "cell_type": "code",
   "execution_count": 3,
   "id": "87393340",
   "metadata": {
    "execution": {
     "iopub.execute_input": "2024-04-18T11:42:10.453516Z",
     "iopub.status.busy": "2024-04-18T11:42:10.453233Z",
     "iopub.status.idle": "2024-04-18T11:42:10.457396Z",
     "shell.execute_reply": "2024-04-18T11:42:10.456658Z"
    },
    "lines_to_next_cell": 2
   },
   "outputs": [],
   "source": [
    "pipeline = Pipeline.from_script(\n",
    "    TOY_SCRIPT,\n",
    "    # Pipeline script object, defined in `dff.utils.testing.toy_script`\n",
    "    start_label=(\"greeting_flow\", \"start_node\"),\n",
    "    fallback_label=(\"greeting_flow\", \"fallback_node\"),\n",
    ")"
   ]
  },
  {
   "cell_type": "markdown",
   "id": "698c26ca",
   "metadata": {
    "cell_marker": "\"\"\""
   },
   "source": [
    "For the sake of brevity, other tutorials\n",
    "might use `TOY_SCRIPT_ARGS` to initialize pipeline:"
   ]
  },
  {
   "cell_type": "code",
   "execution_count": 4,
   "id": "a8fc5bf0",
   "metadata": {
    "execution": {
     "iopub.execute_input": "2024-04-18T11:42:10.460275Z",
     "iopub.status.busy": "2024-04-18T11:42:10.459921Z",
     "iopub.status.idle": "2024-04-18T11:42:10.463798Z",
     "shell.execute_reply": "2024-04-18T11:42:10.463093Z"
    },
    "lines_to_next_cell": 2
   },
   "outputs": [],
   "source": [
    "assert TOY_SCRIPT_ARGS == (\n",
    "    TOY_SCRIPT,\n",
    "    (\"greeting_flow\", \"start_node\"),\n",
    "    (\"greeting_flow\", \"fallback_node\"),\n",
    ")"
   ]
  },
  {
   "cell_type": "code",
   "execution_count": 5,
   "id": "71255ac6",
   "metadata": {
    "execution": {
     "iopub.execute_input": "2024-04-18T11:42:10.466804Z",
     "iopub.status.busy": "2024-04-18T11:42:10.466323Z",
     "iopub.status.idle": "2024-04-18T11:42:10.485117Z",
     "shell.execute_reply": "2024-04-18T11:42:10.484334Z"
    }
   },
   "outputs": [
    {
     "name": "stdout",
     "output_type": "stream",
     "text": [
      "(user) >>> text='Hi'\n",
      " (bot) <<< text='Hi, how are you?'\n",
      "(user) >>> text='i'm fine, how are you?'\n",
      " (bot) <<< text='Good. What do you want to talk about?'\n",
      "(user) >>> text='Let's talk about music.'\n",
      " (bot) <<< text='Sorry, I can not talk about music now.'\n",
      "(user) >>> text='Ok, goodbye.'\n",
      " (bot) <<< text='bye'\n",
      "(user) >>> text='Hi'\n",
      " (bot) <<< text='Hi, how are you?'\n"
     ]
    }
   ],
   "source": [
    "if __name__ == \"__main__\":\n",
    "    check_happy_path(pipeline, HAPPY_PATH)\n",
    "    # a function for automatic tutorial running (testing) with HAPPY_PATH\n",
    "\n",
    "    # This runs tutorial in interactive mode if not in IPython env\n",
    "    # and if `DISABLE_INTERACTIVE_MODE` is not set\n",
    "    if is_interactive_mode():\n",
    "        ctx_id = 0  # 0 will be current dialog (context) identification.\n",
    "        while True:\n",
    "            message = Message(input(\"Send request: \"))\n",
    "            ctx: Context = pipeline(message, ctx_id)\n",
    "            print(ctx.last_response)"
   ]
  }
 ],
 "metadata": {
  "jupytext": {
   "cell_metadata_filter": "-all",
   "main_language": "python",
   "notebook_metadata_filter": "-all",
   "text_representation": {
    "extension": ".py",
    "format_name": "percent"
   }
  },
  "language_info": {
   "codemirror_mode": {
    "name": "ipython",
    "version": 3
   },
   "file_extension": ".py",
   "mimetype": "text/x-python",
   "name": "python",
   "nbconvert_exporter": "python",
   "pygments_lexer": "ipython3",
   "version": "3.9.19"
  }
 },
 "nbformat": 4,
 "nbformat_minor": 5
}
