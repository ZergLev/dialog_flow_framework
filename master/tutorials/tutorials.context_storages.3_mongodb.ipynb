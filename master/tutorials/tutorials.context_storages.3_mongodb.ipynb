{
 "cells": [
  {
   "cell_type": "markdown",
   "id": "4669a4de",
   "metadata": {
    "cell_marker": "\"\"\""
   },
   "source": [
    "# 3. MongoDB\n",
    "\n",
    "This is a tutorial on using MongoDB.\n",
    "\n",
    "See [MongoContextStorage](../apiref/dff.context_storages.mongo.rst#dff.context_storages.mongo.MongoContextStorage) class\n",
    "for storing you users' contexts in Mongo database.\n",
    "\n",
    "DFF uses [motor](https://motor.readthedocs.io/en/stable/)\n",
    "library for asynchronous access to MongoDB."
   ]
  },
  {
   "cell_type": "code",
   "execution_count": 1,
   "id": "d0b8e9da",
   "metadata": {
    "execution": {
     "iopub.execute_input": "2024-05-02T11:39:36.341801Z",
     "iopub.status.busy": "2024-05-02T11:39:36.341236Z",
     "iopub.status.idle": "2024-05-02T11:39:38.476304Z",
     "shell.execute_reply": "2024-05-02T11:39:38.475388Z"
    }
   },
   "outputs": [
    {
     "name": "stdout",
     "output_type": "stream",
     "text": [
      "Note: you may need to restart the kernel to use updated packages.\n"
     ]
    }
   ],
   "source": [
    "# installing dependencies\n",
    "%pip install -q dff[mongodb]"
   ]
  },
  {
   "cell_type": "code",
   "execution_count": 2,
   "id": "6d3eacde",
   "metadata": {
    "execution": {
     "iopub.execute_input": "2024-05-02T11:39:38.479133Z",
     "iopub.status.busy": "2024-05-02T11:39:38.478910Z",
     "iopub.status.idle": "2024-05-02T11:39:39.077415Z",
     "shell.execute_reply": "2024-05-02T11:39:39.076764Z"
    },
    "lines_to_next_cell": 2
   },
   "outputs": [],
   "source": [
    "import os\n",
    "\n",
    "from dff.context_storages import context_storage_factory\n",
    "\n",
    "from dff.pipeline import Pipeline\n",
    "from dff.utils.testing.common import (\n",
    "    check_happy_path,\n",
    "    is_interactive_mode,\n",
    "    run_interactive_mode,\n",
    ")\n",
    "from dff.utils.testing.toy_script import TOY_SCRIPT_ARGS, HAPPY_PATH"
   ]
  },
  {
   "cell_type": "code",
   "execution_count": 3,
   "id": "ec449aa4",
   "metadata": {
    "execution": {
     "iopub.execute_input": "2024-05-02T11:39:39.080802Z",
     "iopub.status.busy": "2024-05-02T11:39:39.080072Z",
     "iopub.status.idle": "2024-05-02T11:39:39.089571Z",
     "shell.execute_reply": "2024-05-02T11:39:39.089015Z"
    },
    "lines_to_next_cell": 2
   },
   "outputs": [],
   "source": [
    "db_uri = \"mongodb://{}:{}@localhost:27017/{}\".format(\n",
    "    os.environ[\"MONGO_INITDB_ROOT_USERNAME\"],\n",
    "    os.environ[\"MONGO_INITDB_ROOT_PASSWORD\"],\n",
    "    os.environ[\"MONGO_INITDB_ROOT_USERNAME\"],\n",
    ")\n",
    "db = context_storage_factory(db_uri)\n",
    "\n",
    "pipeline = Pipeline.from_script(*TOY_SCRIPT_ARGS, context_storage=db)"
   ]
  },
  {
   "cell_type": "code",
   "execution_count": 4,
   "id": "819f4064",
   "metadata": {
    "execution": {
     "iopub.execute_input": "2024-05-02T11:39:39.091954Z",
     "iopub.status.busy": "2024-05-02T11:39:39.091753Z",
     "iopub.status.idle": "2024-05-02T11:39:39.129711Z",
     "shell.execute_reply": "2024-05-02T11:39:39.129055Z"
    }
   },
   "outputs": [
    {
     "name": "stdout",
     "output_type": "stream",
     "text": [
      "(user) >>> text='Hi'\n",
      " (bot) <<< text='Hi, how are you?'\n",
      "(user) >>> text='i'm fine, how are you?'\n",
      " (bot) <<< text='Good. What do you want to talk about?'\n",
      "(user) >>> text='Let's talk about music.'\n",
      " (bot) <<< text='Sorry, I can not talk about music now.'\n",
      "(user) >>> text='Ok, goodbye.'\n",
      " (bot) <<< text='bye'\n",
      "(user) >>> text='Hi'\n",
      " (bot) <<< text='Hi, how are you?'\n"
     ]
    }
   ],
   "source": [
    "if __name__ == \"__main__\":\n",
    "    check_happy_path(pipeline, HAPPY_PATH)\n",
    "    if is_interactive_mode():\n",
    "        run_interactive_mode(pipeline)"
   ]
  }
 ],
 "metadata": {
  "jupytext": {
   "cell_metadata_filter": "-all",
   "main_language": "python",
   "notebook_metadata_filter": "-all",
   "text_representation": {
    "extension": ".py",
    "format_name": "percent"
   }
  },
  "language_info": {
   "codemirror_mode": {
    "name": "ipython",
    "version": 3
   },
   "file_extension": ".py",
   "mimetype": "text/x-python",
   "name": "python",
   "nbconvert_exporter": "python",
   "pygments_lexer": "ipython3",
   "version": "3.9.19"
  }
 },
 "nbformat": 4,
 "nbformat_minor": 5
}
